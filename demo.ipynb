{
 "cells": [
  {
   "cell_type": "markdown",
   "metadata": {},
   "source": [
    "# Class 1"
   ]
  },
  {
   "cell_type": "markdown",
   "metadata": {},
   "source": [
    "# Variable"
   ]
  },
  {
   "cell_type": "code",
   "execution_count": 2,
   "metadata": {},
   "outputs": [
    {
     "data": {
      "text/plain": [
       "140729505487576"
      ]
     },
     "execution_count": 2,
     "metadata": {},
     "output_type": "execute_result"
    }
   ],
   "source": [
    "# Variable is a container that stores value or values \n",
    "# It can be change when the operations are performed on it\n",
    "\n",
    "# Some rules to create varibale\n",
    "\n",
    "# Variable name can not start with a digit\n",
    "# For ex- 1a = 10 #wrong\n",
    "\n",
    "# there is no spaces are allowed in variable name\n",
    "# student name  = \"Madrid\" # wrong\n",
    "\n",
    "# student_name = \"Madrid\"\n",
    "\n",
    "# python is case sensitive\n",
    "# a = 10\n",
    "# A = 10\n",
    "\n",
    "# automatic memeory allocation \n",
    "a = 10 \n",
    "id(a)\n",
    "\n",
    "# keywordsa are never used as an varibale name\n",
    "# they are known as \"reserved\" keywords\n",
    "\n",
    "\n"
   ]
  },
  {
   "cell_type": "markdown",
   "metadata": {},
   "source": [
    "# Operators"
   ]
  },
  {
   "cell_type": "code",
   "execution_count": null,
   "metadata": {},
   "outputs": [],
   "source": [
    "# Arithmetic\n",
    "# Comparision\n",
    "# Assignment\n",
    "# Logical Operator\n",
    "# Bitwise\n",
    "\n",
    "\n",
    "# Airthmetic\n",
    "# +, -, *, /, //, %,**"
   ]
  },
  {
   "cell_type": "code",
   "execution_count": 5,
   "metadata": {},
   "outputs": [
    {
     "data": {
      "text/plain": [
       "10000000000000000000000000000000000000000000000"
      ]
     },
     "execution_count": 5,
     "metadata": {},
     "output_type": "execute_result"
    }
   ],
   "source": [
    "a = 100\n",
    "b = 23\n",
    "\n",
    "# a+b\n",
    "# a-b\n",
    "# a/b\n",
    "# a%b\n",
    "# a//b     #  floor division\n",
    "# a**b\n"
   ]
  },
  {
   "cell_type": "markdown",
   "metadata": {},
   "source": [
    "# Output Function"
   ]
  },
  {
   "cell_type": "code",
   "execution_count": 10,
   "metadata": {},
   "outputs": [
    {
     "name": "stdout",
     "output_type": "stream",
     "text": [
      "the value is : 12\n"
     ]
    }
   ],
   "source": [
    "# print()\n",
    "# msg\n",
    "\n",
    "# print(\"Hello World!!!\")\n",
    "\n",
    "# for value of the variable\n",
    "\n",
    "# a = 12\n",
    "# print(a)\n",
    "\n",
    "# Msg with value\n",
    "\n",
    "b = 100\n",
    "print(\"the value is :\",a)"
   ]
  },
  {
   "cell_type": "code",
   "execution_count": 11,
   "metadata": {},
   "outputs": [
    {
     "name": "stdout",
     "output_type": "stream",
     "text": [
      "33\n",
      "the sum is : 33\n"
     ]
    }
   ],
   "source": [
    "# Declaration\n",
    "a = 12\n",
    "b = 21\n",
    "# logic\n",
    "c = a + b\n",
    "# output\n",
    "print(c)\n",
    "print(\"the sum is :\",c)"
   ]
  },
  {
   "cell_type": "code",
   "execution_count": 13,
   "metadata": {},
   "outputs": [
    {
     "name": "stdout",
     "output_type": "stream",
     "text": [
      "the interset is : 13.5\n"
     ]
    }
   ],
   "source": [
    "# Simple Interset\n",
    "p = 100\n",
    "r = 4.5\n",
    "t = 3\n",
    "si = (p * r * t)/100\n",
    "print(\"the interset is :\",si)\n"
   ]
  },
  {
   "cell_type": "code",
   "execution_count": 15,
   "metadata": {},
   "outputs": [
    {
     "name": "stdout",
     "output_type": "stream",
     "text": [
      "The average is: 2.0\n"
     ]
    }
   ],
   "source": [
    "# average\n",
    "a = 1 \n",
    "b = 2 \n",
    "c = 3\n",
    "d = (a + b + c)/3\n",
    "print(\"The average is:\",d)\n",
    "\n",
    "# P --- Parenthesis\n",
    "# E -- Exponenet\n",
    "# M --- Mutliplucation \n",
    "# D --- Division\n",
    "# A --- Addition\n",
    "# S --- Subtraction\n"
   ]
  },
  {
   "cell_type": "code",
   "execution_count": 17,
   "metadata": {},
   "outputs": [
    {
     "name": "stdout",
     "output_type": "stream",
     "text": [
      "the percentage is : 54.5\n"
     ]
    }
   ],
   "source": [
    "# calculator percentage \n",
    "p = 56\n",
    "c = 52\n",
    "d = 45\n",
    "e = 65\n",
    "average = (p + c + d + e)/4\n",
    "percentage = (average *100)/100\n",
    "print(\"the percentage is :\",percentage)"
   ]
  },
  {
   "cell_type": "code",
   "execution_count": 18,
   "metadata": {},
   "outputs": [
    {
     "data": {
      "text/plain": [
       "int"
      ]
     },
     "execution_count": 18,
     "metadata": {},
     "output_type": "execute_result"
    }
   ],
   "source": [
    "# input ----- Runtime Values\n",
    "\n",
    "# Integer ---- int(input(\"Enter the number\"))\n",
    "\n",
    "# Decimal ---- float(input(\"Enter the number\"))\n",
    "\n",
    "# String or charactor --- input(\"Msg\")\n",
    "\n",
    "\n",
    "a = 10\n",
    "type(a)"
   ]
  },
  {
   "cell_type": "code",
   "execution_count": 21,
   "metadata": {},
   "outputs": [
    {
     "data": {
      "text/plain": [
       "float"
      ]
     },
     "execution_count": 21,
     "metadata": {},
     "output_type": "execute_result"
    }
   ],
   "source": [
    "b = 45.5\n",
    "type(b)"
   ]
  },
  {
   "cell_type": "code",
   "execution_count": 22,
   "metadata": {},
   "outputs": [
    {
     "data": {
      "text/plain": [
       "str"
      ]
     },
     "execution_count": 22,
     "metadata": {},
     "output_type": "execute_result"
    }
   ],
   "source": [
    "c = \"Hello\"\n",
    "type(c)"
   ]
  },
  {
   "cell_type": "code",
   "execution_count": 23,
   "metadata": {},
   "outputs": [
    {
     "data": {
      "text/plain": [
       "list"
      ]
     },
     "execution_count": 23,
     "metadata": {},
     "output_type": "execute_result"
    }
   ],
   "source": [
    "a = [1,2,3]\n",
    "type(a)"
   ]
  },
  {
   "cell_type": "code",
   "execution_count": 24,
   "metadata": {},
   "outputs": [
    {
     "data": {
      "text/plain": [
       "tuple"
      ]
     },
     "execution_count": 24,
     "metadata": {},
     "output_type": "execute_result"
    }
   ],
   "source": [
    "b = (12,13,14)\n",
    "type(b)"
   ]
  },
  {
   "cell_type": "code",
   "execution_count": 25,
   "metadata": {},
   "outputs": [
    {
     "data": {
      "text/plain": [
       "set"
      ]
     },
     "execution_count": 25,
     "metadata": {},
     "output_type": "execute_result"
    }
   ],
   "source": [
    "c = {\"a\",\"b\",\"c\"}\n",
    "type(c)"
   ]
  },
  {
   "cell_type": "code",
   "execution_count": 27,
   "metadata": {},
   "outputs": [
    {
     "data": {
      "text/plain": [
       "dict"
      ]
     },
     "execution_count": 27,
     "metadata": {},
     "output_type": "execute_result"
    }
   ],
   "source": [
    "d = {\"a\": 1,\"b\": 2,\"c\": 3}\n",
    "type(d)"
   ]
  },
  {
   "cell_type": "code",
   "execution_count": 29,
   "metadata": {},
   "outputs": [
    {
     "name": "stdout",
     "output_type": "stream",
     "text": [
      "The sum is : 24\n"
     ]
    }
   ],
   "source": [
    "# Runtime values :\n",
    "# sum of two numbers\n",
    "\n",
    "a = int(input(\"Enter the first number\"))\n",
    "b = int(input(\"Enter the second number\"))\n",
    "Sum_of_Two_Numbers = (a+b)\n",
    "print(\"The sum is :\",Sum_of_Two_Numbers)\n",
    "\n"
   ]
  },
  {
   "cell_type": "code",
   "execution_count": 33,
   "metadata": {},
   "outputs": [],
   "source": [
    "Principal = int(input(\"Enter the Principal Number\"))\n",
    "Rate = int(input(\"Enter the Rate Number\"))\n",
    "Time = int(input(\"Enter the time\"))\n",
    "\n",
    "Simple_Interset = (Principal * Rate * Time)/100\n",
    "\n",
    "print(\"The Simple Interset is :\",Simple_Interset)\n",
    "type(Simple_Interset)"
   ]
  },
  {
   "cell_type": "code",
   "execution_count": 2,
   "metadata": {},
   "outputs": [
    {
     "name": "stdout",
     "output_type": "stream",
     "text": [
      "The average of third Numbers : 2.0\n"
     ]
    }
   ],
   "source": [
    "a = float(input(\"Enter the First Number\"))\n",
    "b = float(input(\"Enter hte Second Number\"))\n",
    "c = float(input(\"Enter the third Number\"))\n",
    "\n",
    "Average = (a+b+c)/3\n",
    "print(\"The average of third Numbers :\",Average) "
   ]
  },
  {
   "cell_type": "code",
   "execution_count": 4,
   "metadata": {},
   "outputs": [
    {
     "name": "stdout",
     "output_type": "stream",
     "text": [
      "The Percentage of Five Subjects are : 95.2\n"
     ]
    }
   ],
   "source": [
    "Maths = int(input(\"Enter the Maths Marks\"))\n",
    "Chemestry = int(input(\"Enter the Chemsetry Marks\"))\n",
    "Physics = int(input(\"Enter the Physics Marks\"))\n",
    "English = int(input(\"Enter the English Marks\"))\n",
    "Hindi = int(input(\"Enter the Hindi Marks\"))\n",
    "\n",
    "Percentage = ((Maths + Chemestry + Physics + English + Hindi) * 100) / 500\n",
    "\n",
    "print(\"The Percentage of Five Subjects are :\",Percentage)"
   ]
  },
  {
   "cell_type": "code",
   "execution_count": 6,
   "metadata": {},
   "outputs": [
    {
     "name": "stdout",
     "output_type": "stream",
     "text": [
      "1.4142135623730951\n"
     ]
    }
   ],
   "source": [
    "import math\n",
    "a = math.sqrt(int(input(\"Enter the Number\")))\n",
    "print(a)"
   ]
  },
  {
   "cell_type": "code",
   "execution_count": 10,
   "metadata": {},
   "outputs": [
    {
     "name": "stdout",
     "output_type": "stream",
     "text": [
      "100.0\n"
     ]
    }
   ],
   "source": [
    "# pow(base,exponent)\n",
    "a = int(input(\"Enter the base Number\"))\n",
    "b = int(input(\"Enter the power Number\"))\n",
    "cal_power = math.pow(a,b)\n",
    "print(cal_power)"
   ]
  },
  {
   "cell_type": "code",
   "execution_count": 16,
   "metadata": {},
   "outputs": [
    {
     "name": "stdout",
     "output_type": "stream",
     "text": [
      "a==b False\n",
      "a>=b True\n",
      "a<=b False\n",
      "a!=b True\n",
      "a>b True\n",
      "a<b False\n"
     ]
    }
   ],
   "source": [
    "# Comparision Operator\n",
    "\n",
    "#  == \n",
    "    #  What is Differnce Between = and ==\n",
    "\n",
    "# a = 10\n",
    "# a == 10\n",
    "\n",
    "# <\n",
    "# >\n",
    "# <=\n",
    "# >=\n",
    "\n",
    "a = int(input(\"Enter the Number\"))\n",
    "b = int(input(\"Enter the Number\"))\n",
    "print(\"a==b\",a==b)\n",
    "print(\"a>=b\",a>=b)\n",
    "print(\"a<=b\",a<=b)\n",
    "print(\"a!=b\",a!=b)\n",
    "print(\"a>b\",a>b)\n",
    "print(\"a<b\",a<b)\n",
    "\n"
   ]
  },
  {
   "cell_type": "markdown",
   "metadata": {},
   "source": [
    "# Class - 2"
   ]
  },
  {
   "cell_type": "markdown",
   "metadata": {},
   "source": [
    "# Conditional Statements "
   ]
  },
  {
   "cell_type": "code",
   "execution_count": 13,
   "metadata": {},
   "outputs": [
    {
     "name": "stdout",
     "output_type": "stream",
     "text": [
      "+ve number\n",
      "Even Number\n",
      "This is a Leap Year\n",
      "You are eligible\n"
     ]
    }
   ],
   "source": [
    "# if ------ only if\n",
    "# if then else\n",
    "# if elif ladder from \n",
    "# nested if\n",
    "\n",
    "\n",
    "\n",
    "# if ------ only if\n",
    "#  if condition:\n",
    "        # statement\n",
    "# For ex-:  \n",
    "n = int(input(\"Enter the number\"))\n",
    "if n > 0:\n",
    "    print(\"+ve number\")\n",
    "if n < 0:\n",
    "    print(\"-ve Number\")\n",
    "if n == 0:\n",
    "    print(\"Number itself is zero\")\n",
    "\n",
    "# if then else\n",
    "# if conditon:\n",
    "#     statement\n",
    "# else:\n",
    "#     statement\n",
    "\n",
    "# for ex:-\n",
    "n = int(input(\"Enter the Number\"))\n",
    "if n % 2 == 0:\n",
    "    print(\"Even Number\")\n",
    "else:\n",
    "    print(\"Odd Number\")\n",
    "\n",
    "\n",
    "\n",
    "Year = int(input(\"Enter the Year\"))\n",
    "if Year % 4 == 0:\n",
    "    print(\"This is a Leap Year\")\n",
    "else:\n",
    "    print(\"Not a Leap Year\")\n",
    "\n",
    "\n",
    "age = int(input(\"Enter your age\"))\n",
    "if age >=18:\n",
    "    print(\"You are eligible\")\n",
    "else:\n",
    "    print(\"You are not eligible\")\n"
   ]
  },
  {
   "cell_type": "code",
   "execution_count": 14,
   "metadata": {},
   "outputs": [
    {
     "name": "stdout",
     "output_type": "stream",
     "text": [
      "5\n"
     ]
    }
   ],
   "source": [
    "#  Change to positive Number if -ve then being entered\n",
    "\n",
    "n = int(input(\"Enter the Number\"))\n",
    "if n<0:\n",
    "    print(n*(-1))\n",
    "else:\n",
    "    print(n)"
   ]
  },
  {
   "cell_type": "code",
   "execution_count": 15,
   "metadata": {},
   "outputs": [
    {
     "name": "stdout",
     "output_type": "stream",
     "text": [
      "THR\n"
     ]
    }
   ],
   "source": [
    "# If elif ladder from\n",
    "# if conditon:\n",
    "#     statement\n",
    "# elif condition:\n",
    "#     statememt\n",
    "# else:\n",
    "#     statement\n",
    "\n",
    "\n",
    "\n",
    "# For ex:-\n",
    "Day = int(input(\"Enter the Number between 1 to 7 :\"))\n",
    "if Day == 1:\n",
    "    print(\"SUN\")\n",
    "elif Day == 2:\n",
    "    print(\"MON\")\n",
    "elif Day == 3:\n",
    "    print(\"TUE\")\n",
    "elif Day == 4:\n",
    "    print(\"WED\")\n",
    "elif Day == 5:\n",
    "    print(\"THU\")\n",
    "elif Day == 6:\n",
    "    print(\"FRI\")\n",
    "elif Day == 7:\n",
    "    print(\"SAT\")\n",
    "else:\n",
    "    print(\"INVALID Number\")\n",
    "\n"
   ]
  },
  {
   "cell_type": "code",
   "execution_count": 16,
   "metadata": {},
   "outputs": [
    {
     "name": "stdout",
     "output_type": "stream",
     "text": [
      "First Div\n"
     ]
    }
   ],
   "source": [
    "p = float(input(\"Enter the P marks\"))\n",
    "c = float(input(\"Enter the c marks\"))\n",
    "m = float(input(\"Enter the m marks\"))\n",
    "e = float(input(\"Enter the e marks\"))\n",
    "h = float(input(\"Enter the h marks\"))\n",
    "\n",
    "per = ((p + c + m + e + h)*100)/500\n",
    "\n",
    "if per >= 60:\n",
    "    print(\"First Div\")\n",
    "elif per >=45:\n",
    "    print(\"Second Div\") \n",
    "elif per >= 33:\n",
    "    print(\"Third Div\")\n",
    "else:\n",
    "    print(\"Fail\")\n"
   ]
  },
  {
   "cell_type": "code",
   "execution_count": 18,
   "metadata": {},
   "outputs": [
    {
     "name": "stdout",
     "output_type": "stream",
     "text": [
      "7 Greater then a and c\n"
     ]
    }
   ],
   "source": [
    "# Logical Operator\n",
    "\n",
    "# and --- all conditions must be true\n",
    "# or --- any of them condition is true\n",
    "\n",
    "# For ex-: Greatest Number among the three of them\n",
    "a = int(input(\"Enter the First Number \"))\n",
    "b = int(input(\"Enter the Second Number\"))\n",
    "c = int(input(\"Enter the Third Number\"))\n",
    "\n",
    "if a > b and a > c :\n",
    "    print(a,\"Greatest Number among the three of them\")\n",
    "elif b > a and b > c:\n",
    "    print(b, \"Greater then a and c\")\n",
    "else:\n",
    "    print(c,\"Greater then a and b\")\n",
    "\n"
   ]
  },
  {
   "cell_type": "code",
   "execution_count": 22,
   "metadata": {},
   "outputs": [
    {
     "name": "stdout",
     "output_type": "stream",
     "text": [
      "Consonants\n"
     ]
    }
   ],
   "source": [
    "# Check vowel or consonants\n",
    "\n",
    "ch = input(\"Enter the Alphabet\")\n",
    "# if ch == 'a' or ch == 'e' or ch == 'i' or ch == 'o' or ch == 'u':\n",
    "#     print(\"Vowels Alphabets\")\n",
    "# elif ch == 'A' or ch == 'E' or ch == 'I' or ch == 'O' or ch == 'U':\n",
    "#     print(\"Vowles Alphabets\")\n",
    "# else:\n",
    "#     print(\"Consonants\")\n",
    "\n",
    "# Easy Way\n",
    "\n",
    "if ch in ['a','e','i','o','u','A','E','I','O','U']:\n",
    "    print(\"Vowels\")\n",
    "else:\n",
    "    print(\"Consonants\")\n"
   ]
  },
  {
   "cell_type": "code",
   "execution_count": 34,
   "metadata": {},
   "outputs": [
    {
     "name": "stdout",
     "output_type": "stream",
     "text": [
      "STOP\n"
     ]
    }
   ],
   "source": [
    "# Traffic Lights\n",
    "traffic_light = input(\"Enter the light \\n r for Red \\n y for Yellow \\n g for Green\")\n",
    "\n",
    "if traffic_light == 'r' or traffic_light == 'R':\n",
    "    print(\"STOP\")\n",
    "elif traffic_light == 'y' or traffic_light == 'Y':\n",
    "    print(\"READY\")\n",
    "elif traffic_light == 'g' or traffic_light == 'G':\n",
    "    print(\"Go\")\n",
    "else:\n",
    "    print(\"Pay Chalan\")\n",
    "\n",
    "\n",
    "\n",
    "# if traffic_light in ['r','y','g','R','Y',\"G\"]:\n",
    "#     print(\"Traffic Light\")\n",
    "# else:\n",
    "#     print(\"Not the Traffic Light\")"
   ]
  },
  {
   "cell_type": "code",
   "execution_count": 33,
   "metadata": {},
   "outputs": [
    {
     "name": "stdout",
     "output_type": "stream",
     "text": [
      "This is a recatangle\n",
      "The area of the rectange : 6\n"
     ]
    }
   ],
   "source": [
    "Length = int(input(\"Enter the Length\"))\n",
    "Breath = int(input(\"Enter the Breadth\"))\n",
    "\n",
    "if Length == Breath:\n",
    "    print(\"This is a Square\")\n",
    "    print(\"The area of the square is :\",Length ** 2)\n",
    "else:\n",
    "    print(\"This is a recatangle\")\n",
    "    print(\"The area of the rectange :\",Length * Breath)\n",
    "    "
   ]
  },
  {
   "cell_type": "code",
   "execution_count": 10,
   "metadata": {},
   "outputs": [
    {
     "name": "stdout",
     "output_type": "stream",
     "text": [
      "Don't Feed Me!\n"
     ]
    }
   ],
   "source": [
    "Hungry = bool(int(input(\"Enter 1 for True or 0 for False: \")))\n",
    "if Hungry:\n",
    "    print(\"Feed Me!\")\n",
    "else:\n",
    "    print(\"Don't Feed Me!\")\n",
    "\n",
    "\n",
    "\n"
   ]
  },
  {
   "cell_type": "code",
   "execution_count": 48,
   "metadata": {},
   "outputs": [
    {
     "name": "stdout",
     "output_type": "stream",
     "text": [
      "Cars are cool\n"
     ]
    }
   ],
   "source": [
    "loc = input(\"Enter the Auto Shop \\n Bank \\n Store\")\n",
    "if loc == 'Auto Shop':\n",
    "    print(\"Cars are cool\")\n",
    "elif loc == 'Bank':\n",
    "    print(\"Money is cool!\")\n",
    "elif loc == 'Store':\n",
    "    print(\"Welcome to the store\")\n",
    "else:\n",
    "    print(\"I do not Know so much\")"
   ]
  },
  {
   "cell_type": "markdown",
   "metadata": {},
   "source": [
    "# Class 3\n"
   ]
  },
  {
   "cell_type": "code",
   "execution_count": 4,
   "metadata": {},
   "outputs": [
    {
     "name": "stdout",
     "output_type": "stream",
     "text": [
      "9 c is greatest\n"
     ]
    }
   ],
   "source": [
    "# Nested Loop\n",
    "\n",
    "a = int(input(\"Enter the Number\"))\n",
    "b = int(input(\"Enter the Number\"))\n",
    "c = int(input(\"Enter the Number\"))\n",
    "\n",
    "if(a>b):\n",
    "    if(a>c):\n",
    "        print(a,\"a is greatest\")\n",
    "    else:\n",
    "        print(c,\"c is greatest\")\n",
    "else:\n",
    "    if(b>c):\n",
    "        print(b,\"b is greatest\")\n",
    "    else:\n",
    "        print(c,\"c is greatest\")\n"
   ]
  },
  {
   "cell_type": "code",
   "execution_count": 7,
   "metadata": {},
   "outputs": [
    {
     "name": "stdout",
     "output_type": "stream",
     "text": [
      "Nirmit Malik\n",
      "Nirmit Malik\n",
      "Nirmit Malik\n",
      "Nirmit Malik\n",
      "Nirmit Malik\n",
      "Nirmit Malik\n",
      "Nirmit Malik\n",
      "Nirmit Malik\n",
      "Nirmit Malik\n",
      "Nirmit Malik\n"
     ]
    }
   ],
   "source": [
    "# Loop statements\n",
    "\n",
    "# While loop --- Interview\n",
    "# For loop --- For Projects\n",
    "\n",
    "# Syntax\n",
    "\n",
    "# var_intitalization  // From where to start\n",
    "# While condition: // where to stop\n",
    "    # statement / logic\n",
    "    # inc / decr\n",
    "\n",
    "\n",
    "# print your names\n",
    "\n",
    "\n",
    "i = 0\n",
    "while(i < 10):\n",
    "    print(\"Nirmit Malik\")\n",
    "    i+=1\n",
    "\n"
   ]
  },
  {
   "cell_type": "code",
   "execution_count": 8,
   "metadata": {},
   "outputs": [
    {
     "name": "stdout",
     "output_type": "stream",
     "text": [
      "1\n",
      "2\n",
      "3\n",
      "4\n",
      "5\n",
      "6\n",
      "7\n",
      "8\n",
      "9\n",
      "10\n"
     ]
    }
   ],
   "source": [
    "# print first Natural Number\n",
    "i = 1\n",
    "while(i<=10):\n",
    "    print(i)\n",
    "    i+=1\n",
    "\n"
   ]
  },
  {
   "cell_type": "code",
   "execution_count": 11,
   "metadata": {},
   "outputs": [
    {
     "name": "stdout",
     "output_type": "stream",
     "text": [
      "10 9 8 7 6 5 4 3 2 1 "
     ]
    }
   ],
   "source": [
    "# Print First Natural Number\n",
    "i = 10\n",
    "while(i>0):\n",
    "    print(i,end=\" \")\n",
    "    i-=1"
   ]
  },
  {
   "cell_type": "code",
   "execution_count": 14,
   "metadata": {},
   "outputs": [
    {
     "name": "stdout",
     "output_type": "stream",
     "text": [
      "55\n"
     ]
    }
   ],
   "source": [
    "i = 1\n",
    "sum = 0\n",
    "while(i <= 10):\n",
    "    sum+=i\n",
    "    i+=1\n",
    "print(sum)\n",
    "    "
   ]
  },
  {
   "cell_type": "code",
   "execution_count": 24,
   "metadata": {},
   "outputs": [
    {
     "name": "stdout",
     "output_type": "stream",
     "text": [
      "1 3 5 7 9 11 13 15 17 19 21 23 25 27 29 31 33 35 37 39 41 43 45 47 49 51 53 55 57 59 61 63 65 67 69 71 73 75 77 79 81 83 85 87 89 91 93 95 97 99 "
     ]
    }
   ],
   "source": [
    "i = 1\n",
    "while(i <= 100):\n",
    "    if(i % 2 != 0):\n",
    "        print(i,end = \" \")\n",
    "    i+=1\n"
   ]
  },
  {
   "cell_type": "code",
   "execution_count": 33,
   "metadata": {},
   "outputs": [
    {
     "name": "stdout",
     "output_type": "stream",
     "text": [
      "Sum from 1 to 100 of all even Numbers is : 2550  &  Sum from 1 to 100 all odd Numbers are : 2500\n"
     ]
    }
   ],
   "source": [
    "# Print the sum of all even Numbers and odd Number\n",
    "\n",
    "i = 1\n",
    "s_e = 0\n",
    "s_o = 0\n",
    "while(i<=100):\n",
    "    if(i%2 == 0):\n",
    "        s_e+=i\n",
    "    else:\n",
    "        s_o+=i\n",
    "    i+=1\n",
    "print(\"Sum from 1 to 100 of all even Numbers is :\",s_e ,\" &  Sum from 1 to 100 all odd Numbers are :\", s_o)\n"
   ]
  },
  {
   "cell_type": "code",
   "execution_count": 8,
   "metadata": {},
   "outputs": [
    {
     "name": "stdout",
     "output_type": "stream",
     "text": [
      "3548464546416516468415641541655641651561 * 1 = 3548464546416516468415641541655641651561\n",
      "3548464546416516468415641541655641651561 * 2 = 7096929092833032936831283083311283303122\n",
      "3548464546416516468415641541655641651561 * 3 = 10645393639249549405246924624966924954683\n",
      "3548464546416516468415641541655641651561 * 4 = 14193858185666065873662566166622566606244\n",
      "3548464546416516468415641541655641651561 * 5 = 17742322732082582342078207708278208257805\n",
      "3548464546416516468415641541655641651561 * 6 = 21290787278499098810493849249933849909366\n",
      "3548464546416516468415641541655641651561 * 7 = 24839251824915615278909490791589491560927\n",
      "3548464546416516468415641541655641651561 * 8 = 28387716371332131747325132333245133212488\n",
      "3548464546416516468415641541655641651561 * 9 = 31936180917748648215740773874900774864049\n",
      "3548464546416516468415641541655641651561 * 10 = 35484645464165164684156415416556416515610\n"
     ]
    }
   ],
   "source": [
    "# Table of the Given Number\n",
    "a = int(input(\"Enter the Given Number\"))\n",
    "i = 1\n",
    "while(i <= 10):\n",
    "    print(a,\"*\",i,\"=\",a*i)\n",
    "    i+=1"
   ]
  },
  {
   "cell_type": "code",
   "execution_count": 12,
   "metadata": {},
   "outputs": [
    {
     "name": "stdout",
     "output_type": "stream",
     "text": [
      "1,2,4,13,26,52,"
     ]
    }
   ],
   "source": [
    "# Factors of the Given Number\n",
    "\n",
    "a = int(input(\"Enter the Number\"))\n",
    "i=1\n",
    "\n",
    "while(i<=a):\n",
    "    if(a%i == 0):\n",
    "        print(i,end=\",\")\n",
    "    i+=1"
   ]
  },
  {
   "cell_type": "code",
   "execution_count": 30,
   "metadata": {},
   "outputs": [
    {
     "name": "stdout",
     "output_type": "stream",
     "text": [
      "6\n"
     ]
    }
   ],
   "source": [
    "# Factorial of the Given Number\n",
    "a = int(input('Enter the given Number'))\n",
    "fact = 1\n",
    "i = 1\n",
    "# while(a>0):\n",
    "#     i = i * a\n",
    "#     a-= 1\n",
    "# print(i)\n",
    "\n",
    "while(i<=a):\n",
    "    fact = fact * i\n",
    "    i += 1\n",
    "print(fact)\n",
    "\n"
   ]
  },
  {
   "cell_type": "code",
   "execution_count": 24,
   "metadata": {},
   "outputs": [
    {
     "name": "stdout",
     "output_type": "stream",
     "text": [
      "Given Number is a prime Number\n"
     ]
    }
   ],
   "source": [
    "# Count of the given Number\n",
    "\n",
    "a = int(input(\"Enter the Number\"))\n",
    "i=1\n",
    "counter = 0\n",
    "\n",
    "while(i<=a):\n",
    "    if(a%i == 0):\n",
    "        counter+=1\n",
    "    i+=1\n",
    "if counter == 2:\n",
    "    print(\"Given Number is a prime Number\")\n",
    "else:\n",
    "    print(\"Given Number is not a prime Number\")"
   ]
  },
  {
   "cell_type": "code",
   "execution_count": 26,
   "metadata": {},
   "outputs": [
    {
     "name": "stdout",
     "output_type": "stream",
     "text": [
      "the sum is : 7\n"
     ]
    }
   ],
   "source": [
    "# Sum of a digit of a Number\n",
    "a = int(input(\"Enter the Number\"))\n",
    "sum = 0\n",
    "while(a > 0):\n",
    "    rem = a % 10\n",
    "    sum += rem\n",
    "    a = a // 10\n",
    "print(\"the sum is :\",sum)"
   ]
  },
  {
   "cell_type": "code",
   "execution_count": 34,
   "metadata": {},
   "outputs": [
    {
     "name": "stdout",
     "output_type": "stream",
     "text": [
      "the reverse of a Number : 4321\n"
     ]
    }
   ],
   "source": [
    "# Reverse of a Number\n",
    "a = int(input(\"Enter the Number\"))\n",
    "rev = 0\n",
    "while(a > 0):\n",
    "    rem = a % 10\n",
    "    rev = rev*10 + rem\n",
    "    a = a // 10\n",
    "print(\"the reverse of a Number :\",rev)"
   ]
  },
  {
   "cell_type": "markdown",
   "metadata": {},
   "source": [
    "# Class 4"
   ]
  },
  {
   "cell_type": "code",
   "execution_count": 2,
   "metadata": {},
   "outputs": [
    {
     "name": "stdout",
     "output_type": "stream",
     "text": [
      "Palindrome Number\n"
     ]
    }
   ],
   "source": [
    "# Palidrome Number\n",
    "n = int(input(\"Enter the Number\"))\n",
    "rev = 0\n",
    "n1 = n\n",
    "while(n>0):\n",
    "    rem = n %10\n",
    "    rev = rev*10+ rem\n",
    "    n = n//10\n",
    "if n1 == rev:\n",
    "    print(\"Palindrome Number\")\n",
    "else:\n",
    "    print(\"Not a palindrome Number\")"
   ]
  },
  {
   "cell_type": "code",
   "execution_count": null,
   "metadata": {},
   "outputs": [],
   "source": [
    "# ArmstrongNumber for 3 digits ---- 153,370,371,407\n",
    "n = int(input(\"Enter the number\"))\n",
    "sum = 0\n",
    "n1 = n\n",
    "while(n > 0):\n",
    "    rem = n % 10 \n",
    "    sum += rem**3\n",
    "    n = n// 10\n",
    "if sum == n:\n",
    "    print(\"Aremstrong Number\")\n",
    "else:\n",
    "    print(\"Not a Armstrong Number\")"
   ]
  },
  {
   "cell_type": "code",
   "execution_count": 5,
   "metadata": {},
   "outputs": [
    {
     "name": "stdout",
     "output_type": "stream",
     "text": [
      "Armstrong Number\n"
     ]
    }
   ],
   "source": [
    "# ArmstrongNumber for n digits ----- 548834\n",
    "n = int(input(\"Enter the Number\"))\n",
    "sum = 0\n",
    "counter = 0\n",
    "n1 = n\n",
    "n2 = n\n",
    "while(n > 0):\n",
    "    rem = n % 10\n",
    "    counter +=1\n",
    "    n = n//10\n",
    "while(n1 > 0):\n",
    "    rem = n1 % 10\n",
    "    sum += rem**counter\n",
    "    n1 = n1 // 10\n",
    "if n2 == sum:\n",
    "    print(\"Armstrong Number\")\n",
    "else:\n",
    "    print(\"Not a Armstrong\")\n"
   ]
  },
  {
   "cell_type": "markdown",
   "metadata": {},
   "source": [
    "# For Loop\n"
   ]
  },
  {
   "cell_type": "code",
   "execution_count": 10,
   "metadata": {},
   "outputs": [
    {
     "name": "stdout",
     "output_type": "stream",
     "text": [
      "100,95,90,85,80,75,70,65,60,55,50,45,40,35,30,25,20,15,10,5,"
     ]
    }
   ],
   "source": [
    "# for i in \"DataScience\":\n",
    "    # print(i)\n",
    "# for i in [12,2,24,43,3]:\n",
    "    # print(i)\n",
    "# for i in (12,34,54,65,75):\n",
    "    # print(i)\n",
    "# for i in {23,43,53,54,54}:\n",
    "    # print(i)\n",
    "# for i in {\"Name\":\"Dev\",\"Age\":\"12\"}:\n",
    "    # print(i)\n",
    "\n",
    "\n",
    "\n",
    "# Range Function\n",
    "\n",
    "# range(10)----- 0 to 9\n",
    "# range(1,14) --- 1 to 13\n",
    "# range(1,100,5) --- 1,6,11,16,21,26\n",
    "\n",
    "for i in range(100,1,-5):\n",
    "    print(i,end =\",\")"
   ]
  },
  {
   "cell_type": "code",
   "execution_count": 12,
   "metadata": {},
   "outputs": [
    {
     "name": "stdout",
     "output_type": "stream",
     "text": [
      "Nirmit Malik Nirmit Malik Nirmit Malik Nirmit Malik Nirmit Malik Nirmit Malik Nirmit Malik Nirmit Malik Nirmit Malik "
     ]
    }
   ],
   "source": [
    "# print your Name 10 times\n",
    "\n",
    "for i in range(1,10):\n",
    "    print(\"Nirmit Malik\",end=\" \")"
   ]
  },
  {
   "cell_type": "code",
   "execution_count": 14,
   "metadata": {},
   "outputs": [
    {
     "name": "stdout",
     "output_type": "stream",
     "text": [
      "1,2,3,4,5,6,7,8,9,10,"
     ]
    }
   ],
   "source": [
    "# Print first 10 Natural Number\n",
    "for i in range(1,11):\n",
    "    print(i,end=\",\")"
   ]
  },
  {
   "cell_type": "code",
   "execution_count": 17,
   "metadata": {},
   "outputs": [
    {
     "name": "stdout",
     "output_type": "stream",
     "text": [
      "2,4,6,8,10,12,14,16,18,20,22,24,26,28,30,32,34,36,38,40,42,44,46,48,50,52,54,56,58,60,62,64,66,68,70,72,74,76,78,80,82,84,86,88,90,92,94,96,98,100,"
     ]
    }
   ],
   "source": [
    "# 1 t0 100 even Numbers\n",
    "for i in range(1,101):\n",
    "    if(i % 2 == 0):\n",
    "        print(i,end =\",\")"
   ]
  },
  {
   "cell_type": "code",
   "execution_count": 21,
   "metadata": {},
   "outputs": [
    {
     "name": "stdout",
     "output_type": "stream",
     "text": [
      "2550 Sum of even Numbers\n",
      "2500 Sum of odd Numbers\n"
     ]
    }
   ],
   "source": [
    "# Sum of even Numbers\n",
    "sum_e = 0\n",
    "sum_o = 0\n",
    "for i in range(1,101):\n",
    "    if(i%2 == 0):\n",
    "        sum_e +=i\n",
    "    else:\n",
    "        sum_o +=i\n",
    "print(sum,\"Sum of even Numbers\")\n",
    "print(sum_o,\"Sum of odd Numbers\")"
   ]
  },
  {
   "cell_type": "code",
   "execution_count": 22,
   "metadata": {},
   "outputs": [
    {
     "name": "stdout",
     "output_type": "stream",
     "text": [
      "7503\n"
     ]
    }
   ],
   "source": [
    "# sum of the digits\n",
    "n = int(input(\"Enter the Number\"))\n",
    "\n",
    "sum = 0\n",
    "for i in range(1,n):\n",
    "    sum += i\n",
    "print(sum)"
   ]
  },
  {
   "cell_type": "code",
   "execution_count": 28,
   "metadata": {},
   "outputs": [
    {
     "name": "stdout",
     "output_type": "stream",
     "text": [
      "1 2 3 6 "
     ]
    }
   ],
   "source": [
    "n = int(input(\"Enter the Number\"))\n",
    "for i in range(1,n+1):\n",
    "    if (n % i == 0):\n",
    "        print(i,end=\" \")\n",
    "    "
   ]
  },
  {
   "cell_type": "code",
   "execution_count": 29,
   "metadata": {},
   "outputs": [
    {
     "name": "stdout",
     "output_type": "stream",
     "text": [
      "2 4 6 8 10 12 14 16 18 20 "
     ]
    }
   ],
   "source": [
    "n = int(input(\"Enter the Number\"))\n",
    "for i in range(1,11):\n",
    "    print(n*i,end =\" \")"
   ]
  },
  {
   "cell_type": "code",
   "execution_count": 53,
   "metadata": {},
   "outputs": [
    {
     "name": "stdout",
     "output_type": "stream",
     "text": [
      "Not a prime Number\n"
     ]
    }
   ],
   "source": [
    "# Find a Prime Number\n",
    "n = int(input(\"Enter the Number\"))\n",
    "counter = 0\n",
    "for i in range(1,n+1):\n",
    "    if(n%i==0):\n",
    "        counter+=1\n",
    "    else:\n",
    "        continue\n",
    "if(counter == 2):\n",
    "    print(\"Prime Number\")\n",
    "else:\n",
    "    print(\"Not a prime Number\")\n"
   ]
  },
  {
   "cell_type": "code",
   "execution_count": 44,
   "metadata": {},
   "outputs": [
    {
     "name": "stdout",
     "output_type": "stream",
     "text": [
      "Tata Bye Bye !!!\n",
      "2\n",
      "Tata Bye Bye !!!\n",
      "56\n",
      "Tata Bye Bye !!!\n"
     ]
    }
   ],
   "source": [
    "a = (1,2,5,56,51)\n",
    "for i in a:\n",
    "    if(i%2 == 0):\n",
    "        print(i)\n",
    "    else:\n",
    "        print(\"Tata Bye Bye !!!\")"
   ]
  },
  {
   "cell_type": "code",
   "execution_count": 46,
   "metadata": {},
   "outputs": [
    {
     "name": "stdout",
     "output_type": "stream",
     "text": [
      "I$I$I$T$ $D$e$l$h$i$"
     ]
    }
   ],
   "source": [
    "string = 'IIIT Delhi'\n",
    "for i in string:\n",
    "    print(i,end=\"$\")"
   ]
  },
  {
   "cell_type": "code",
   "execution_count": 48,
   "metadata": {},
   "outputs": [],
   "source": [
    "a = \"Hello Everyone how are you\"\n",
    "vowel = [\"a\",\"e\",\"i\",\"o\",\"u\"]\n",
    "for i in a:\n",
    "    if i in vowel:\n",
    "        print(i)"
   ]
  },
  {
   "cell_type": "code",
   "execution_count": 50,
   "metadata": {},
   "outputs": [
    {
     "name": "stdout",
     "output_type": "stream",
     "text": [
      "Good one\n",
      "Good one\n",
      "Data Science\n"
     ]
    }
   ],
   "source": [
    "word =\"hello1\"\n",
    "for w in word:\n",
    "    if w==\"l\":\n",
    "        print(\"Good one\")\n",
    "else:\n",
    "    print(\"Data Science\")"
   ]
  },
  {
   "cell_type": "code",
   "execution_count": 52,
   "metadata": {},
   "outputs": [
    {
     "name": "stdout",
     "output_type": "stream",
     "text": [
      "a\n",
      "hello\n",
      "r\n",
      "hello\n",
      "that's great\n",
      "p\n",
      "hello\n",
      "i\n",
      "hello\n",
      "t\n",
      "hello\n",
      "t\n"
     ]
    }
   ],
   "source": [
    "name = \"arpit\"\n",
    "for i in name:\n",
    "    if i == 'p':\n",
    "        print(\"that's great\")\n",
    "    print(i)\n",
    "    print(\"hello\")\n",
    "print(i)"
   ]
  },
  {
   "cell_type": "code",
   "execution_count": 56,
   "metadata": {},
   "outputs": [
    {
     "name": "stdout",
     "output_type": "stream",
     "text": [
      "a\n",
      "hii\n",
      "r\n",
      "p\n",
      "i\n",
      "t\n"
     ]
    }
   ],
   "source": [
    "name = \"arpit\"\n",
    "\n",
    "for i in name:\n",
    "    if i=='r':\n",
    "        print(\"hii\")\n",
    "    print(i)"
   ]
  },
  {
   "cell_type": "code",
   "execution_count": 57,
   "metadata": {},
   "outputs": [
    {
     "name": "stdout",
     "output_type": "stream",
     "text": [
      "11 22 33 44 55 66 77 88 99 101 111 121 131 141 151 161 171 181 191 202 212 222 232 242 252 262 272 282 292 303 313 323 333 343 353 363 373 383 393 404 414 424 434 444 454 464 474 484 494 505 515 525 535 545 555 565 575 585 595 606 616 626 636 646 656 666 676 686 696 707 717 727 737 747 757 767 777 787 797 808 818 828 838 848 858 868 878 888 898 909 919 929 939 949 959 969 979 989 999 "
     ]
    }
   ],
   "source": [
    "# palindrome Number -- by for loop\n",
    "for i in range(11,1000):\n",
    "    n = i\n",
    "    rev = 0\n",
    "    while(n>0):\n",
    "        rem = n%10\n",
    "        rev = rev*10 + rem\n",
    "        n = n//10\n",
    "    if rev == i:\n",
    "        print(i,end =\" \")\n"
   ]
  },
  {
   "cell_type": "code",
   "execution_count": 58,
   "metadata": {},
   "outputs": [
    {
     "name": "stdout",
     "output_type": "stream",
     "text": [
      "153 370 371 407 "
     ]
    }
   ],
   "source": [
    "# Armstrong Number -- 3 digit\n",
    "for i in range(101,1000):\n",
    "    n = i\n",
    "    s = 0\n",
    "    while(n > 0):\n",
    "        rem = n %10\n",
    "        s += rem**3\n",
    "        n = n//10\n",
    "    if s == i:\n",
    "        print(i,end=\" \")\n"
   ]
  },
  {
   "cell_type": "markdown",
   "metadata": {},
   "source": [
    "# Class 4 --- List"
   ]
  },
  {
   "cell_type": "code",
   "execution_count": 1,
   "metadata": {},
   "outputs": [],
   "source": [
    "# Array --- It's a Homogenous data structure\n",
    "# List -- Sequenced Data Structure\n",
    "# Hetreogenous \n",
    "# Ordered or indexed\n",
    "# \"Mutable\"\n",
    "# enclosed in []\n",
    "\n",
    "\n",
    "# Example:-\n",
    "# ls = [] ---- Empty List\n",
    "# ls = [12,23,34,45,56] ---- integer\n",
    "# ls = ['a','e','i','o','u'] --- String\n",
    "# ls = [12.3,4.6,75.8]  --- Float\n",
    "# ls = [112,23,34.5,\"Hello\"] -- mixed\n",
    "\n",
    "# print(ls)\n",
    "\n",
    "\n",
    "# By using a constructor\n",
    "\n",
    "ls = list(\"Hello\")\n",
    "print(ls) #Output --- ['h','e','l','l','o']\n",
    "ls = list((12,23,34,45))\n",
    "print(ls) #Output ----- [12,23,34,45]\n",
    "\n",
    "# Accesing the list elements\n",
    "ls =[11,22,33,44,55,66,77]\n",
    "print(ls[5])\n",
    "print(ls[-2])\n",
    "\n",
    "\n",
    "# Asscesing in Nested Loop:-\n",
    "ls = [12,23,34,45,[67,78,89,98,[98,867,76]],56,[87]]\n",
    "print(ls[3])  #45\n",
    "print(ls[4])  #[67,78,89,98,[98,867,76]]\n",
    "print(ls[4][3])  # 98\n",
    "print(ls[4][4])  # [98,867,76]\n",
    "print(ls[4][4][1])  # 867\n",
    "\n",
    "\n",
    "# Updation:-\n",
    "ls = [12,23,34,45,56]\n",
    "print(ls)\n",
    "ls[2] = \"hello\"\n",
    "print(ls)"
   ]
  },
  {
   "cell_type": "code",
   "execution_count": 19,
   "metadata": {},
   "outputs": [
    {
     "name": "stdout",
     "output_type": "stream",
     "text": [
      "[45, 56, 67, 78, 89]\n",
      "[12, 23, 34, 45, 56, 67, 78, 89]\n",
      "[45, 56, 67, 78, 89, 98]\n",
      "[12, 23, 34, 45, 56, 67, 78, 89, 98]\n",
      "[98, 89, 78]\n"
     ]
    }
   ],
   "source": [
    "# Slice Operator --- \":\"\n",
    "ls = [12,23,34,45,56,67,78,89,98]\n",
    "print(ls[3:8]) # 3 4 5 6 7 --- index\n",
    "print(ls[:8]) # from begining --- 7\n",
    "print(ls[3:]) # start from 3 end to the last\n",
    "print(ls[:] )# from the begining to start\n",
    "print(ls[-1:-4:-1]) # ls[start : stop : step]\n"
   ]
  },
  {
   "cell_type": "code",
   "execution_count": 28,
   "metadata": {},
   "outputs": [
    {
     "name": "stdout",
     "output_type": "stream",
     "text": [
      "[12, 23, 34, 45, 56, 67, 78, 89, 98]\n"
     ]
    }
   ],
   "source": [
    "# Muli-Updation\n",
    "ls = [12,23,34,45,56,67,78,89,98]\n",
    "print(ls)\n",
    "ls[3:6] = [\"hello\",\"hii\",\"yellow\"]\n",
    "print(ls)"
   ]
  },
  {
   "cell_type": "code",
   "execution_count": 15,
   "metadata": {},
   "outputs": [
    {
     "name": "stdout",
     "output_type": "stream",
     "text": [
      "[12, 23, 34, 45, 56, 67, 78, 89, 98]\n",
      "[12, 23, 34, 56, 67, 78, 89, 98]\n",
      "[12, 23, 34, 78, 89, 98]\n"
     ]
    }
   ],
   "source": [
    "# Delete the Operation --- del(Not a method),pop,remove\n",
    "ls = [12,23,34,45,56,67,78,89,98]\n",
    "print(ls)\n",
    "del(ls[3])\n",
    "print(ls)\n",
    "del(ls[3:5])\n",
    "print(ls)"
   ]
  },
  {
   "cell_type": "code",
   "execution_count": 23,
   "metadata": {},
   "outputs": [
    {
     "name": "stdout",
     "output_type": "stream",
     "text": [
      "[12, 23, 34, 45, 56, 67, 78, 89, 98]\n",
      "[12, 23, 34, 45, 56, 67, 78, 89]\n",
      "[12, 23, 45, 56, 67, 78, 89]\n"
     ]
    }
   ],
   "source": [
    "# pop()\n",
    "ls = [12,23,34,34,45,56,67,78,89,98]\n",
    "ls.pop(3)\n",
    "print(ls)\n",
    "ls.pop()\n",
    "print(ls)\n",
    "\n",
    "# remove()\n",
    "ls.remove(34)\n",
    "print(ls)"
   ]
  },
  {
   "cell_type": "code",
   "execution_count": 33,
   "metadata": {},
   "outputs": [
    {
     "name": "stdout",
     "output_type": "stream",
     "text": [
      "[12, 23, 34, 45, 'Hello']\n"
     ]
    }
   ],
   "source": [
    "# List Methods\n",
    "# append() -- \n",
    "ls =  [12,23,34,45]\n",
    "ls.append(\"Hello\")\n",
    "print(ls)"
   ]
  },
  {
   "cell_type": "code",
   "execution_count": 37,
   "metadata": {},
   "outputs": [
    {
     "name": "stdout",
     "output_type": "stream",
     "text": [
      "[1, 2, 3, 4, 5, 5, 5, 8, 7, 45]\n"
     ]
    }
   ],
   "source": [
    "# Make list of 10 integers\n",
    "ls = []\n",
    "for i in range(1,11):\n",
    "    n = int(input(\"Enter the Number\"))\n",
    "    ls.append(n)\n",
    "print(ls)"
   ]
  },
  {
   "cell_type": "code",
   "execution_count": 39,
   "metadata": {},
   "outputs": [
    {
     "name": "stdout",
     "output_type": "stream",
     "text": [
      "[2, 4, 6, 8, 10] [1, 3, 5, 7, 9]\n"
     ]
    }
   ],
   "source": [
    "ls = []\n",
    "for i in range(1,11):\n",
    "    n = int(input(\"Enter the Number\"))\n",
    "    ls.append(n)\n",
    "ls_e = []\n",
    "ls_o = []\n",
    "for i in ls:\n",
    "    if (i%2 == 0):\n",
    "        ls_e.append(i)\n",
    "    else:\n",
    "        ls_o.append(i)\n",
    "print(ls_e,ls_o)"
   ]
  },
  {
   "cell_type": "code",
   "execution_count": 40,
   "metadata": {},
   "outputs": [
    {
     "name": "stdout",
     "output_type": "stream",
     "text": [
      "[1, 3, 5, 7, 9] [2, 4, 6, 8, 10]\n"
     ]
    }
   ],
   "source": [
    "ls_e = []\n",
    "ls_o = []\n",
    "for i in range(1,11):\n",
    "    n = int(input(\"Enter the Number\"))\n",
    "    if (i%2 == 0):\n",
    "        ls_e.append(i)\n",
    "    else:\n",
    "        ls_o.append(i)\n",
    "print(ls_o,ls_e)\n"
   ]
  },
  {
   "cell_type": "code",
   "execution_count": 50,
   "metadata": {},
   "outputs": [
    {
     "name": "stdout",
     "output_type": "stream",
     "text": [
      "[12, 2, 85, 777, 45]\n",
      "777\n"
     ]
    }
   ],
   "source": [
    "# Find the Maximum element in the list\n",
    "ls = [12,2,85,777,45]\n",
    "# for i in range(1,11):\n",
    "#     n = int(input(\"Enter the Number\"))\n",
    "#     ls.append(n)\n",
    "a = ls[0]\n",
    "for i in ls:\n",
    "    if(i>a):\n",
    "        a = i\n",
    "print(ls)\n",
    "print(a)\n",
    "        "
   ]
  },
  {
   "cell_type": "code",
   "execution_count": 51,
   "metadata": {},
   "outputs": [
    {
     "name": "stdout",
     "output_type": "stream",
     "text": [
      "[12, 2, 85, 777, 45]\n",
      "2\n"
     ]
    }
   ],
   "source": [
    "# Find the Minimum element in the list\n",
    "ls = [12,2,85,777,45]\n",
    "# for i in range(1,11):\n",
    "#     n = int(input(\"Enter the Number\"))\n",
    "#     ls.append(n)\n",
    "a = ls[0]\n",
    "for i in ls:\n",
    "    if(i<a):\n",
    "        a = i\n",
    "print(ls)\n",
    "print(a)"
   ]
  },
  {
   "cell_type": "code",
   "execution_count": 1,
   "metadata": {},
   "outputs": [
    {
     "name": "stdout",
     "output_type": "stream",
     "text": [
      "[12, 23, 34, 45, 56, 67, 78, 89]\n",
      "[12, 23, 34, 45, 56, 67, 78, 89, 111, 222, 333]\n"
     ]
    }
   ],
   "source": [
    "# Extend Method -- it is used to insert more than one element in the list at a time.\n",
    "# elements are always inserted at the end of the list.\n",
    "\n",
    "ls = [12,23,34,45,56,67,78,89]\n",
    "print(ls)\n",
    "ls.extend([111,222,333])\n",
    "print(ls)\n",
    "\n",
    "\n",
    "# A = [1,2,3,4,5]\n",
    "# B = [6,7,8,9,10]\n",
    "\n",
    "# C = A.extend(B)\n",
    "# print(c)\n"
   ]
  },
  {
   "cell_type": "code",
   "execution_count": 2,
   "metadata": {},
   "outputs": [
    {
     "name": "stdout",
     "output_type": "stream",
     "text": [
      "[12, 23, 34, 'Hello Nirmit', 45, 56, 67, 78, 89]\n"
     ]
    }
   ],
   "source": [
    "# Insert Operation---- Inserting the element in tbe list at the desired index\n",
    "ls = [12,23,34,45,56,67,78,89]\n",
    "ls.insert(3,\"Hello Nirmit\")\n",
    "print(ls)"
   ]
  },
  {
   "cell_type": "code",
   "execution_count": 4,
   "metadata": {},
   "outputs": [
    {
     "name": "stdout",
     "output_type": "stream",
     "text": [
      "2458930900416\n",
      "2458930900416\n",
      "[12, 23, 'Nirmit', 45]\n",
      "[12, 23, 'Nirmit', 45]\n"
     ]
    }
   ],
   "source": [
    "# without copy() ---- \n",
    "x = [12,23,34,45]\n",
    "y = x\n",
    "print(id(x))   # address\n",
    "print(id(y))\n",
    "y[2] = \"Nirmit\"\n",
    "print(x)\n",
    "print(y)"
   ]
  },
  {
   "cell_type": "code",
   "execution_count": 5,
   "metadata": {},
   "outputs": [
    {
     "name": "stdout",
     "output_type": "stream",
     "text": [
      "2458930627904\n",
      "2458930829824\n",
      "[12, 23, 34, 45]\n",
      "[12, 23, 'Nirmit', 45]\n"
     ]
    }
   ],
   "source": [
    "#  With copy() ----- \n",
    "x = [12,23,34,45]\n",
    "y = x.copy()\n",
    "print(id(x))   # address\n",
    "print(id(y))\n",
    "y[2] = \"Nirmit\"\n",
    "print(x)\n",
    "print(y)"
   ]
  },
  {
   "cell_type": "code",
   "execution_count": 6,
   "metadata": {},
   "outputs": [
    {
     "name": "stdout",
     "output_type": "stream",
     "text": [
      "[12, 23, 34, 45]\n",
      "[]\n"
     ]
    }
   ],
   "source": [
    "# clear ---- return empty list\n",
    "ls = [12,23,34,45]\n",
    "print(ls)\n",
    "ls.clear()\n",
    "print(ls)"
   ]
  },
  {
   "cell_type": "code",
   "execution_count": 13,
   "metadata": {},
   "outputs": [
    {
     "name": "stdout",
     "output_type": "stream",
     "text": [
      "2\n"
     ]
    }
   ],
   "source": [
    "# count function\n",
    "ls = [12,23,23,34,45]\n",
    "x = ls.count(23)\n",
    "print(x)"
   ]
  },
  {
   "cell_type": "code",
   "execution_count": 16,
   "metadata": {},
   "outputs": [
    {
     "name": "stdout",
     "output_type": "stream",
     "text": [
      "[1, 2, 3, 4]\n"
     ]
    }
   ],
   "source": [
    "ls = [1,2,2,3,4]\n",
    "ls_u = []\n",
    "for i in ls:\n",
    "    if i not in ls_u:\n",
    "        ls_u.append(i)\n",
    "    else:\n",
    "        continue\n",
    "print(ls_u)"
   ]
  },
  {
   "cell_type": "code",
   "execution_count": 19,
   "metadata": {},
   "outputs": [
    {
     "name": "stdout",
     "output_type": "stream",
     "text": [
      "[1, 2, 2, 3, 4]\n",
      "[1, 2, 3, 4]\n",
      "1 is repeated for 1 times\n",
      "2 is repeated for 2 times\n",
      "3 is repeated for 1 times\n",
      "4 is repeated for 1 times\n"
     ]
    }
   ],
   "source": [
    "ls = [1,2,2,3,4]\n",
    "ls_u = []\n",
    "for i in ls:\n",
    "    if i not in ls_u:\n",
    "        ls_u.append(i)\n",
    "    else:\n",
    "        continue\n",
    "print(ls)\n",
    "print(ls_u)\n",
    "for i in ls_u:\n",
    "    print(i,\"is repeated for\",ls.count(i),\"times\")\n"
   ]
  },
  {
   "cell_type": "code",
   "execution_count": 25,
   "metadata": {},
   "outputs": [
    {
     "name": "stdout",
     "output_type": "stream",
     "text": [
      "[1, 2, 2, 3, 3, 4]\n",
      "[1, 2, 3, 4]\n"
     ]
    }
   ],
   "source": [
    "ls = [1,2,2,3,3,4]\n",
    "print(ls)\n",
    "ls_u = list(set(ls))\n",
    "print(ls_u)"
   ]
  },
  {
   "cell_type": "code",
   "execution_count": 27,
   "metadata": {},
   "outputs": [
    {
     "name": "stdout",
     "output_type": "stream",
     "text": [
      "[12, 2, 2, 23, 34, 45, 56]\n",
      "1\n"
     ]
    }
   ],
   "source": [
    "# Index() method ---- it return the index of first occurance of the element in the list\n",
    "ls = [12,2,2,23,34,45,56]\n",
    "print(ls)\n",
    "x = ls.index(2)\n",
    "print(x)"
   ]
  },
  {
   "cell_type": "code",
   "execution_count": 37,
   "metadata": {},
   "outputs": [
    {
     "name": "stdout",
     "output_type": "stream",
     "text": [
      "[12, 23, 34, 555, 1, 4]\n",
      "[555, 34, 23, 12, 4, 1]\n"
     ]
    }
   ],
   "source": [
    "# sort method\n",
    "ls =[12,23,34,555,1,4]\n",
    "print(ls)\n",
    "ls.sort(reverse=True)\n",
    "print(ls)"
   ]
  },
  {
   "cell_type": "code",
   "execution_count": 42,
   "metadata": {},
   "outputs": [
    {
     "name": "stdout",
     "output_type": "stream",
     "text": [
      "[12, 23, 34, 555, 1, 4]\n",
      "[4, 1, 555, 34, 23, 12]\n"
     ]
    }
   ],
   "source": [
    "# reverse Method\n",
    "ls =[12,23,34,555,1,4]\n",
    "print(ls)\n",
    "# ls.reverse()\n",
    "# print(ls)\n",
    "print(ls[::-1])"
   ]
  },
  {
   "cell_type": "code",
   "execution_count": 44,
   "metadata": {},
   "outputs": [
    {
     "name": "stdout",
     "output_type": "stream",
     "text": [
      "['Sumit']\n"
     ]
    }
   ],
   "source": [
    "L = [\"Amit\",\"Sumit\",\"Naina\"]\n",
    "print(L[1:-1])"
   ]
  },
  {
   "cell_type": "code",
   "execution_count": 45,
   "metadata": {},
   "outputs": [
    {
     "name": "stdout",
     "output_type": "stream",
     "text": [
      "['Nirmit', 'Nihar', 'Nirmit', 'Nihar']\n"
     ]
    }
   ],
   "source": [
    "L = [\"Nirmit\",\"Nihar\"]\n",
    "print(L*2)"
   ]
  },
  {
   "cell_type": "code",
   "execution_count": 49,
   "metadata": {},
   "outputs": [
    {
     "name": "stdout",
     "output_type": "stream",
     "text": [
      "[0.0, 0.5, 1.0, 1.5]\n"
     ]
    }
   ],
   "source": [
    "L = [0.5 *x for x in range(4)]\n",
    "print(L)"
   ]
  },
  {
   "cell_type": "code",
   "execution_count": 52,
   "metadata": {},
   "outputs": [
    {
     "name": "stdout",
     "output_type": "stream",
     "text": [
      "['', 'a', 'aa', 'aaa']\n"
     ]
    }
   ],
   "source": [
    "L = ['a'*x for x in range(4)]\n",
    "print(L)"
   ]
  },
  {
   "cell_type": "code",
   "execution_count": 61,
   "metadata": {},
   "outputs": [
    {
     "name": "stdout",
     "output_type": "stream",
     "text": [
      "None\n"
     ]
    }
   ],
   "source": [
    "T =[1,2,3,4]\n",
    "T1 = [5,6,7]\n",
    "L = T.append(T1)\n",
    "print(L)"
   ]
  },
  {
   "cell_type": "code",
   "execution_count": null,
   "metadata": {},
   "outputs": [],
   "source": []
  },
  {
   "cell_type": "code",
   "execution_count": null,
   "metadata": {},
   "outputs": [],
   "source": []
  },
  {
   "cell_type": "code",
   "execution_count": null,
   "metadata": {},
   "outputs": [],
   "source": []
  },
  {
   "cell_type": "code",
   "execution_count": null,
   "metadata": {},
   "outputs": [],
   "source": []
  },
  {
   "cell_type": "code",
   "execution_count": null,
   "metadata": {},
   "outputs": [],
   "source": []
  },
  {
   "cell_type": "code",
   "execution_count": null,
   "metadata": {},
   "outputs": [],
   "source": []
  },
  {
   "cell_type": "code",
   "execution_count": null,
   "metadata": {},
   "outputs": [],
   "source": []
  },
  {
   "cell_type": "code",
   "execution_count": null,
   "metadata": {},
   "outputs": [],
   "source": []
  },
  {
   "cell_type": "code",
   "execution_count": null,
   "metadata": {},
   "outputs": [],
   "source": []
  },
  {
   "cell_type": "code",
   "execution_count": null,
   "metadata": {},
   "outputs": [],
   "source": []
  },
  {
   "cell_type": "code",
   "execution_count": null,
   "metadata": {},
   "outputs": [],
   "source": []
  },
  {
   "cell_type": "code",
   "execution_count": null,
   "metadata": {},
   "outputs": [],
   "source": []
  },
  {
   "cell_type": "code",
   "execution_count": null,
   "metadata": {},
   "outputs": [],
   "source": []
  },
  {
   "cell_type": "code",
   "execution_count": null,
   "metadata": {},
   "outputs": [],
   "source": []
  },
  {
   "cell_type": "code",
   "execution_count": null,
   "metadata": {},
   "outputs": [],
   "source": []
  },
  {
   "cell_type": "code",
   "execution_count": null,
   "metadata": {},
   "outputs": [],
   "source": []
  },
  {
   "cell_type": "code",
   "execution_count": null,
   "metadata": {},
   "outputs": [],
   "source": []
  },
  {
   "cell_type": "code",
   "execution_count": null,
   "metadata": {},
   "outputs": [],
   "source": []
  },
  {
   "cell_type": "code",
   "execution_count": null,
   "metadata": {},
   "outputs": [],
   "source": []
  }
 ],
 "metadata": {
  "kernelspec": {
   "display_name": "Python 3",
   "language": "python",
   "name": "python3"
  },
  "language_info": {
   "codemirror_mode": {
    "name": "ipython",
    "version": 3
   },
   "file_extension": ".py",
   "mimetype": "text/x-python",
   "name": "python",
   "nbconvert_exporter": "python",
   "pygments_lexer": "ipython3",
   "version": "3.12.3"
  }
 },
 "nbformat": 4,
 "nbformat_minor": 2
}
