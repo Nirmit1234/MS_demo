{
 "cells": [
  {
   "cell_type": "markdown",
   "metadata": {},
   "source": [
    "# Class 1"
   ]
  },
  {
   "cell_type": "markdown",
   "metadata": {},
   "source": [
    "# Variable"
   ]
  },
  {
   "cell_type": "code",
   "execution_count": 2,
   "metadata": {},
   "outputs": [
    {
     "data": {
      "text/plain": [
       "140729505487576"
      ]
     },
     "execution_count": 2,
     "metadata": {},
     "output_type": "execute_result"
    }
   ],
   "source": [
    "# Variable is a container that stores value or values \n",
    "# It can be change when the operations are performed on it\n",
    "\n",
    "# Some rules to create varibale\n",
    "\n",
    "# Variable name can not start with a digit\n",
    "# For ex- 1a = 10 #wrong\n",
    "\n",
    "# there is no spaces are allowed in variable name\n",
    "# student name  = \"Madrid\" # wrong\n",
    "\n",
    "# student_name = \"Madrid\"\n",
    "\n",
    "# python is case sensitive\n",
    "# a = 10\n",
    "# A = 10\n",
    "\n",
    "# automatic memeory allocation \n",
    "a = 10 \n",
    "id(a)\n",
    "\n",
    "# keywordsa are never used as an varibale name\n",
    "# they are known as \"reserved\" keywords\n",
    "\n",
    "\n"
   ]
  },
  {
   "cell_type": "markdown",
   "metadata": {},
   "source": [
    "# Operators"
   ]
  },
  {
   "cell_type": "code",
   "execution_count": null,
   "metadata": {},
   "outputs": [],
   "source": [
    "# Arithmetic\n",
    "# Comparision\n",
    "# Assignment\n",
    "# Logical Operator\n",
    "# Bitwise\n",
    "\n",
    "\n",
    "# Airthmetic\n",
    "# +, -, *, /, //, %,**"
   ]
  },
  {
   "cell_type": "code",
   "execution_count": 5,
   "metadata": {},
   "outputs": [
    {
     "data": {
      "text/plain": [
       "10000000000000000000000000000000000000000000000"
      ]
     },
     "execution_count": 5,
     "metadata": {},
     "output_type": "execute_result"
    }
   ],
   "source": [
    "a = 100\n",
    "b = 23\n",
    "\n",
    "# a+b\n",
    "# a-b\n",
    "# a/b\n",
    "# a%b\n",
    "# a//b     #  floor division\n",
    "# a**b\n"
   ]
  },
  {
   "cell_type": "markdown",
   "metadata": {},
   "source": [
    "# Output Function"
   ]
  },
  {
   "cell_type": "code",
   "execution_count": 10,
   "metadata": {},
   "outputs": [
    {
     "name": "stdout",
     "output_type": "stream",
     "text": [
      "the value is : 12\n"
     ]
    }
   ],
   "source": [
    "# print()\n",
    "# msg\n",
    "\n",
    "# print(\"Hello World!!!\")\n",
    "\n",
    "# for value of the variable\n",
    "\n",
    "# a = 12\n",
    "# print(a)\n",
    "\n",
    "# Msg with value\n",
    "\n",
    "b = 100\n",
    "print(\"the value is :\",a)"
   ]
  },
  {
   "cell_type": "code",
   "execution_count": 11,
   "metadata": {},
   "outputs": [
    {
     "name": "stdout",
     "output_type": "stream",
     "text": [
      "33\n",
      "the sum is : 33\n"
     ]
    }
   ],
   "source": [
    "# Declaration\n",
    "a = 12\n",
    "b = 21\n",
    "# logic\n",
    "c = a + b\n",
    "# output\n",
    "print(c)\n",
    "print(\"the sum is :\",c)"
   ]
  },
  {
   "cell_type": "code",
   "execution_count": 13,
   "metadata": {},
   "outputs": [
    {
     "name": "stdout",
     "output_type": "stream",
     "text": [
      "the interset is : 13.5\n"
     ]
    }
   ],
   "source": [
    "# Simple Interset\n",
    "p = 100\n",
    "r = 4.5\n",
    "t = 3\n",
    "si = (p * r * t)/100\n",
    "print(\"the interset is :\",si)\n"
   ]
  },
  {
   "cell_type": "code",
   "execution_count": 15,
   "metadata": {},
   "outputs": [
    {
     "name": "stdout",
     "output_type": "stream",
     "text": [
      "The average is: 2.0\n"
     ]
    }
   ],
   "source": [
    "# average\n",
    "a = 1 \n",
    "b = 2 \n",
    "c = 3\n",
    "d = (a + b + c)/3\n",
    "print(\"The average is:\",d)\n",
    "\n",
    "# P --- Parenthesis\n",
    "# E -- Exponenet\n",
    "# M --- Mutliplucation \n",
    "# D --- Division\n",
    "# A --- Addition\n",
    "# S --- Subtraction\n"
   ]
  },
  {
   "cell_type": "code",
   "execution_count": 17,
   "metadata": {},
   "outputs": [
    {
     "name": "stdout",
     "output_type": "stream",
     "text": [
      "the percentage is : 54.5\n"
     ]
    }
   ],
   "source": [
    "# calculator percentage \n",
    "p = 56\n",
    "c = 52\n",
    "d = 45\n",
    "e = 65\n",
    "average = (p + c + d + e)/4\n",
    "percentage = (average *100)/100\n",
    "print(\"the percentage is :\",percentage)"
   ]
  },
  {
   "cell_type": "code",
   "execution_count": 18,
   "metadata": {},
   "outputs": [
    {
     "data": {
      "text/plain": [
       "int"
      ]
     },
     "execution_count": 18,
     "metadata": {},
     "output_type": "execute_result"
    }
   ],
   "source": [
    "# input ----- Runtime Values\n",
    "\n",
    "# Integer ---- int(input(\"Enter the number\"))\n",
    "\n",
    "# Decimal ---- float(input(\"Enter the number\"))\n",
    "\n",
    "# String or charactor --- input(\"Msg\")\n",
    "\n",
    "\n",
    "a = 10\n",
    "type(a)"
   ]
  },
  {
   "cell_type": "code",
   "execution_count": 21,
   "metadata": {},
   "outputs": [
    {
     "data": {
      "text/plain": [
       "float"
      ]
     },
     "execution_count": 21,
     "metadata": {},
     "output_type": "execute_result"
    }
   ],
   "source": [
    "b = 45.5\n",
    "type(b)"
   ]
  },
  {
   "cell_type": "code",
   "execution_count": 22,
   "metadata": {},
   "outputs": [
    {
     "data": {
      "text/plain": [
       "str"
      ]
     },
     "execution_count": 22,
     "metadata": {},
     "output_type": "execute_result"
    }
   ],
   "source": [
    "c = \"Hello\"\n",
    "type(c)"
   ]
  },
  {
   "cell_type": "code",
   "execution_count": 23,
   "metadata": {},
   "outputs": [
    {
     "data": {
      "text/plain": [
       "list"
      ]
     },
     "execution_count": 23,
     "metadata": {},
     "output_type": "execute_result"
    }
   ],
   "source": [
    "a = [1,2,3]\n",
    "type(a)"
   ]
  },
  {
   "cell_type": "code",
   "execution_count": 24,
   "metadata": {},
   "outputs": [
    {
     "data": {
      "text/plain": [
       "tuple"
      ]
     },
     "execution_count": 24,
     "metadata": {},
     "output_type": "execute_result"
    }
   ],
   "source": [
    "b = (12,13,14)\n",
    "type(b)"
   ]
  },
  {
   "cell_type": "code",
   "execution_count": 25,
   "metadata": {},
   "outputs": [
    {
     "data": {
      "text/plain": [
       "set"
      ]
     },
     "execution_count": 25,
     "metadata": {},
     "output_type": "execute_result"
    }
   ],
   "source": [
    "c = {\"a\",\"b\",\"c\"}\n",
    "type(c)"
   ]
  },
  {
   "cell_type": "code",
   "execution_count": 27,
   "metadata": {},
   "outputs": [
    {
     "data": {
      "text/plain": [
       "dict"
      ]
     },
     "execution_count": 27,
     "metadata": {},
     "output_type": "execute_result"
    }
   ],
   "source": [
    "d = {\"a\": 1,\"b\": 2,\"c\": 3}\n",
    "type(d)"
   ]
  },
  {
   "cell_type": "code",
   "execution_count": 29,
   "metadata": {},
   "outputs": [
    {
     "name": "stdout",
     "output_type": "stream",
     "text": [
      "The sum is : 24\n"
     ]
    }
   ],
   "source": [
    "# Runtime values :\n",
    "# sum of two numbers\n",
    "\n",
    "a = int(input(\"Enter the first number\"))\n",
    "b = int(input(\"Enter the second number\"))\n",
    "Sum_of_Two_Numbers = (a+b)\n",
    "print(\"The sum is :\",Sum_of_Two_Numbers)\n",
    "\n"
   ]
  },
  {
   "cell_type": "code",
   "execution_count": 33,
   "metadata": {},
   "outputs": [],
   "source": [
    "Principal = int(input(\"Enter the Principal Number\"))\n",
    "Rate = int(input(\"Enter the Rate Number\"))\n",
    "Time = int(input(\"Enter the time\"))\n",
    "\n",
    "Simple_Interset = (Principal * Rate * Time)/100\n",
    "\n",
    "print(\"The Simple Interset is :\",Simple_Interset)\n",
    "type(Simple_Interset)"
   ]
  },
  {
   "cell_type": "code",
   "execution_count": 2,
   "metadata": {},
   "outputs": [
    {
     "name": "stdout",
     "output_type": "stream",
     "text": [
      "The average of third Numbers : 2.0\n"
     ]
    }
   ],
   "source": [
    "a = float(input(\"Enter the First Number\"))\n",
    "b = float(input(\"Enter hte Second Number\"))\n",
    "c = float(input(\"Enter the third Number\"))\n",
    "\n",
    "Average = (a+b+c)/3\n",
    "print(\"The average of third Numbers :\",Average) "
   ]
  },
  {
   "cell_type": "code",
   "execution_count": 4,
   "metadata": {},
   "outputs": [
    {
     "name": "stdout",
     "output_type": "stream",
     "text": [
      "The Percentage of Five Subjects are : 95.2\n"
     ]
    }
   ],
   "source": [
    "Maths = int(input(\"Enter the Maths Marks\"))\n",
    "Chemestry = int(input(\"Enter the Chemsetry Marks\"))\n",
    "Physics = int(input(\"Enter the Physics Marks\"))\n",
    "English = int(input(\"Enter the English Marks\"))\n",
    "Hindi = int(input(\"Enter the Hindi Marks\"))\n",
    "\n",
    "Percentage = ((Maths + Chemestry + Physics + English + Hindi) * 100) / 500\n",
    "\n",
    "print(\"The Percentage of Five Subjects are :\",Percentage)"
   ]
  },
  {
   "cell_type": "code",
   "execution_count": 6,
   "metadata": {},
   "outputs": [
    {
     "name": "stdout",
     "output_type": "stream",
     "text": [
      "1.4142135623730951\n"
     ]
    }
   ],
   "source": [
    "import math\n",
    "a = math.sqrt(int(input(\"Enter the Number\")))\n",
    "print(a)"
   ]
  },
  {
   "cell_type": "code",
   "execution_count": 10,
   "metadata": {},
   "outputs": [
    {
     "name": "stdout",
     "output_type": "stream",
     "text": [
      "100.0\n"
     ]
    }
   ],
   "source": [
    "# pow(base,exponent)\n",
    "a = int(input(\"Enter the base Number\"))\n",
    "b = int(input(\"Enter the power Number\"))\n",
    "cal_power = math.pow(a,b)\n",
    "print(cal_power)"
   ]
  },
  {
   "cell_type": "code",
   "execution_count": 16,
   "metadata": {},
   "outputs": [
    {
     "name": "stdout",
     "output_type": "stream",
     "text": [
      "a==b False\n",
      "a>=b True\n",
      "a<=b False\n",
      "a!=b True\n",
      "a>b True\n",
      "a<b False\n"
     ]
    }
   ],
   "source": [
    "# Comparision Operator\n",
    "\n",
    "#  == \n",
    "    #  What is Differnce Between = and ==\n",
    "\n",
    "# a = 10\n",
    "# a == 10\n",
    "\n",
    "# <\n",
    "# >\n",
    "# <=\n",
    "# >=\n",
    "\n",
    "a = int(input(\"Enter the Number\"))\n",
    "b = int(input(\"Enter the Number\"))\n",
    "print(\"a==b\",a==b)\n",
    "print(\"a>=b\",a>=b)\n",
    "print(\"a<=b\",a<=b)\n",
    "print(\"a!=b\",a!=b)\n",
    "print(\"a>b\",a>b)\n",
    "print(\"a<b\",a<b)\n",
    "\n"
   ]
  },
  {
   "cell_type": "markdown",
   "metadata": {},
   "source": [
    "# Class - 2"
   ]
  },
  {
   "cell_type": "markdown",
   "metadata": {},
   "source": [
    "# Conditional Statements "
   ]
  },
  {
   "cell_type": "code",
   "execution_count": 13,
   "metadata": {},
   "outputs": [
    {
     "name": "stdout",
     "output_type": "stream",
     "text": [
      "+ve number\n",
      "Even Number\n",
      "This is a Leap Year\n",
      "You are eligible\n"
     ]
    }
   ],
   "source": [
    "# if ------ only if\n",
    "# if then else\n",
    "# if elif ladder from \n",
    "# nested if\n",
    "\n",
    "\n",
    "\n",
    "# if ------ only if\n",
    "#  if condition:\n",
    "        # statement\n",
    "# For ex-:  \n",
    "n = int(input(\"Enter the number\"))\n",
    "if n > 0:\n",
    "    print(\"+ve number\")\n",
    "if n < 0:\n",
    "    print(\"-ve Number\")\n",
    "if n == 0:\n",
    "    print(\"Number itself is zero\")\n",
    "\n",
    "# if then else\n",
    "# if conditon:\n",
    "#     statement\n",
    "# else:\n",
    "#     statement\n",
    "\n",
    "# for ex:-\n",
    "n = int(input(\"Enter the Number\"))\n",
    "if n % 2 == 0:\n",
    "    print(\"Even Number\")\n",
    "else:\n",
    "    print(\"Odd Number\")\n",
    "\n",
    "\n",
    "\n",
    "Year = int(input(\"Enter the Year\"))\n",
    "if Year % 4 == 0:\n",
    "    print(\"This is a Leap Year\")\n",
    "else:\n",
    "    print(\"Not a Leap Year\")\n",
    "\n",
    "\n",
    "age = int(input(\"Enter your age\"))\n",
    "if age >=18:\n",
    "    print(\"You are eligible\")\n",
    "else:\n",
    "    print(\"You are not eligible\")\n"
   ]
  },
  {
   "cell_type": "code",
   "execution_count": 14,
   "metadata": {},
   "outputs": [
    {
     "name": "stdout",
     "output_type": "stream",
     "text": [
      "5\n"
     ]
    }
   ],
   "source": [
    "#  Change to positive Number if -ve then being entered\n",
    "\n",
    "n = int(input(\"Enter the Number\"))\n",
    "if n<0:\n",
    "    print(n*(-1))\n",
    "else:\n",
    "    print(n)"
   ]
  },
  {
   "cell_type": "code",
   "execution_count": 15,
   "metadata": {},
   "outputs": [
    {
     "name": "stdout",
     "output_type": "stream",
     "text": [
      "THR\n"
     ]
    }
   ],
   "source": [
    "# If elif ladder from\n",
    "# if conditon:\n",
    "#     statement\n",
    "# elif condition:\n",
    "#     statememt\n",
    "# else:\n",
    "#     statement\n",
    "\n",
    "\n",
    "\n",
    "# For ex:-\n",
    "Day = int(input(\"Enter the Number between 1 to 7 :\"))\n",
    "if Day == 1:\n",
    "    print(\"SUN\")\n",
    "elif Day == 2:\n",
    "    print(\"MON\")\n",
    "elif Day == 3:\n",
    "    print(\"TUE\")\n",
    "elif Day == 4:\n",
    "    print(\"WED\")\n",
    "elif Day == 5:\n",
    "    print(\"THU\")\n",
    "elif Day == 6:\n",
    "    print(\"FRI\")\n",
    "elif Day == 7:\n",
    "    print(\"SAT\")\n",
    "else:\n",
    "    print(\"INVALID Number\")\n",
    "\n"
   ]
  },
  {
   "cell_type": "code",
   "execution_count": 16,
   "metadata": {},
   "outputs": [
    {
     "name": "stdout",
     "output_type": "stream",
     "text": [
      "First Div\n"
     ]
    }
   ],
   "source": [
    "p = float(input(\"Enter the P marks\"))\n",
    "c = float(input(\"Enter the c marks\"))\n",
    "m = float(input(\"Enter the m marks\"))\n",
    "e = float(input(\"Enter the e marks\"))\n",
    "h = float(input(\"Enter the h marks\"))\n",
    "\n",
    "per = ((p + c + m + e + h)*100)/500\n",
    "\n",
    "if per >= 60:\n",
    "    print(\"First Div\")\n",
    "elif per >=45:\n",
    "    print(\"Second Div\") \n",
    "elif per >= 33:\n",
    "    print(\"Third Div\")\n",
    "else:\n",
    "    print(\"Fail\")\n"
   ]
  },
  {
   "cell_type": "code",
   "execution_count": 18,
   "metadata": {},
   "outputs": [
    {
     "name": "stdout",
     "output_type": "stream",
     "text": [
      "7 Greater then a and c\n"
     ]
    }
   ],
   "source": [
    "# Logical Operator\n",
    "\n",
    "# and --- all conditions must be true\n",
    "# or --- any of them condition is true\n",
    "\n",
    "# For ex-: Greatest Number among the three of them\n",
    "a = int(input(\"Enter the First Number \"))\n",
    "b = int(input(\"Enter the Second Number\"))\n",
    "c = int(input(\"Enter the Third Number\"))\n",
    "\n",
    "if a > b and a > c :\n",
    "    print(a,\"Greatest Number among the three of them\")\n",
    "elif b > a and b > c:\n",
    "    print(b, \"Greater then a and c\")\n",
    "else:\n",
    "    print(c,\"Greater then a and b\")\n",
    "\n"
   ]
  },
  {
   "cell_type": "code",
   "execution_count": 22,
   "metadata": {},
   "outputs": [
    {
     "name": "stdout",
     "output_type": "stream",
     "text": [
      "Consonants\n"
     ]
    }
   ],
   "source": [
    "# Check vowel or consonants\n",
    "\n",
    "ch = input(\"Enter the Alphabet\")\n",
    "# if ch == 'a' or ch == 'e' or ch == 'i' or ch == 'o' or ch == 'u':\n",
    "#     print(\"Vowels Alphabets\")\n",
    "# elif ch == 'A' or ch == 'E' or ch == 'I' or ch == 'O' or ch == 'U':\n",
    "#     print(\"Vowles Alphabets\")\n",
    "# else:\n",
    "#     print(\"Consonants\")\n",
    "\n",
    "# Easy Way\n",
    "\n",
    "if ch in ['a','e','i','o','u','A','E','I','O','U']:\n",
    "    print(\"Vowels\")\n",
    "else:\n",
    "    print(\"Consonants\")\n"
   ]
  },
  {
   "cell_type": "code",
   "execution_count": 34,
   "metadata": {},
   "outputs": [
    {
     "name": "stdout",
     "output_type": "stream",
     "text": [
      "STOP\n"
     ]
    }
   ],
   "source": [
    "# Traffic Lights\n",
    "traffic_light = input(\"Enter the light \\n r for Red \\n y for Yellow \\n g for Green\")\n",
    "\n",
    "if traffic_light == 'r' or traffic_light == 'R':\n",
    "    print(\"STOP\")\n",
    "elif traffic_light == 'y' or traffic_light == 'Y':\n",
    "    print(\"READY\")\n",
    "elif traffic_light == 'g' or traffic_light == 'G':\n",
    "    print(\"Go\")\n",
    "else:\n",
    "    print(\"Pay Chalan\")\n",
    "\n",
    "\n",
    "\n",
    "# if traffic_light in ['r','y','g','R','Y',\"G\"]:\n",
    "#     print(\"Traffic Light\")\n",
    "# else:\n",
    "#     print(\"Not the Traffic Light\")"
   ]
  },
  {
   "cell_type": "code",
   "execution_count": 33,
   "metadata": {},
   "outputs": [
    {
     "name": "stdout",
     "output_type": "stream",
     "text": [
      "This is a recatangle\n",
      "The area of the rectange : 6\n"
     ]
    }
   ],
   "source": [
    "Length = int(input(\"Enter the Length\"))\n",
    "Breath = int(input(\"Enter the Breadth\"))\n",
    "\n",
    "if Length == Breath:\n",
    "    print(\"This is a Square\")\n",
    "    print(\"The area of the square is :\",Length ** 2)\n",
    "else:\n",
    "    print(\"This is a recatangle\")\n",
    "    print(\"The area of the rectange :\",Length * Breath)\n",
    "    "
   ]
  },
  {
   "cell_type": "code",
   "execution_count": 10,
   "metadata": {},
   "outputs": [
    {
     "name": "stdout",
     "output_type": "stream",
     "text": [
      "Don't Feed Me!\n"
     ]
    }
   ],
   "source": [
    "Hungry = bool(int(input(\"Enter 1 for True or 0 for False: \")))\n",
    "if Hungry:\n",
    "    print(\"Feed Me!\")\n",
    "else:\n",
    "    print(\"Don't Feed Me!\")\n",
    "\n",
    "\n",
    "\n"
   ]
  },
  {
   "cell_type": "code",
   "execution_count": 48,
   "metadata": {},
   "outputs": [
    {
     "name": "stdout",
     "output_type": "stream",
     "text": [
      "Cars are cool\n"
     ]
    }
   ],
   "source": [
    "loc = input(\"Enter the Auto Shop \\n Bank \\n Store\")\n",
    "if loc == 'Auto Shop':\n",
    "    print(\"Cars are cool\")\n",
    "elif loc == 'Bank':\n",
    "    print(\"Money is cool!\")\n",
    "elif loc == 'Store':\n",
    "    print(\"Welcome to the store\")\n",
    "else:\n",
    "    print(\"I do not Know so much\")"
   ]
  },
  {
   "cell_type": "markdown",
   "metadata": {},
   "source": [
    "# Class 3\n"
   ]
  },
  {
   "cell_type": "code",
   "execution_count": 4,
   "metadata": {},
   "outputs": [
    {
     "name": "stdout",
     "output_type": "stream",
     "text": [
      "9 c is greatest\n"
     ]
    }
   ],
   "source": [
    "# Nested Loop\n",
    "\n",
    "a = int(input(\"Enter the Number\"))\n",
    "b = int(input(\"Enter the Number\"))\n",
    "c = int(input(\"Enter the Number\"))\n",
    "\n",
    "if(a>b):\n",
    "    if(a>c):\n",
    "        print(a,\"a is greatest\")\n",
    "    else:\n",
    "        print(c,\"c is greatest\")\n",
    "else:\n",
    "    if(b>c):\n",
    "        print(b,\"b is greatest\")\n",
    "    else:\n",
    "        print(c,\"c is greatest\")\n"
   ]
  },
  {
   "cell_type": "code",
   "execution_count": 7,
   "metadata": {},
   "outputs": [
    {
     "name": "stdout",
     "output_type": "stream",
     "text": [
      "Nirmit Malik\n",
      "Nirmit Malik\n",
      "Nirmit Malik\n",
      "Nirmit Malik\n",
      "Nirmit Malik\n",
      "Nirmit Malik\n",
      "Nirmit Malik\n",
      "Nirmit Malik\n",
      "Nirmit Malik\n",
      "Nirmit Malik\n"
     ]
    }
   ],
   "source": [
    "# Loop statements\n",
    "\n",
    "# While loop --- Interview\n",
    "# For loop --- For Projects\n",
    "\n",
    "# Syntax\n",
    "\n",
    "# var_intitalization  // From where to start\n",
    "# While condition: // where to stop\n",
    "    # statement / logic\n",
    "    # inc / decr\n",
    "\n",
    "\n",
    "# print your names\n",
    "\n",
    "\n",
    "i = 0\n",
    "while(i < 10):\n",
    "    print(\"Nirmit Malik\")\n",
    "    i+=1\n",
    "\n"
   ]
  },
  {
   "cell_type": "code",
   "execution_count": 8,
   "metadata": {},
   "outputs": [
    {
     "name": "stdout",
     "output_type": "stream",
     "text": [
      "1\n",
      "2\n",
      "3\n",
      "4\n",
      "5\n",
      "6\n",
      "7\n",
      "8\n",
      "9\n",
      "10\n"
     ]
    }
   ],
   "source": [
    "# print first Natural Number\n",
    "i = 1\n",
    "while(i<=10):\n",
    "    print(i)\n",
    "    i+=1\n",
    "\n"
   ]
  },
  {
   "cell_type": "code",
   "execution_count": 11,
   "metadata": {},
   "outputs": [
    {
     "name": "stdout",
     "output_type": "stream",
     "text": [
      "10 9 8 7 6 5 4 3 2 1 "
     ]
    }
   ],
   "source": [
    "# Print First Natural Number\n",
    "i = 10\n",
    "while(i>0):\n",
    "    print(i,end=\" \")\n",
    "    i-=1"
   ]
  },
  {
   "cell_type": "code",
   "execution_count": 14,
   "metadata": {},
   "outputs": [
    {
     "name": "stdout",
     "output_type": "stream",
     "text": [
      "55\n"
     ]
    }
   ],
   "source": [
    "i = 1\n",
    "sum = 0\n",
    "while(i <= 10):\n",
    "    sum+=i\n",
    "    i+=1\n",
    "print(sum)\n",
    "    "
   ]
  },
  {
   "cell_type": "code",
   "execution_count": 24,
   "metadata": {},
   "outputs": [
    {
     "name": "stdout",
     "output_type": "stream",
     "text": [
      "1 3 5 7 9 11 13 15 17 19 21 23 25 27 29 31 33 35 37 39 41 43 45 47 49 51 53 55 57 59 61 63 65 67 69 71 73 75 77 79 81 83 85 87 89 91 93 95 97 99 "
     ]
    }
   ],
   "source": [
    "i = 1\n",
    "while(i <= 100):\n",
    "    if(i % 2 != 0):\n",
    "        print(i,end = \" \")\n",
    "    i+=1\n"
   ]
  },
  {
   "cell_type": "code",
   "execution_count": 33,
   "metadata": {},
   "outputs": [
    {
     "name": "stdout",
     "output_type": "stream",
     "text": [
      "Sum from 1 to 100 of all even Numbers is : 2550  &  Sum from 1 to 100 all odd Numbers are : 2500\n"
     ]
    }
   ],
   "source": [
    "# Print the sum of all even Numbers and odd Number\n",
    "\n",
    "i = 1\n",
    "s_e = 0\n",
    "s_o = 0\n",
    "while(i<=100):\n",
    "    if(i%2 == 0):\n",
    "        s_e+=i\n",
    "    else:\n",
    "        s_o+=i\n",
    "    i+=1\n",
    "print(\"Sum from 1 to 100 of all even Numbers is :\",s_e ,\" &  Sum from 1 to 100 all odd Numbers are :\", s_o)\n"
   ]
  },
  {
   "cell_type": "code",
   "execution_count": 8,
   "metadata": {},
   "outputs": [
    {
     "name": "stdout",
     "output_type": "stream",
     "text": [
      "3548464546416516468415641541655641651561 * 1 = 3548464546416516468415641541655641651561\n",
      "3548464546416516468415641541655641651561 * 2 = 7096929092833032936831283083311283303122\n",
      "3548464546416516468415641541655641651561 * 3 = 10645393639249549405246924624966924954683\n",
      "3548464546416516468415641541655641651561 * 4 = 14193858185666065873662566166622566606244\n",
      "3548464546416516468415641541655641651561 * 5 = 17742322732082582342078207708278208257805\n",
      "3548464546416516468415641541655641651561 * 6 = 21290787278499098810493849249933849909366\n",
      "3548464546416516468415641541655641651561 * 7 = 24839251824915615278909490791589491560927\n",
      "3548464546416516468415641541655641651561 * 8 = 28387716371332131747325132333245133212488\n",
      "3548464546416516468415641541655641651561 * 9 = 31936180917748648215740773874900774864049\n",
      "3548464546416516468415641541655641651561 * 10 = 35484645464165164684156415416556416515610\n"
     ]
    }
   ],
   "source": [
    "# Table of the Given Number\n",
    "a = int(input(\"Enter the Given Number\"))\n",
    "i = 1\n",
    "while(i <= 10):\n",
    "    print(a,\"*\",i,\"=\",a*i)\n",
    "    i+=1"
   ]
  },
  {
   "cell_type": "code",
   "execution_count": 12,
   "metadata": {},
   "outputs": [
    {
     "name": "stdout",
     "output_type": "stream",
     "text": [
      "1,2,4,13,26,52,"
     ]
    }
   ],
   "source": [
    "# Factors of the Given Number\n",
    "\n",
    "a = int(input(\"Enter the Number\"))\n",
    "i=1\n",
    "\n",
    "while(i<=a):\n",
    "    if(a%i == 0):\n",
    "        print(i,end=\",\")\n",
    "    i+=1"
   ]
  },
  {
   "cell_type": "code",
   "execution_count": 30,
   "metadata": {},
   "outputs": [
    {
     "name": "stdout",
     "output_type": "stream",
     "text": [
      "6\n"
     ]
    }
   ],
   "source": [
    "# Factorial of the Given Number\n",
    "a = int(input('Enter the given Number'))\n",
    "fact = 1\n",
    "i = 1\n",
    "# while(a>0):\n",
    "#     i = i * a\n",
    "#     a-= 1\n",
    "# print(i)\n",
    "\n",
    "while(i<=a):\n",
    "    fact = fact * i\n",
    "    i += 1\n",
    "print(fact)\n",
    "\n"
   ]
  },
  {
   "cell_type": "code",
   "execution_count": 24,
   "metadata": {},
   "outputs": [
    {
     "name": "stdout",
     "output_type": "stream",
     "text": [
      "Given Number is a prime Number\n"
     ]
    }
   ],
   "source": [
    "# Count of the given Number\n",
    "\n",
    "a = int(input(\"Enter the Number\"))\n",
    "i=1\n",
    "counter = 0\n",
    "\n",
    "while(i<=a):\n",
    "    if(a%i == 0):\n",
    "        counter+=1\n",
    "    i+=1\n",
    "if counter == 2:\n",
    "    print(\"Given Number is a prime Number\")\n",
    "else:\n",
    "    print(\"Given Number is not a prime Number\")"
   ]
  },
  {
   "cell_type": "code",
   "execution_count": 26,
   "metadata": {},
   "outputs": [
    {
     "name": "stdout",
     "output_type": "stream",
     "text": [
      "the sum is : 7\n"
     ]
    }
   ],
   "source": [
    "# Sum of a digit of a Number\n",
    "a = int(input(\"Enter the Number\"))\n",
    "sum = 0\n",
    "while(a > 0):\n",
    "    rem = a % 10\n",
    "    sum += rem\n",
    "    a = a // 10\n",
    "print(\"the sum is :\",sum)"
   ]
  },
  {
   "cell_type": "code",
   "execution_count": 34,
   "metadata": {},
   "outputs": [
    {
     "name": "stdout",
     "output_type": "stream",
     "text": [
      "the reverse of a Number : 4321\n"
     ]
    }
   ],
   "source": [
    "# Reverse of a Number\n",
    "a = int(input(\"Enter the Number\"))\n",
    "rev = 0\n",
    "while(a > 0):\n",
    "    rem = a % 10\n",
    "    rev = rev*10 + rem\n",
    "    a = a // 10\n",
    "print(\"the reverse of a Number :\",rev)"
   ]
  },
  {
   "cell_type": "markdown",
   "metadata": {},
   "source": [
    "# Class 4"
   ]
  },
  {
   "cell_type": "code",
   "execution_count": 2,
   "metadata": {},
   "outputs": [
    {
     "name": "stdout",
     "output_type": "stream",
     "text": [
      "Palindrome Number\n"
     ]
    }
   ],
   "source": [
    "# Palidrome Number\n",
    "n = int(input(\"Enter the Number\"))\n",
    "rev = 0\n",
    "n1 = n\n",
    "while(n>0):\n",
    "    rem = n %10\n",
    "    rev = rev*10+ rem\n",
    "    n = n//10\n",
    "if n1 == rev:\n",
    "    print(\"Palindrome Number\")\n",
    "else:\n",
    "    print(\"Not a palindrome Number\")"
   ]
  },
  {
   "cell_type": "code",
   "execution_count": null,
   "metadata": {},
   "outputs": [],
   "source": [
    "# ArmstrongNumber for 3 digits ---- 153,370,371,407\n",
    "n = int(input(\"Enter the number\"))\n",
    "sum = 0\n",
    "n1 = n\n",
    "while(n > 0):\n",
    "    rem = n % 10 \n",
    "    sum += rem**3\n",
    "    n = n// 10\n",
    "if sum == n:\n",
    "    print(\"Aremstrong Number\")\n",
    "else:\n",
    "    print(\"Not a Armstrong Number\")"
   ]
  },
  {
   "cell_type": "code",
   "execution_count": 5,
   "metadata": {},
   "outputs": [
    {
     "name": "stdout",
     "output_type": "stream",
     "text": [
      "Armstrong Number\n"
     ]
    }
   ],
   "source": [
    "# ArmstrongNumber for n digits ----- 548834\n",
    "n = int(input(\"Enter the Number\"))\n",
    "sum = 0\n",
    "counter = 0\n",
    "n1 = n\n",
    "n2 = n\n",
    "while(n > 0):\n",
    "    rem = n % 10\n",
    "    counter +=1\n",
    "    n = n//10\n",
    "while(n1 > 0):\n",
    "    rem = n1 % 10\n",
    "    sum += rem**counter\n",
    "    n1 = n1 // 10\n",
    "if n2 == sum:\n",
    "    print(\"Armstrong Number\")\n",
    "else:\n",
    "    print(\"Not a Armstrong\")\n"
   ]
  },
  {
   "cell_type": "markdown",
   "metadata": {},
   "source": [
    "# For Loop\n"
   ]
  },
  {
   "cell_type": "code",
   "execution_count": 10,
   "metadata": {},
   "outputs": [
    {
     "name": "stdout",
     "output_type": "stream",
     "text": [
      "100,95,90,85,80,75,70,65,60,55,50,45,40,35,30,25,20,15,10,5,"
     ]
    }
   ],
   "source": [
    "# for i in \"DataScience\":\n",
    "    # print(i)\n",
    "# for i in [12,2,24,43,3]:\n",
    "    # print(i)\n",
    "# for i in (12,34,54,65,75):\n",
    "    # print(i)\n",
    "# for i in {23,43,53,54,54}:\n",
    "    # print(i)\n",
    "# for i in {\"Name\":\"Dev\",\"Age\":\"12\"}:\n",
    "    # print(i)\n",
    "\n",
    "\n",
    "\n",
    "# Range Function\n",
    "\n",
    "# range(10)----- 0 to 9\n",
    "# range(1,14) --- 1 to 13\n",
    "# range(1,100,5) --- 1,6,11,16,21,26\n",
    "\n",
    "for i in range(100,1,-5):\n",
    "    print(i,end =\",\")"
   ]
  },
  {
   "cell_type": "code",
   "execution_count": 12,
   "metadata": {},
   "outputs": [
    {
     "name": "stdout",
     "output_type": "stream",
     "text": [
      "Nirmit Malik Nirmit Malik Nirmit Malik Nirmit Malik Nirmit Malik Nirmit Malik Nirmit Malik Nirmit Malik Nirmit Malik "
     ]
    }
   ],
   "source": [
    "# print your Name 10 times\n",
    "\n",
    "for i in range(1,10):\n",
    "    print(\"Nirmit Malik\",end=\" \")"
   ]
  },
  {
   "cell_type": "code",
   "execution_count": 14,
   "metadata": {},
   "outputs": [
    {
     "name": "stdout",
     "output_type": "stream",
     "text": [
      "1,2,3,4,5,6,7,8,9,10,"
     ]
    }
   ],
   "source": [
    "# Print first 10 Natural Number\n",
    "for i in range(1,11):\n",
    "    print(i,end=\",\")"
   ]
  },
  {
   "cell_type": "code",
   "execution_count": 17,
   "metadata": {},
   "outputs": [
    {
     "name": "stdout",
     "output_type": "stream",
     "text": [
      "2,4,6,8,10,12,14,16,18,20,22,24,26,28,30,32,34,36,38,40,42,44,46,48,50,52,54,56,58,60,62,64,66,68,70,72,74,76,78,80,82,84,86,88,90,92,94,96,98,100,"
     ]
    }
   ],
   "source": [
    "# 1 t0 100 even Numbers\n",
    "for i in range(1,101):\n",
    "    if(i % 2 == 0):\n",
    "        print(i,end =\",\")"
   ]
  },
  {
   "cell_type": "code",
   "execution_count": 21,
   "metadata": {},
   "outputs": [
    {
     "name": "stdout",
     "output_type": "stream",
     "text": [
      "2550 Sum of even Numbers\n",
      "2500 Sum of odd Numbers\n"
     ]
    }
   ],
   "source": [
    "# Sum of even Numbers\n",
    "sum_e = 0\n",
    "sum_o = 0\n",
    "for i in range(1,101):\n",
    "    if(i%2 == 0):\n",
    "        sum_e +=i\n",
    "    else:\n",
    "        sum_o +=i\n",
    "print(sum,\"Sum of even Numbers\")\n",
    "print(sum_o,\"Sum of odd Numbers\")"
   ]
  },
  {
   "cell_type": "code",
   "execution_count": 22,
   "metadata": {},
   "outputs": [
    {
     "name": "stdout",
     "output_type": "stream",
     "text": [
      "7503\n"
     ]
    }
   ],
   "source": [
    "# sum of the digits\n",
    "n = int(input(\"Enter the Number\"))\n",
    "\n",
    "sum = 0\n",
    "for i in range(1,n):\n",
    "    sum += i\n",
    "print(sum)"
   ]
  },
  {
   "cell_type": "code",
   "execution_count": 28,
   "metadata": {},
   "outputs": [
    {
     "name": "stdout",
     "output_type": "stream",
     "text": [
      "1 2 3 6 "
     ]
    }
   ],
   "source": [
    "n = int(input(\"Enter the Number\"))\n",
    "for i in range(1,n+1):\n",
    "    if (n % i == 0):\n",
    "        print(i,end=\" \")\n",
    "    "
   ]
  },
  {
   "cell_type": "code",
   "execution_count": 29,
   "metadata": {},
   "outputs": [
    {
     "name": "stdout",
     "output_type": "stream",
     "text": [
      "2 4 6 8 10 12 14 16 18 20 "
     ]
    }
   ],
   "source": [
    "n = int(input(\"Enter the Number\"))\n",
    "for i in range(1,11):\n",
    "    print(n*i,end =\" \")"
   ]
  },
  {
   "cell_type": "code",
   "execution_count": 53,
   "metadata": {},
   "outputs": [
    {
     "name": "stdout",
     "output_type": "stream",
     "text": [
      "Not a prime Number\n"
     ]
    }
   ],
   "source": [
    "# Find a Prime Number\n",
    "n = int(input(\"Enter the Number\"))\n",
    "counter = 0\n",
    "for i in range(1,n+1):\n",
    "    if(n%i==0):\n",
    "        counter+=1\n",
    "    else:\n",
    "        continue\n",
    "if(counter == 2):\n",
    "    print(\"Prime Number\")\n",
    "else:\n",
    "    print(\"Not a prime Number\")\n"
   ]
  },
  {
   "cell_type": "code",
   "execution_count": 44,
   "metadata": {},
   "outputs": [
    {
     "name": "stdout",
     "output_type": "stream",
     "text": [
      "Tata Bye Bye !!!\n",
      "2\n",
      "Tata Bye Bye !!!\n",
      "56\n",
      "Tata Bye Bye !!!\n"
     ]
    }
   ],
   "source": [
    "a = (1,2,5,56,51)\n",
    "for i in a:\n",
    "    if(i%2 == 0):\n",
    "        print(i)\n",
    "    else:\n",
    "        print(\"Tata Bye Bye !!!\")"
   ]
  },
  {
   "cell_type": "code",
   "execution_count": 46,
   "metadata": {},
   "outputs": [
    {
     "name": "stdout",
     "output_type": "stream",
     "text": [
      "I$I$I$T$ $D$e$l$h$i$"
     ]
    }
   ],
   "source": [
    "string = 'IIIT Delhi'\n",
    "for i in string:\n",
    "    print(i,end=\"$\")"
   ]
  },
  {
   "cell_type": "code",
   "execution_count": 48,
   "metadata": {},
   "outputs": [],
   "source": [
    "a = \"Hello Everyone how are you\"\n",
    "vowel = [\"a\",\"e\",\"i\",\"o\",\"u\"]\n",
    "for i in a:\n",
    "    if i in vowel:\n",
    "        print(i)"
   ]
  },
  {
   "cell_type": "code",
   "execution_count": 50,
   "metadata": {},
   "outputs": [
    {
     "name": "stdout",
     "output_type": "stream",
     "text": [
      "Good one\n",
      "Good one\n",
      "Data Science\n"
     ]
    }
   ],
   "source": [
    "word =\"hello1\"\n",
    "for w in word:\n",
    "    if w==\"l\":\n",
    "        print(\"Good one\")\n",
    "else:\n",
    "    print(\"Data Science\")"
   ]
  },
  {
   "cell_type": "code",
   "execution_count": 52,
   "metadata": {},
   "outputs": [
    {
     "name": "stdout",
     "output_type": "stream",
     "text": [
      "a\n",
      "hello\n",
      "r\n",
      "hello\n",
      "that's great\n",
      "p\n",
      "hello\n",
      "i\n",
      "hello\n",
      "t\n",
      "hello\n",
      "t\n"
     ]
    }
   ],
   "source": [
    "name = \"arpit\"\n",
    "for i in name:\n",
    "    if i == 'p':\n",
    "        print(\"that's great\")\n",
    "    print(i)\n",
    "    print(\"hello\")\n",
    "print(i)"
   ]
  },
  {
   "cell_type": "code",
   "execution_count": 56,
   "metadata": {},
   "outputs": [
    {
     "name": "stdout",
     "output_type": "stream",
     "text": [
      "a\n",
      "hii\n",
      "r\n",
      "p\n",
      "i\n",
      "t\n"
     ]
    }
   ],
   "source": [
    "name = \"arpit\"\n",
    "\n",
    "for i in name:\n",
    "    if i=='r':\n",
    "        print(\"hii\")\n",
    "    print(i)"
   ]
  },
  {
   "cell_type": "code",
   "execution_count": 57,
   "metadata": {},
   "outputs": [
    {
     "name": "stdout",
     "output_type": "stream",
     "text": [
      "11 22 33 44 55 66 77 88 99 101 111 121 131 141 151 161 171 181 191 202 212 222 232 242 252 262 272 282 292 303 313 323 333 343 353 363 373 383 393 404 414 424 434 444 454 464 474 484 494 505 515 525 535 545 555 565 575 585 595 606 616 626 636 646 656 666 676 686 696 707 717 727 737 747 757 767 777 787 797 808 818 828 838 848 858 868 878 888 898 909 919 929 939 949 959 969 979 989 999 "
     ]
    }
   ],
   "source": [
    "# palindrome Number -- by for loop\n",
    "for i in range(11,1000):\n",
    "    n = i\n",
    "    rev = 0\n",
    "    while(n>0):\n",
    "        rem = n%10\n",
    "        rev = rev*10 + rem\n",
    "        n = n//10\n",
    "    if rev == i:\n",
    "        print(i,end =\" \")\n"
   ]
  },
  {
   "cell_type": "code",
   "execution_count": 58,
   "metadata": {},
   "outputs": [
    {
     "name": "stdout",
     "output_type": "stream",
     "text": [
      "153 370 371 407 "
     ]
    }
   ],
   "source": [
    "# Armstrong Number -- 3 digit\n",
    "for i in range(101,1000):\n",
    "    n = i\n",
    "    s = 0\n",
    "    while(n > 0):\n",
    "        rem = n %10\n",
    "        s += rem**3\n",
    "        n = n//10\n",
    "    if s == i:\n",
    "        print(i,end=\" \")\n"
   ]
  },
  {
   "cell_type": "code",
   "execution_count": 8,
   "metadata": {},
   "outputs": [
    {
     "name": "stdout",
     "output_type": "stream",
     "text": [
      "3\n",
      "Armstrong Number\n"
     ]
    }
   ],
   "source": [
    "# Armstrong Using 'for' loop\n",
    "n = int(input(\"Enter the Number\"))\n",
    "n1 = str(n)\n",
    "n2 = n\n",
    "n3 = n\n",
    "count = 0\n",
    "sum = 0\n",
    "for i in range(len(n1)):\n",
    "    count+=1\n",
    "print(count)\n",
    "while(n2 > 0):\n",
    "    rem = n2 % 10\n",
    "    sum += rem**count\n",
    "    n2 = n2 // 10\n",
    "if n3 == sum:\n",
    "    print(\"Armstrong Number\")\n",
    "else:\n",
    "    print(\"Not a Armstrong Number\")"
   ]
  },
  {
   "cell_type": "markdown",
   "metadata": {},
   "source": [
    "# Class 5 --- List"
   ]
  },
  {
   "cell_type": "code",
   "execution_count": 1,
   "metadata": {},
   "outputs": [],
   "source": [
    "# Array --- It's a Homogenous data structure\n",
    "# List -- Sequenced Data Structure\n",
    "# Hetreogenous \n",
    "# Ordered or indexed\n",
    "# \"Mutable\"\n",
    "# enclosed in []\n",
    "\n",
    "\n",
    "# Example:-\n",
    "# ls = [] ---- Empty List\n",
    "# ls = [12,23,34,45,56] ---- integer\n",
    "# ls = ['a','e','i','o','u'] --- String\n",
    "# ls = [12.3,4.6,75.8]  --- Float\n",
    "# ls = [112,23,34.5,\"Hello\"] -- mixed\n",
    "\n",
    "# print(ls)\n",
    "\n",
    "\n",
    "# By using a constructor\n",
    "\n",
    "ls = list(\"Hello\")\n",
    "print(ls) #Output --- ['h','e','l','l','o']\n",
    "ls = list((12,23,34,45))\n",
    "print(ls) #Output ----- [12,23,34,45]\n",
    "\n",
    "# Accesing the list elements\n",
    "ls =[11,22,33,44,55,66,77]\n",
    "print(ls[5])\n",
    "print(ls[-2])\n",
    "\n",
    "\n",
    "# Asscesing in Nested Loop:-\n",
    "ls = [12,23,34,45,[67,78,89,98,[98,867,76]],56,[87]]\n",
    "print(ls[3])  #45\n",
    "print(ls[4])  #[67,78,89,98,[98,867,76]]\n",
    "print(ls[4][3])  # 98\n",
    "print(ls[4][4])  # [98,867,76]\n",
    "print(ls[4][4][1])  # 867\n",
    "\n",
    "\n",
    "# Updation:-\n",
    "ls = [12,23,34,45,56]\n",
    "print(ls)\n",
    "ls[2] = \"hello\"\n",
    "print(ls)"
   ]
  },
  {
   "cell_type": "code",
   "execution_count": 19,
   "metadata": {},
   "outputs": [
    {
     "name": "stdout",
     "output_type": "stream",
     "text": [
      "[45, 56, 67, 78, 89]\n",
      "[12, 23, 34, 45, 56, 67, 78, 89]\n",
      "[45, 56, 67, 78, 89, 98]\n",
      "[12, 23, 34, 45, 56, 67, 78, 89, 98]\n",
      "[98, 89, 78]\n"
     ]
    }
   ],
   "source": [
    "# Slice Operator --- \":\"\n",
    "ls = [12,23,34,45,56,67,78,89,98]\n",
    "print(ls[3:8]) # 3 4 5 6 7 --- index\n",
    "print(ls[:8]) # from begining --- 7\n",
    "print(ls[3:]) # start from 3 end to the last\n",
    "print(ls[:] )# from the begining to start\n",
    "print(ls[-1:-4:-1]) # ls[start : stop : step]\n"
   ]
  },
  {
   "cell_type": "code",
   "execution_count": 41,
   "metadata": {},
   "outputs": [
    {
     "name": "stdout",
     "output_type": "stream",
     "text": [
      "[12, 23, 34, 45, 56, 67, 78, 89, 98]\n",
      "[12, 23, 34, 'hello', 'hii', 'yellow', 78, 89, 98]\n"
     ]
    }
   ],
   "source": [
    "# Muli-Updation\n",
    "ls = [12,23,34,45,56,67,78,89,98]\n",
    "print(ls)\n",
    "ls[3:6] = [\"hello\",\"hii\",\"yellow\"]\n",
    "print(ls)"
   ]
  },
  {
   "cell_type": "code",
   "execution_count": 15,
   "metadata": {},
   "outputs": [
    {
     "name": "stdout",
     "output_type": "stream",
     "text": [
      "[12, 23, 34, 45, 56, 67, 78, 89, 98]\n",
      "[12, 23, 34, 56, 67, 78, 89, 98]\n",
      "[12, 23, 34, 78, 89, 98]\n"
     ]
    }
   ],
   "source": [
    "# Delete the Operation --- del(Not a method),pop,remove\n",
    "ls = [12,23,34,45,56,67,78,89,98]\n",
    "print(ls)\n",
    "del(ls[3])\n",
    "print(ls)\n",
    "del(ls[3:5])\n",
    "print(ls)"
   ]
  },
  {
   "cell_type": "code",
   "execution_count": 6,
   "metadata": {},
   "outputs": [
    {
     "name": "stdout",
     "output_type": "stream",
     "text": [
      "[12, 23, 34, 45, 56, 67, 78, 89, 98]\n",
      "[12, 23, 34, 45, 56, 67, 78, 89]\n"
     ]
    }
   ],
   "source": [
    "# pop()\n",
    "ls = [12,23,34,34,45,56,67,78,89,98]\n",
    "ls.pop(3)\n",
    "print(ls)\n",
    "ls.pop()\n",
    "print(ls)\n",
    "\n",
    "# remove()\n",
    "# ls.remove(34)\n",
    "# print(ls)"
   ]
  },
  {
   "cell_type": "code",
   "execution_count": 33,
   "metadata": {},
   "outputs": [
    {
     "name": "stdout",
     "output_type": "stream",
     "text": [
      "[12, 23, 34, 45, 'Hello']\n"
     ]
    }
   ],
   "source": [
    "# List Methods\n",
    "# append() -- \n",
    "ls =  [12,23,34,45]\n",
    "ls.append(\"Hello\")\n",
    "print(ls)"
   ]
  },
  {
   "cell_type": "code",
   "execution_count": 37,
   "metadata": {},
   "outputs": [
    {
     "name": "stdout",
     "output_type": "stream",
     "text": [
      "[1, 2, 3, 4, 5, 5, 5, 8, 7, 45]\n"
     ]
    }
   ],
   "source": [
    "# Make list of 10 integers\n",
    "ls = []\n",
    "for i in range(1,11):\n",
    "    n = int(input(\"Enter the Number\"))\n",
    "    ls.append(n)\n",
    "print(ls)"
   ]
  },
  {
   "cell_type": "code",
   "execution_count": 39,
   "metadata": {},
   "outputs": [
    {
     "name": "stdout",
     "output_type": "stream",
     "text": [
      "[2, 4, 6, 8, 10] [1, 3, 5, 7, 9]\n"
     ]
    }
   ],
   "source": [
    "ls = []\n",
    "for i in range(1,11):\n",
    "    n = int(input(\"Enter the Number\"))\n",
    "    ls.append(n)\n",
    "ls_e = []\n",
    "ls_o = []\n",
    "for i in ls:\n",
    "    if (i%2 == 0):\n",
    "        ls_e.append(i)\n",
    "    else:\n",
    "        ls_o.append(i)\n",
    "print(ls_e,ls_o)"
   ]
  },
  {
   "cell_type": "code",
   "execution_count": 40,
   "metadata": {},
   "outputs": [
    {
     "name": "stdout",
     "output_type": "stream",
     "text": [
      "[1, 3, 5, 7, 9] [2, 4, 6, 8, 10]\n"
     ]
    }
   ],
   "source": [
    "ls_e = []\n",
    "ls_o = []\n",
    "for i in range(1,11):\n",
    "    n = int(input(\"Enter the Number\"))\n",
    "    if (i%2 == 0):\n",
    "        ls_e.append(i)\n",
    "    else:\n",
    "        ls_o.append(i)\n",
    "print(ls_o,ls_e)\n"
   ]
  },
  {
   "cell_type": "code",
   "execution_count": 50,
   "metadata": {},
   "outputs": [
    {
     "name": "stdout",
     "output_type": "stream",
     "text": [
      "[12, 2, 85, 777, 45]\n",
      "777\n"
     ]
    }
   ],
   "source": [
    "# Find the Maximum element in the list\n",
    "ls = [12,2,85,777,45]\n",
    "# for i in range(1,11):\n",
    "#     n = int(input(\"Enter the Number\"))\n",
    "#     ls.append(n)\n",
    "a = ls[0]\n",
    "for i in ls:\n",
    "    if(i>a):\n",
    "        a = i\n",
    "print(ls)\n",
    "print(a)\n",
    "        "
   ]
  },
  {
   "cell_type": "code",
   "execution_count": 51,
   "metadata": {},
   "outputs": [
    {
     "name": "stdout",
     "output_type": "stream",
     "text": [
      "[12, 2, 85, 777, 45]\n",
      "2\n"
     ]
    }
   ],
   "source": [
    "# Find the Minimum element in the list\n",
    "ls = [12,2,85,777,45]\n",
    "# for i in range(1,11):\n",
    "#     n = int(input(\"Enter the Number\"))\n",
    "#     ls.append(n)\n",
    "a = ls[0]\n",
    "for i in ls:\n",
    "    if(i<a):\n",
    "        a = i\n",
    "print(ls)\n",
    "print(a)"
   ]
  },
  {
   "cell_type": "code",
   "execution_count": 1,
   "metadata": {},
   "outputs": [
    {
     "name": "stdout",
     "output_type": "stream",
     "text": [
      "[12, 23, 34, 45, 56, 67, 78, 89]\n",
      "[12, 23, 34, 45, 56, 67, 78, 89, 111, 222, 333]\n"
     ]
    }
   ],
   "source": [
    "# Extend Method -- it is used to insert more than one element in the list at a time.\n",
    "# elements are always inserted at the end of the list.\n",
    "\n",
    "ls = [12,23,34,45,56,67,78,89]\n",
    "print(ls)\n",
    "ls.extend([111,222,333])\n",
    "print(ls)\n",
    "\n",
    "\n",
    "# A = [1,2,3,4,5]\n",
    "# B = [6,7,8,9,10]\n",
    "\n",
    "# C = A.extend(B)\n",
    "# print(c)\n"
   ]
  },
  {
   "cell_type": "markdown",
   "metadata": {},
   "source": [
    "# Class 6 List"
   ]
  },
  {
   "cell_type": "code",
   "execution_count": 2,
   "metadata": {},
   "outputs": [
    {
     "name": "stdout",
     "output_type": "stream",
     "text": [
      "[12, 23, 34, 'Hello Nirmit', 45, 56, 67, 78, 89]\n"
     ]
    }
   ],
   "source": [
    "# Insert Operation---- Inserting the element in tbe list at the desired index\n",
    "ls = [12,23,34,45,56,67,78,89]\n",
    "ls.insert(3,\"Hello Nirmit\")\n",
    "print(ls)"
   ]
  },
  {
   "cell_type": "code",
   "execution_count": 4,
   "metadata": {},
   "outputs": [
    {
     "name": "stdout",
     "output_type": "stream",
     "text": [
      "2458930900416\n",
      "2458930900416\n",
      "[12, 23, 'Nirmit', 45]\n",
      "[12, 23, 'Nirmit', 45]\n"
     ]
    }
   ],
   "source": [
    "# without copy() ---- \n",
    "x = [12,23,34,45]\n",
    "y = x\n",
    "print(id(x))   # address\n",
    "print(id(y))\n",
    "y[2] = \"Nirmit\"\n",
    "print(x)\n",
    "print(y)"
   ]
  },
  {
   "cell_type": "code",
   "execution_count": 5,
   "metadata": {},
   "outputs": [
    {
     "name": "stdout",
     "output_type": "stream",
     "text": [
      "2458930627904\n",
      "2458930829824\n",
      "[12, 23, 34, 45]\n",
      "[12, 23, 'Nirmit', 45]\n"
     ]
    }
   ],
   "source": [
    "#  With copy() ----- \n",
    "x = [12,23,34,45]\n",
    "y = x.copy()\n",
    "print(id(x))   # address\n",
    "print(id(y))\n",
    "y[2] = \"Nirmit\"\n",
    "print(x)\n",
    "print(y)"
   ]
  },
  {
   "cell_type": "code",
   "execution_count": 6,
   "metadata": {},
   "outputs": [
    {
     "name": "stdout",
     "output_type": "stream",
     "text": [
      "[12, 23, 34, 45]\n",
      "[]\n"
     ]
    }
   ],
   "source": [
    "# clear ---- return empty list\n",
    "ls = [12,23,34,45]\n",
    "print(ls)\n",
    "ls.clear()\n",
    "print(ls)"
   ]
  },
  {
   "cell_type": "code",
   "execution_count": 13,
   "metadata": {},
   "outputs": [
    {
     "name": "stdout",
     "output_type": "stream",
     "text": [
      "2\n"
     ]
    }
   ],
   "source": [
    "# count function\n",
    "ls = [12,23,23,34,45]\n",
    "x = ls.count(23)\n",
    "print(x)"
   ]
  },
  {
   "cell_type": "code",
   "execution_count": 16,
   "metadata": {},
   "outputs": [
    {
     "name": "stdout",
     "output_type": "stream",
     "text": [
      "[1, 2, 3, 4]\n"
     ]
    }
   ],
   "source": [
    "ls = [1,2,2,3,4]\n",
    "ls_u = []\n",
    "for i in ls:\n",
    "    if i not in ls_u:\n",
    "        ls_u.append(i)\n",
    "    else:\n",
    "        continue\n",
    "print(ls_u)"
   ]
  },
  {
   "cell_type": "code",
   "execution_count": 3,
   "metadata": {},
   "outputs": [
    {
     "name": "stdout",
     "output_type": "stream",
     "text": [
      "[1, 2, 2, 3, 4]\n",
      "[1, 2, 3, 4]\n",
      "1 is repeated for 1 times\n",
      "2 is repeated for 2 times\n",
      "3 is repeated for 1 times\n",
      "4 is repeated for 1 times\n"
     ]
    }
   ],
   "source": [
    "ls = [1,2,2,3,4]\n",
    "ls_u = []\n",
    "for i in ls:\n",
    "    if i not in ls_u:\n",
    "        ls_u.append(i)\n",
    "    else:\n",
    "        continue\n",
    "print(ls)\n",
    "print(ls_u)\n",
    "for i in ls_u:\n",
    "    print(i,\"is repeated for\",ls.count(i),\"times\")\n",
    "\n"
   ]
  },
  {
   "cell_type": "code",
   "execution_count": 25,
   "metadata": {},
   "outputs": [
    {
     "name": "stdout",
     "output_type": "stream",
     "text": [
      "[1, 2, 2, 3, 3, 4]\n",
      "[1, 2, 3, 4]\n"
     ]
    }
   ],
   "source": [
    "ls = [1,2,2,3,3,4]\n",
    "print(ls)\n",
    "ls_u = list(set(ls))\n",
    "print(ls_u)"
   ]
  },
  {
   "cell_type": "code",
   "execution_count": 27,
   "metadata": {},
   "outputs": [
    {
     "name": "stdout",
     "output_type": "stream",
     "text": [
      "[12, 2, 2, 23, 34, 45, 56]\n",
      "1\n"
     ]
    }
   ],
   "source": [
    "# Index() method ---- it return the index of first occurance of the element in the list\n",
    "ls = [12,2,2,23,34,45,56]\n",
    "print(ls)\n",
    "x = ls.index(2)\n",
    "print(x)"
   ]
  },
  {
   "cell_type": "code",
   "execution_count": 37,
   "metadata": {},
   "outputs": [
    {
     "name": "stdout",
     "output_type": "stream",
     "text": [
      "[12, 23, 34, 555, 1, 4]\n",
      "[555, 34, 23, 12, 4, 1]\n"
     ]
    }
   ],
   "source": [
    "# sort method\n",
    "ls =[12,23,34,555,1,4]\n",
    "print(ls)\n",
    "ls.sort(reverse=True)\n",
    "print(ls)"
   ]
  },
  {
   "cell_type": "code",
   "execution_count": 4,
   "metadata": {},
   "outputs": [
    {
     "name": "stdout",
     "output_type": "stream",
     "text": [
      "[12, 23, 34, 555, 1, 4]\n",
      "[4, 1, 555, 34, 23, 12]\n"
     ]
    }
   ],
   "source": [
    "# reverse Method\n",
    "ls =[12,23,34,555,1,4]\n",
    "print(ls)\n",
    "# ls.reverse()\n",
    "# print(ls)\n",
    "print(ls[::-1])"
   ]
  },
  {
   "cell_type": "code",
   "execution_count": 44,
   "metadata": {},
   "outputs": [
    {
     "name": "stdout",
     "output_type": "stream",
     "text": [
      "['Sumit']\n"
     ]
    }
   ],
   "source": [
    "L = [\"Amit\",\"Sumit\",\"Naina\"]\n",
    "print(L[1:-1])"
   ]
  },
  {
   "cell_type": "code",
   "execution_count": 45,
   "metadata": {},
   "outputs": [
    {
     "name": "stdout",
     "output_type": "stream",
     "text": [
      "['Nirmit', 'Nihar', 'Nirmit', 'Nihar']\n"
     ]
    }
   ],
   "source": [
    "L = [\"Nirmit\",\"Nihar\"]\n",
    "print(L*2)"
   ]
  },
  {
   "cell_type": "code",
   "execution_count": 49,
   "metadata": {},
   "outputs": [
    {
     "name": "stdout",
     "output_type": "stream",
     "text": [
      "[0.0, 0.5, 1.0, 1.5]\n"
     ]
    }
   ],
   "source": [
    "L = [0.5 * x for x in range(4)]\n",
    "print(L)"
   ]
  },
  {
   "cell_type": "code",
   "execution_count": 52,
   "metadata": {},
   "outputs": [
    {
     "name": "stdout",
     "output_type": "stream",
     "text": [
      "['', 'a', 'aa', 'aaa']\n"
     ]
    }
   ],
   "source": [
    "L = ['a' * x for x in range(4)]\n",
    "print(L)"
   ]
  },
  {
   "cell_type": "code",
   "execution_count": 61,
   "metadata": {},
   "outputs": [
    {
     "name": "stdout",
     "output_type": "stream",
     "text": [
      "None\n"
     ]
    }
   ],
   "source": [
    "T =[1,2,3,4]\n",
    "T1 = [5,6,7]\n",
    "L = T.append(T1)\n",
    "print(L)"
   ]
  },
  {
   "cell_type": "code",
   "execution_count": 2,
   "metadata": {},
   "outputs": [
    {
     "name": "stdout",
     "output_type": "stream",
     "text": [
      "[1, 4]\n"
     ]
    }
   ],
   "source": [
    "ls = [1,2,3,4,2,5]\n",
    "ls_u = []\n",
    "for i in range(len(ls)):\n",
    "    if ls.count(ls[i]) > 1:\n",
    "        ls_u.append(i)\n",
    "    else:\n",
    "        continue\n",
    "print(ls_u)\n"
   ]
  },
  {
   "cell_type": "markdown",
   "metadata": {},
   "source": [
    "# Class - 7 (String)"
   ]
  },
  {
   "cell_type": "markdown",
   "metadata": {},
   "source": [
    "Python - String\n",
    "In Python, string is an immutable sequence data type. It is the sequence of Unicode characters wrapped inside single, double, or triple quotes.\n",
    "\n",
    "'This is a string in Python' # string in single quotes\n",
    "\"This is a string in Python\" # string in double quotes\n",
    "'''This is a string in Python''' # string in triple quotes\n",
    "\"\"\"This is a string in Python\"\"\" # string in triple double-quotes"
   ]
  },
  {
   "cell_type": "code",
   "execution_count": 4,
   "metadata": {},
   "outputs": [
    {
     "name": "stdout",
     "output_type": "stream",
     "text": [
      "This is a string\n",
      "This is a \n",
      "multiple string\n",
      "single string\n"
     ]
    }
   ],
   "source": [
    "str1 = 'This is a string'\n",
    "print(str1)\n",
    "\n",
    "str2 = \"\"\"This is a \n",
    "multiple string\"\"\"\n",
    "print(str2)\n",
    "\n",
    "str3 = 'single string'\n",
    "print(str3)"
   ]
  },
  {
   "cell_type": "code",
   "execution_count": 6,
   "metadata": {},
   "outputs": [
    {
     "name": "stdout",
     "output_type": "stream",
     "text": [
      "h\n",
      "e\n",
      "l\n",
      "l\n",
      "o\n",
      "olleh\n"
     ]
    }
   ],
   "source": [
    "greet = 'hello'\n",
    "print(greet[0])\n",
    "print(greet[1])\n",
    "print(greet[2])\n",
    "print(greet[3])\n",
    "print(greet[4])\n",
    "print(greet[::-1])"
   ]
  },
  {
   "cell_type": "code",
   "execution_count": null,
   "metadata": {},
   "outputs": [],
   "source": [
    "# print(greet[0] = 'A') ---- TypeError"
   ]
  },
  {
   "cell_type": "code",
   "execution_count": 14,
   "metadata": {},
   "outputs": [
    {
     "name": "stdout",
     "output_type": "stream",
     "text": [
      "<class 'int'>\n",
      "<class 'str'>\n"
     ]
    }
   ],
   "source": [
    "a = 1234\n",
    "print(type(a))\n",
    "b = str(a)\n",
    "print(type(b))\n"
   ]
  },
  {
   "cell_type": "code",
   "execution_count": 19,
   "metadata": {},
   "outputs": [
    {
     "name": "stdout",
     "output_type": "stream",
     "text": [
      "Hello\n"
     ]
    }
   ],
   "source": [
    "b = \"hello\"\n",
    "c = b.capitalize()\n",
    "print(c)"
   ]
  },
  {
   "cell_type": "code",
   "execution_count": 22,
   "metadata": {},
   "outputs": [
    {
     "name": "stdout",
     "output_type": "stream",
     "text": [
      "3\n",
      "2\n",
      "hIII niRMiT\n"
     ]
    }
   ],
   "source": [
    "str = \"Hiii NIrmIt\"\n",
    "print(str.count('i'))\n",
    "print(str.count('I'))\n",
    "print(str.swapcase())"
   ]
  },
  {
   "cell_type": "code",
   "execution_count": 26,
   "metadata": {},
   "outputs": [
    {
     "name": "stdout",
     "output_type": "stream",
     "text": [
      "True\n",
      "False\n"
     ]
    }
   ],
   "source": [
    "str = \"Nirmitmalik18108677@gmail.com\"\n",
    "print(str.endswith('.com')) # Always return TRUE or FALSE\n",
    "print(str.startswith('n'))"
   ]
  },
  {
   "cell_type": "code",
   "execution_count": 31,
   "metadata": {},
   "outputs": [
    {
     "name": "stdout",
     "output_type": "stream",
     "text": [
      "5\n"
     ]
    }
   ],
   "source": [
    "# find() Method\n",
    "a = 'Hello '\n",
    "b = a.find(' ')\n",
    "print(b)"
   ]
  },
  {
   "cell_type": "code",
   "execution_count": 33,
   "metadata": {},
   "outputs": [
    {
     "name": "stdout",
     "output_type": "stream",
     "text": [
      "2\n"
     ]
    }
   ],
   "source": [
    "# index()\n",
    "a = 'hello'\n",
    "b = a.index('l')\n",
    "print(b)\n"
   ]
  },
  {
   "cell_type": "code",
   "execution_count": 52,
   "metadata": {},
   "outputs": [
    {
     "name": "stdout",
     "output_type": "stream",
     "text": [
      "True\n",
      "False\n",
      "True\n"
     ]
    }
   ],
   "source": [
    "a =\"12345\"\n",
    "c = a.isalnum()\n",
    "d = a.isspace()\n",
    "e = a.isdigit()\n",
    "print(c)\n",
    "print(d)\n",
    "print(e)"
   ]
  },
  {
   "cell_type": "code",
   "execution_count": 67,
   "metadata": {},
   "outputs": [
    {
     "name": "stdout",
     "output_type": "stream",
     "text": [
      "False\n",
      "he$$$llo\n",
      "HELLO\n"
     ]
    }
   ],
   "source": [
    "a = 'oihoidsfld'\n",
    "g = 'HE$$$LLO'\n",
    "h = 'hello'\n",
    "b = a.isupper()\n",
    "d = g.lower()\n",
    "r = h.upper()\n",
    "print(b)\n",
    "print(d)\n",
    "print(r)"
   ]
  },
  {
   "cell_type": "code",
   "execution_count": 63,
   "metadata": {},
   "outputs": [
    {
     "name": "stdout",
     "output_type": "stream",
     "text": [
      "True\n"
     ]
    }
   ],
   "source": [
    "a = 'Aree'\n",
    "b = a.istitle() # Only first alphabet is to be captial\n",
    "print(b)"
   ]
  },
  {
   "cell_type": "code",
   "execution_count": 75,
   "metadata": {},
   "outputs": [
    {
     "name": "stdout",
     "output_type": "stream",
     "text": [
      "Hellogg\n",
      "Hellogg\n",
      "Hello\n"
     ]
    }
   ],
   "source": [
    "a = 'Hellogg'\n",
    "b = a.lstrip()\n",
    "l = a.strip('gg')\n",
    "g = a.rstrip()\n",
    "print(b)\n",
    "print(g)\n",
    "print(l)"
   ]
  },
  {
   "cell_type": "code",
   "execution_count": 83,
   "metadata": {},
   "outputs": [
    {
     "name": "stdout",
     "output_type": "stream",
     "text": [
      "('Hello ', 'ji', ' Hello ji')\n",
      "('Hello ji Hello ', 'ji', '')\n"
     ]
    }
   ],
   "source": [
    "a = 'Hello ji Hello ji'\n",
    "b = a.partition('ji') # It always break into 3 pieces and return into tupple\n",
    "m = a.rpartition('ji')\n",
    "print(b)\n",
    "print(m)"
   ]
  },
  {
   "cell_type": "code",
   "execution_count": 86,
   "metadata": {},
   "outputs": [
    {
     "name": "stdout",
     "output_type": "stream",
     "text": [
      "['', 'ello ji ', 'ello ji']\n"
     ]
    }
   ],
   "source": [
    "a = 'Hello ji Hello ji'\n",
    "b = a.split('H') # The word that we split with is not present and return the list\n",
    "print(b)"
   ]
  },
  {
   "cell_type": "code",
   "execution_count": 87,
   "metadata": {},
   "outputs": [
    {
     "name": "stdout",
     "output_type": "stream",
     "text": [
      "['Hi', 'every', 'one ji ji']\n"
     ]
    }
   ],
   "source": [
    "a = 'Hi every one ji ji'\n",
    "b = a.split(' ',2)\n",
    "print(b)"
   ]
  },
  {
   "cell_type": "markdown",
   "metadata": {},
   "source": [
    "# Class 8 - String"
   ]
  },
  {
   "cell_type": "code",
   "execution_count": 1,
   "metadata": {},
   "outputs": [
    {
     "name": "stdout",
     "output_type": "stream",
     "text": [
      "('Happy', 'Monday', 'Everyone')\n"
     ]
    }
   ],
   "source": [
    "str1 = ('Happy','Monday','Everyone')\n",
    "print(str1)"
   ]
  },
  {
   "cell_type": "code",
   "execution_count": 6,
   "metadata": {},
   "outputs": [
    {
     "name": "stdout",
     "output_type": "stream",
     "text": [
      "Hello Asif\n"
     ]
    }
   ],
   "source": [
    "s1 = 'Hello'\n",
    "s2 = 'Asif'\n",
    "s3 = s1 + \" \" +s2\n",
    "print(s3)"
   ]
  },
  {
   "cell_type": "code",
   "execution_count": 9,
   "metadata": {},
   "outputs": [
    {
     "name": "stdout",
     "output_type": "stream",
     "text": [
      "True\n",
      "True\n",
      "False\n"
     ]
    }
   ],
   "source": [
    "mystr1 = \"Hello Everyone\"\n",
    "print('Hello' in mystr1)\n",
    "print('Everyone' in mystr1)\n",
    "print('Hi' in mystr1)"
   ]
  },
  {
   "cell_type": "code",
   "execution_count": 3,
   "metadata": {},
   "outputs": [
    {
     "name": "stdout",
     "output_type": "stream",
     "text": [
      ".......\n"
     ]
    }
   ],
   "source": [
    "str1 = \"******Hello********Everyone**********\"\n",
    "# print(str1.strip('*'))\n",
    "# print(str1.rstrip('*'))\n",
    "# print(str1.lstrip('*'))\n",
    "str = str1[11:18].replace(\"*\",\".\")\n",
    "print(str)"
   ]
  },
  {
   "cell_type": "code",
   "execution_count": 26,
   "metadata": {},
   "outputs": [
    {
     "name": "stdout",
     "output_type": "stream",
     "text": [
      "HElloEveryone\n"
     ]
    }
   ],
   "source": [
    "mystr1 = '   HEllo Everyone      '\n",
    "mystr2 = mystr1.replace(\" \",\"\")\n",
    "print(mystr2)"
   ]
  },
  {
   "cell_type": "code",
   "execution_count": 33,
   "metadata": {},
   "outputs": [
    {
     "name": "stdout",
     "output_type": "stream",
     "text": [
      "True\n"
     ]
    }
   ],
   "source": [
    "str2 = \"one two three one two three\"\n",
    "print(str2.startswith('one'))\n"
   ]
  },
  {
   "cell_type": "code",
   "execution_count": 6,
   "metadata": {},
   "outputs": [
    {
     "name": "stdout",
     "output_type": "stream",
     "text": [
      "Cost of item3, item2 and item1 are 40,60 and 20\n"
     ]
    }
   ],
   "source": [
    "item1 = 20\n",
    "item2 = 60\n",
    "item3 = 40\n",
    "print(\"Cost of item3, item2 and item1 are {2},{1} and {0}\".format(item1,item2,item3))"
   ]
  },
  {
   "cell_type": "code",
   "execution_count": 7,
   "metadata": {},
   "outputs": [
    {
     "name": "stdout",
     "output_type": "stream",
     "text": [
      "                                          Welcome Everyone                                          \n"
     ]
    }
   ],
   "source": [
    "str2 = \"Welcome Everyone\"\n",
    "str2 = str2.center(100)\n",
    "print(str2)"
   ]
  },
  {
   "cell_type": "code",
   "execution_count": 10,
   "metadata": {},
   "outputs": [
    {
     "name": "stdout",
     "output_type": "stream",
     "text": [
      "**********************************Welcome Everyone\n"
     ]
    }
   ],
   "source": [
    "str2 = \"Welcome Everyone\"\n",
    "str2 = str2.rjust(50,'*') #This is for shifting the str2 by 50 times of '*'\n",
    "print(str2)"
   ]
  },
  {
   "cell_type": "code",
   "execution_count": 15,
   "metadata": {},
   "outputs": [
    {
     "name": "stdout",
     "output_type": "stream",
     "text": [
      "True\n",
      "False\n"
     ]
    }
   ],
   "source": [
    "str2 = '1234567'\n",
    "str3 = 'Hello'\n",
    "print(str2.isdecimal())\n",
    "print(str3.isdecimal())"
   ]
  },
  {
   "cell_type": "code",
   "execution_count": 16,
   "metadata": {},
   "outputs": [
    {
     "data": {
      "text/plain": [
       "('N', 'i', 'r', 'm', 'i', 't')"
      ]
     },
     "execution_count": 16,
     "metadata": {},
     "output_type": "execute_result"
    }
   ],
   "source": [
    "# Tupple\n",
    "\n",
    "# Sequenced data structure\n",
    "# Enclosed in ()\n",
    "# indexed , ordered\n",
    "# \"immutable\"--- can not be change once created\n",
    "# Ques --- What is the diference betweeen list and tuple ?\n",
    "# Ans -- list is mutable and tuple is immutable \n",
    "# immutable -- can not be change once created\n",
    "\n",
    "t1 = (12,23,34,45,56,67)\n",
    "t1  = (\"How\",\"are\",\"you\") \n",
    "t1 = ((1,2),(3,4))  # nested tuple\n",
    "\n",
    "\n",
    "# Tuple constructor\n",
    "t1 = tuple(\"Nirmit\")\n",
    "t1"
   ]
  },
  {
   "cell_type": "code",
   "execution_count": 4,
   "metadata": {},
   "outputs": [
    {
     "name": "stdout",
     "output_type": "stream",
     "text": [
      "<class 'tuple'>\n",
      "12\n",
      "23\n",
      "34\n",
      "45\n",
      "56\n",
      "67\n",
      "78\n"
     ]
    }
   ],
   "source": [
    "t1 = 12,23,34,45,56,67,78 # packing\n",
    "print(type(t1))\n",
    "\n",
    "a,b,c,d,e,f,g = t1 # unpacking\n",
    "print(a)\n",
    "print(b)\n",
    "print(c)\n",
    "print(d)\n",
    "print(e)\n",
    "print(f)\n",
    "print(g)"
   ]
  },
  {
   "cell_type": "code",
   "execution_count": 20,
   "metadata": {},
   "outputs": [
    {
     "name": "stdout",
     "output_type": "stream",
     "text": [
      "<class 'int'>\n",
      "<class 'tuple'>\n"
     ]
    }
   ],
   "source": [
    "t2 = (1)\n",
    "print(type(t2)) # int\n",
    "t2 = (1,2)\n",
    "print(type(t2)) # int\n"
   ]
  },
  {
   "cell_type": "code",
   "execution_count": 22,
   "metadata": {},
   "outputs": [
    {
     "name": "stdout",
     "output_type": "stream",
     "text": [
      "67\n"
     ]
    }
   ],
   "source": [
    "# Accessing\n",
    "t1 = (12,23,34,45,56,67)\n",
    "print(t1[5])\n"
   ]
  },
  {
   "cell_type": "code",
   "execution_count": 27,
   "metadata": {},
   "outputs": [
    {
     "name": "stdout",
     "output_type": "stream",
     "text": [
      "(12, 23, 34, 45, 56, 'How', 'are', 'you')\n"
     ]
    }
   ],
   "source": [
    "# Updating\n",
    "t1 = (12,23,34,45,56)\n",
    "t2 = (\"How\",\"are\",\"you\")\n",
    "print(t1 + t2)"
   ]
  },
  {
   "cell_type": "code",
   "execution_count": 31,
   "metadata": {},
   "outputs": [
    {
     "name": "stdout",
     "output_type": "stream",
     "text": [
      "(12, 23, 34, 45, 56)\n",
      "1\n"
     ]
    }
   ],
   "source": [
    "# index() method\n",
    "t1 = (12,23,34,45,56)\n",
    "print(t1)\n",
    "x = t1.index(23)\n",
    "print(x)"
   ]
  },
  {
   "cell_type": "code",
   "execution_count": 34,
   "metadata": {},
   "outputs": [
    {
     "name": "stdout",
     "output_type": "stream",
     "text": [
      "(1, 2, 3, 4, 5, 6)\n"
     ]
    }
   ],
   "source": [
    "# First answer is that tuple is immutable so we cannot update but still we have to do then convert tupple into index and then again convert it to tuple\n",
    "t1 = (1,2,3,4,5)\n",
    "ls = list(t1)\n",
    "ls.append(6)\n",
    "t1 = tuple(ls)\n",
    "print(t1)"
   ]
  },
  {
   "cell_type": "code",
   "execution_count": 44,
   "metadata": {},
   "outputs": [
    {
     "name": "stdout",
     "output_type": "stream",
     "text": [
      "(12, 23, 'Hii', 45, 56, 67, 78)\n"
     ]
    }
   ],
   "source": [
    "# Update an element in the tuple\n",
    "t1 = (12,23,34,45,56,67,78)\n",
    "ls = list(t1)\n",
    "ls[2]  =\"Hii\"\n",
    "t1 = tuple(ls)\n",
    "print(t1)"
   ]
  },
  {
   "cell_type": "code",
   "execution_count": 43,
   "metadata": {},
   "outputs": [
    {
     "name": "stdout",
     "output_type": "stream",
     "text": [
      "(12, 23, 'Hii', 34, 45, 56, 67, 78)\n"
     ]
    }
   ],
   "source": [
    "# insert an element in the tuple\n",
    "t1 = (12,23,34,45,56,67,78)\n",
    "ls = list(t1)\n",
    "ls.insert(2,\"Hii\")\n",
    "t1 = tuple(ls)\n",
    "print(t1)"
   ]
  },
  {
   "cell_type": "code",
   "execution_count": 42,
   "metadata": {},
   "outputs": [
    {
     "name": "stdout",
     "output_type": "stream",
     "text": [
      "(3, 5, 23, 34, 63, 99, 666)\n"
     ]
    }
   ],
   "source": [
    "# Sorting\n",
    "mytuple = (23,34,63,3,5,666,99)\n",
    "a = sorted(mytuple)\n",
    "print(tuple(a))"
   ]
  },
  {
   "cell_type": "code",
   "execution_count": 53,
   "metadata": {},
   "outputs": [
    {
     "name": "stdout",
     "output_type": "stream",
     "text": [
      "{1, 2, 3, 4, 5, 6, 7, 10}\n"
     ]
    }
   ],
   "source": [
    "# Sets\n",
    "\n",
    "# Unordered and Unindexed collection of items\n",
    "# Set elements are unoque.Duplicate elements are not allowed\n",
    "# Set elements are immutable(cannot be changed)\n",
    "# Set itself is mutable.We can add or remove items from it\n",
    "\n",
    "myset = {1,2,3,4}\n",
    "myset.add(10)\n",
    "myset.update({5,6,7})\n",
    "print(myset)\n",
    "\n",
    "# myset = {10,20,\"Hola,[1,2,3,4]} ---- It will through an error because list cann't be contain in set"
   ]
  },
  {
   "cell_type": "code",
   "execution_count": 54,
   "metadata": {},
   "outputs": [
    {
     "name": "stdout",
     "output_type": "stream",
     "text": [
      "<class 'set'>\n"
     ]
    }
   ],
   "source": [
    "myset = set()\n",
    "print(type(myset))"
   ]
  },
  {
   "cell_type": "markdown",
   "metadata": {},
   "source": [
    "# Class 9 ---- Dictionary\n"
   ]
  },
  {
   "cell_type": "code",
   "execution_count": 1,
   "metadata": {},
   "outputs": [
    {
     "name": "stdout",
     "output_type": "stream",
     "text": [
      "<class 'dict'>\n"
     ]
    }
   ],
   "source": [
    "# The Dictionary is an unordered collection that contains key : value parits sepatesated by commas inside curly brackets.Dictionaries are optimized to retrieve value when the key is know\n",
    "\n",
    "# The following declares a dictionaly object:\n",
    "captials  = {\"USA\":'\"Washington D.C',\"France\":\"Paris\",\"India\":\"New Delhi\"}\n",
    "print(type(captials))"
   ]
  },
  {
   "cell_type": "code",
   "execution_count": 14,
   "metadata": {},
   "outputs": [
    {
     "name": "stdout",
     "output_type": "stream",
     "text": [
      "{1: 'One', 2: 'Two', 3: 'Three', 4: 'Four'}\n",
      "{('Parker', 'Reynolads'): 'pen', ('apsara', 'Doms'): 'Pencil'}\n",
      "{1: 'one', 2: 'two', 3: 'Three'}\n"
     ]
    }
   ],
   "source": [
    "d = {}  #empty dicitonary\n",
    "numNames = {1 : \"One\",2:\"Two\",3:\"Three\",4 : \"Four\"}\n",
    "print(numNames)\n",
    "items = {(\"Parker\",\"Reynolads\"):\"pen\",(\"apsara\",\"Doms\"):\"Pencil\"}\n",
    "print(items)\n",
    "\n",
    "numNames = {1 : \"One\", 2 :\"Two\",1 : \"one\",2:\"two\",3:\"Three\"}\n",
    "print(numNames)\n"
   ]
  },
  {
   "cell_type": "code",
   "execution_count": 17,
   "metadata": {},
   "outputs": [
    {
     "name": "stdout",
     "output_type": "stream",
     "text": [
      "{'I': 'one', 'II': 'Two', 'III': 'Three'}\n",
      "{1: 'One', 2: 'Two'}\n"
     ]
    }
   ],
   "source": [
    "# Dictionary Constructor method\n",
    "num_dict = dict(I = \"one\",II = \"Two\",III = \"Three\")\n",
    "print(num_dict)\n",
    "num = dict([(1,\"One\"),(2,\"Two\")])\n",
    "print(num)\n"
   ]
  },
  {
   "cell_type": "code",
   "execution_count": 30,
   "metadata": {},
   "outputs": [
    {
     "name": "stdout",
     "output_type": "stream",
     "text": [
      "Nirmit\n",
      "{'I': 'one', 'II': 'Two', 'III': 'Three'}\n",
      "one\n",
      "Nirmit\n",
      "Three\n"
     ]
    }
   ],
   "source": [
    "# Use the get() method to retieve the key's value even if keys are not known.It returns None if the key does not exist instead of rasinig an error.\n",
    "\n",
    "num_dict = dict(I = \"one\",II = \"Two\",III = \"Three\")\n",
    "num = {\"Name\":\"Nirmit\",\"Age\":\"22\",\"city\":\"Meerut\"}\n",
    "print(num[\"Name\"])\n",
    "print(num_dict)\n",
    "print(num_dict[\"I\"])\n",
    "print(num.get(\"Name\"))\n",
    "print(num_dict.get(\"III\"))\n"
   ]
  },
  {
   "cell_type": "code",
   "execution_count": 36,
   "metadata": {},
   "outputs": [
    {
     "name": "stdout",
     "output_type": "stream",
     "text": [
      "1\n",
      "2\n",
      "3\n",
      "4\n",
      "One\n",
      "Two\n",
      "THree\n",
      "Four\n",
      "1 One\n",
      "2 Two\n",
      "3 THree\n",
      "4 Four\n",
      "key = 1 , value = One\n",
      "key = 2 , value = Two\n",
      "key = 3 , value = THree\n",
      "key = 4 , value = Four\n"
     ]
    }
   ],
   "source": [
    "# Asccesing through loops\n",
    "d1 = {1 : \"One\",2:\"Two\",3 : \"THree\",4 : \"Four\"}\n",
    "# printing keys\n",
    "for i in d1:\n",
    "    print(i)\n",
    "\n",
    "# printing value\n",
    "for i in d1.values():\n",
    "    print(i)\n",
    "\n",
    "# printing key,value \n",
    "for i,j in d1.items():\n",
    "    print(i,j)\n",
    "\n",
    "for i in d1:\n",
    "    print(\"key =\",i,\",\",\"value =\",d1[i])"
   ]
  },
  {
   "cell_type": "code",
   "execution_count": 41,
   "metadata": {},
   "outputs": [
    {
     "name": "stdout",
     "output_type": "stream",
     "text": [
      "{'Name': 'Nihar', 'Age': '12', 'city': 'Meerut', 'Address': 'Burari'}\n"
     ]
    }
   ],
   "source": [
    "# Update Dictionary -- As mentioned earlier the key cannoit appear more than once.use the same key ad sassogm a mew value to it to update the dictionary object.\n",
    "d1 = {\"Name\":\"Nirmit\",\"Age\":\"12\",\"city\":\"Meerut\"}\n",
    "d1[\"Address\"] = \"Burari\"\n",
    "d1[\"Name\"] = \"Nihar\"\n",
    "print(d1)"
   ]
  },
  {
   "cell_type": "code",
   "execution_count": 43,
   "metadata": {},
   "outputs": [
    {
     "name": "stdout",
     "output_type": "stream",
     "text": [
      "{'India': 'Rohit', 'Australia': 'Cummins', 'Sri lanka': 'Mendis'}\n",
      "{'India': 'Rohit', 'Australia': 'Cummins'}\n"
     ]
    }
   ],
   "source": [
    "# Deleting value -- Use the del keytword,pop(), or popitem() methodds to delete a pari rom a dictionary or the dictionary object itself.to delete a pari,use its key as parameter.To delete a dictionary object itself,use del dictioany_name\n",
    "\n",
    "captains = {'India':'Rohit','Australia':'Cummins','Sri lanka':'Mendis'}\n",
    "print(captains)\n",
    "del captains['Sri lanka']\n",
    "print(captains)"
   ]
  },
  {
   "cell_type": "code",
   "execution_count": 45,
   "metadata": {},
   "outputs": [
    {
     "name": "stdout",
     "output_type": "stream",
     "text": [
      "{'a': 1, 'c': 3, 'd': 4, 'e': 5}\n",
      "3\n",
      "{'a': 1, 'd': 4, 'e': 5}\n",
      "('e', 5)\n",
      "{'a': 1, 'd': 4}\n"
     ]
    }
   ],
   "source": [
    "d1 = {'a':1,'b':2,'c':3,'d':4,'e':5}\n",
    "del d1['b']\n",
    "print(d1)\n",
    "print(d1.pop('c'))\n",
    "print(d1)\n",
    "print(d1.popitem())\n",
    "print(d1)"
   ]
  },
  {
   "cell_type": "code",
   "execution_count": 46,
   "metadata": {},
   "outputs": [
    {
     "name": "stdout",
     "output_type": "stream",
     "text": [
      "{'Name': 'Steve', 'age': 25, 'marks': 60}\n",
      "{'Name': 'Anil', 'age': 23, 'marks': 75}\n",
      "{'Name': 'Asha', 'age': 20, 'marks': 70}\n"
     ]
    }
   ],
   "source": [
    "# Multi- Dimensional Dictioanry\n",
    "d1 = {'Name':'Steve','age':25,'marks':60}\n",
    "d2 = {'Name':'Anil','age':23,'marks':75}\n",
    "d3 = {'Name':'Asha','age':20,'marks':70}\n",
    "students = {1:d1, 2:d2, 3:d3}\n",
    "print(students[1])\n",
    "print(students[2])\n",
    "print(students[3])\n"
   ]
  },
  {
   "cell_type": "code",
   "execution_count": 48,
   "metadata": {},
   "outputs": [
    {
     "name": "stdout",
     "output_type": "stream",
     "text": [
      "{'I': 1, 'II': 2, 'III': 3, 'IV': 4}\n",
      "{}\n"
     ]
    }
   ],
   "source": [
    "# clear() method -- The dict.clear() method removes all the key-alue paits form the dictionary\n",
    "# Syntax:\n",
    "# dict.clear()\n",
    "\n",
    "romNums = {'I':1,'II':2,'III':3,'IV':4}\n",
    "print(romNums)\n",
    "romNums.clear()\n",
    "print(romNums)"
   ]
  },
  {
   "cell_type": "code",
   "execution_count": 49,
   "metadata": {},
   "outputs": [
    {
     "name": "stdout",
     "output_type": "stream",
     "text": [
      "{'a': 1, 'b': 2, 'c': 3, 'd': 4}\n",
      "{'a': 1, 'b': 2, 'c': 3, 'd': 4}\n",
      "{}\n",
      "{}\n"
     ]
    }
   ],
   "source": [
    "# Without Copy() Method:\n",
    "d1 = {'a':1,'b':2,'c':3,'d':4}\n",
    "d2 = d1\n",
    "print(d1)\n",
    "print(d2)\n",
    "d1.clear()\n",
    "print(d1)\n",
    "print(d2)"
   ]
  },
  {
   "cell_type": "code",
   "execution_count": 50,
   "metadata": {},
   "outputs": [
    {
     "name": "stdout",
     "output_type": "stream",
     "text": [
      "{'a': 1, 'b': 2, 'c': 3, 'd': 4}\n",
      "{'a': 1, 'b': 2, 'c': 3, 'd': 4}\n",
      "{}\n",
      "{'a': 1, 'b': 2, 'c': 3, 'd': 4}\n"
     ]
    }
   ],
   "source": [
    "# With Copy() Method:\n",
    "d1 = {'a':1,'b':2,'c':3,'d':4}\n",
    "d2 = d1.copy()\n",
    "print(d1)\n",
    "print(d2)\n",
    "d1.clear()\n",
    "print(d1)\n",
    "print(d2)"
   ]
  },
  {
   "cell_type": "code",
   "execution_count": 54,
   "metadata": {},
   "outputs": [
    {
     "name": "stdout",
     "output_type": "stream",
     "text": [
      "{'Banglore': None, 'New York': None, 'Chicago': None, 'Mumabi': None}\n"
     ]
    }
   ],
   "source": [
    "# fromkeys() Method: \n",
    "# syntax:- dictionary.fromkeys(sequence,value)\n",
    "\n",
    "keys = {'Mumabi','Banglore','Chicago','New York'}\n",
    "# value = 'city'\n",
    "dictionary  = dict.fromkeys(keys)\n",
    "print(dictionary)\n"
   ]
  },
  {
   "cell_type": "markdown",
   "metadata": {},
   "source": [
    "# Class 10 -- More Practice on Dictionary and Starting of Function"
   ]
  },
  {
   "cell_type": "code",
   "execution_count": 3,
   "metadata": {},
   "outputs": [
    {
     "name": "stdout",
     "output_type": "stream",
     "text": [
      "dict_keys(['I', 'II', 'III', 'IV'])\n"
     ]
    }
   ],
   "source": [
    "# dict.keys()\n",
    "\n",
    "romans = {'I' : 1,'II' : 2,'III' : 3 ,'IV' : 4}\n",
    "print(romans.keys())"
   ]
  },
  {
   "cell_type": "code",
   "execution_count": 9,
   "metadata": {},
   "outputs": [
    {
     "name": "stdout",
     "output_type": "stream",
     "text": [
      "dict_values([1, 2, 3, 4])\n"
     ]
    }
   ],
   "source": [
    "# dict.values()\n",
    "\n",
    "romans = {'I' : 1,'II' : 2,'III' : 3 ,'IV' : 4}\n",
    "print(romans.values())"
   ]
  },
  {
   "cell_type": "code",
   "execution_count": 8,
   "metadata": {},
   "outputs": [
    {
     "name": "stdout",
     "output_type": "stream",
     "text": [
      "{'I': 1, 'III': 3, 'V': 5, 'II': 2, 'IV': 4}\n"
     ]
    }
   ],
   "source": [
    "# dict.update(iterable)\n",
    "\n",
    "x = {'I':1,'III':3,'V':5}\n",
    "y = {'II':2,'IV':4}\n",
    "x.update(y)\n",
    "print(x)"
   ]
  },
  {
   "cell_type": "code",
   "execution_count": 12,
   "metadata": {},
   "outputs": [
    {
     "data": {
      "text/plain": [
       "True"
      ]
     },
     "execution_count": 12,
     "metadata": {},
     "output_type": "execute_result"
    }
   ],
   "source": [
    "mydict = {'Name':'Asif','ID':12345,'DOB':1999,'job':'Data Science'}\n",
    "mydict\n",
    "\n",
    "'job' in mydict # Test if a key is in a dictionary or not."
   ]
  },
  {
   "cell_type": "code",
   "execution_count": 11,
   "metadata": {},
   "outputs": [
    {
     "data": {
      "text/plain": [
       "False"
      ]
     },
     "execution_count": 11,
     "metadata": {},
     "output_type": "execute_result"
    }
   ],
   "source": [
    "'Asif' in mydict  # Memebership test can be done for keys "
   ]
  },
  {
   "cell_type": "code",
   "execution_count": 14,
   "metadata": {},
   "outputs": [
    {
     "data": {
      "text/plain": [
       "True"
      ]
     },
     "execution_count": 14,
     "metadata": {},
     "output_type": "execute_result"
    }
   ],
   "source": [
    "# All / Any \n",
    "# All --- True ---- if all the keys of te dictionary are true\n",
    "#         False ---- if any key of the dictionary is false\n",
    "\n",
    "mydict = {'Name':'Asif','ID':12345,'DOB':1999,'job':'Data Science'}\n",
    "\n",
    "all(mydict) # will return false as one key is false\n"
   ]
  },
  {
   "cell_type": "code",
   "execution_count": 15,
   "metadata": {},
   "outputs": [
    {
     "data": {
      "text/plain": [
       "True"
      ]
     },
     "execution_count": 15,
     "metadata": {},
     "output_type": "execute_result"
    }
   ],
   "source": [
    "any(mydict) # will return True as we have items in the dictionay with True value"
   ]
  },
  {
   "cell_type": "code",
   "execution_count": 16,
   "metadata": {},
   "outputs": [
    {
     "data": {
      "text/plain": [
       "False"
      ]
     },
     "execution_count": 16,
     "metadata": {},
     "output_type": "execute_result"
    }
   ],
   "source": [
    "mydict = {'Name':'Asif','ID':12345,'DOB':1999,'job':'Data Science',0:'test1'}\n",
    "all(mydict)"
   ]
  },
  {
   "cell_type": "code",
   "execution_count": 17,
   "metadata": {},
   "outputs": [
    {
     "data": {
      "text/plain": [
       "True"
      ]
     },
     "execution_count": 17,
     "metadata": {},
     "output_type": "execute_result"
    }
   ],
   "source": [
    "any(mydict)"
   ]
  },
  {
   "cell_type": "code",
   "execution_count": 18,
   "metadata": {},
   "outputs": [
    {
     "data": {
      "text/plain": [
       "{0: 0, 1: 1, 2: 4, 3: 9, 4: 16, 5: 25, 6: 36, 7: 49, 8: 64, 9: 81}"
      ]
     },
     "execution_count": 18,
     "metadata": {},
     "output_type": "execute_result"
    }
   ],
   "source": [
    "# Dictionary Comprehension\n",
    "\n",
    "double = {i : i**2 for i in range(10)}\n",
    "double"
   ]
  },
  {
   "cell_type": "code",
   "execution_count": 19,
   "metadata": {},
   "outputs": [
    {
     "data": {
      "text/plain": [
       "{'one': 1, 'two': 2, 'three': 3, 'four': 4}"
      ]
     },
     "execution_count": 19,
     "metadata": {},
     "output_type": "execute_result"
    }
   ],
   "source": [
    "key = ['one','two','three','four']\n",
    "value = [1,2,3,4]\n",
    "double = {k:v for (k,v) in zip(key,value)}\n",
    "double"
   ]
  },
  {
   "cell_type": "code",
   "execution_count": 22,
   "metadata": {},
   "outputs": [
    {
     "data": {
      "text/plain": [
       "{'a': 1.0, 'b': 2.0, 'c': 3.0, 'd': 4.0}"
      ]
     },
     "execution_count": 22,
     "metadata": {},
     "output_type": "execute_result"
    }
   ],
   "source": [
    "mydict1 = {'a':10,'b':20,'c':30,'d':40}\n",
    "mydict1 = {k:v/10 for (k,v) in mydict1.items()}\n",
    "mydict1"
   ]
  },
  {
   "cell_type": "code",
   "execution_count": 23,
   "metadata": {},
   "outputs": [
    {
     "data": {
      "text/plain": [
       "{'a': 'A',\n",
       " 'b': 'B',\n",
       " 'c': 'C',\n",
       " 'd': 'D',\n",
       " 'e': 'E',\n",
       " 'f': 'F',\n",
       " 'g': 'G',\n",
       " 'h': 'H',\n",
       " 'i': 'I',\n",
       " 'j': 'J',\n",
       " 'k': 'K',\n",
       " 'l': 'L',\n",
       " 'm': 'M',\n",
       " 'n': 'N',\n",
       " 'o': 'O',\n",
       " 'p': 'P',\n",
       " 'q': 'Q',\n",
       " 'r': 'R',\n",
       " 's': 'S',\n",
       " 't': 'T',\n",
       " 'u': 'U',\n",
       " 'v': 'V',\n",
       " 'w': 'W',\n",
       " 'y': 'Y',\n",
       " 'z': 'Z'}"
      ]
     },
     "execution_count": 23,
     "metadata": {},
     "output_type": "execute_result"
    }
   ],
   "source": [
    "str = 'abcdefghijklmnopqrstuvwyz'\n",
    "str1 = {i:i.upper() for i in str}\n",
    "str1"
   ]
  },
  {
   "cell_type": "markdown",
   "metadata": {},
   "source": [
    "# Fucntions"
   ]
  },
  {
   "cell_type": "code",
   "execution_count": null,
   "metadata": {},
   "outputs": [],
   "source": [
    "# Parameter And Argument :--\n",
    "\n",
    "# A parameter is the variable listed inside the parentheses in the fucntion definition\n",
    "# An argument is the value that is sent to the function when it is called.\n",
    "\n",
    "# Types of function:--\n",
    "# 1) Built in Built in Functions\n",
    "# 2) User Defined Functions\n",
    "# 3) Anonymous Functions\n",
    "\n",
    "# Default Function \n",
    "# argument\n",
    "# return type\n",
    "# placeholder\n",
    "# args,kwargs\n",
    "\n",
    "# Syntax:-\n",
    "# def function_name():  # Function Definition\n",
    "#     logic\n",
    "# function_name()"
   ]
  },
  {
   "cell_type": "code",
   "execution_count": 26,
   "metadata": {},
   "outputs": [
    {
     "name": "stdout",
     "output_type": "stream",
     "text": [
      "5\n"
     ]
    }
   ],
   "source": [
    "# Sum of two numbers :-\n",
    "\n",
    "def sum_of_two_numbers():\n",
    "    x = int(input(\"Enter the First Number\"))\n",
    "    y = int(input(\"Enter the Second Number\"))\n",
    "    z = x + y\n",
    "    print(z)\n",
    "sum_of_two_numbers()"
   ]
  },
  {
   "cell_type": "code",
   "execution_count": 29,
   "metadata": {},
   "outputs": [
    {
     "name": "stdout",
     "output_type": "stream",
     "text": [
      "interset is  60000.0\n"
     ]
    }
   ],
   "source": [
    "def simple_interset():\n",
    "    p = int(input(\"Enter the principal\"))\n",
    "    r = int(input(\"Enter the rate\"))\n",
    "    t = int(input(\"Enter the time\"))\n",
    "    si = (p * r * t)/100\n",
    "    print(\"interset is \",si)\n",
    "simple_interset()"
   ]
  },
  {
   "cell_type": "code",
   "execution_count": 30,
   "metadata": {},
   "outputs": [
    {
     "name": "stdout",
     "output_type": "stream",
     "text": [
      "Odd Number\n"
     ]
    }
   ],
   "source": [
    "def even_odd():\n",
    "    n = int(input(\"Enter the Number\"))\n",
    "\n",
    "    if(n % 2 == 0):\n",
    "        print(\"Even Number\")\n",
    "    else:\n",
    "        print(\"Odd Number\")\n",
    "even_odd()"
   ]
  },
  {
   "cell_type": "code",
   "execution_count": 32,
   "metadata": {},
   "outputs": [
    {
     "name": "stdout",
     "output_type": "stream",
     "text": [
      "Not a Leap Year\n"
     ]
    }
   ],
   "source": [
    "def leap_year():\n",
    "    n = int(input(\"Enter the year\"))\n",
    "    if (n % 400 == 0):\n",
    "        if(n % 100 != 0 and n % 4 ==0):\n",
    "            print(\"Leap Year\")\n",
    "    else:\n",
    "        print(\"Not a Leap Year\")\n",
    "leap_year()"
   ]
  },
  {
   "cell_type": "code",
   "execution_count": 33,
   "metadata": {},
   "outputs": [
    {
     "name": "stdout",
     "output_type": "stream",
     "text": [
      "120\n"
     ]
    }
   ],
   "source": [
    "def factorial():\n",
    "    n = int(input(\"Enter the Number\"))\n",
    "    f = 1\n",
    "    for i in range(1,n+1):\n",
    "        f = f*i\n",
    "    print(f)\n",
    "factorial()\n"
   ]
  },
  {
   "cell_type": "code",
   "execution_count": 43,
   "metadata": {},
   "outputs": [
    {
     "name": "stdout",
     "output_type": "stream",
     "text": [
      "123\n"
     ]
    }
   ],
   "source": [
    "def reverse_number():\n",
    "    n = int(input(\"Enter the Number\"))\n",
    "    rev = 0\n",
    "    while(n > 0):\n",
    "        rem = n % 10\n",
    "        rev = rev*10 + rem\n",
    "        n = n // 10\n",
    "    print(rev)\n",
    "reverse_number()\n"
   ]
  },
  {
   "cell_type": "code",
   "execution_count": 32,
   "metadata": {},
   "outputs": [
    {
     "name": "stdout",
     "output_type": "stream",
     "text": [
      "1\n",
      "2\n",
      "4\n",
      "8\n"
     ]
    }
   ],
   "source": [
    "def factorize():\n",
    "    n = int(input(\"Enter the Number\"))\n",
    "    for i in range(1,n+1):\n",
    "        if(n % i == 0):\n",
    "            print(i)\n",
    "factorize()"
   ]
  },
  {
   "cell_type": "code",
   "execution_count": 46,
   "metadata": {},
   "outputs": [
    {
     "name": "stdout",
     "output_type": "stream",
     "text": [
      "Sum of two Numbers 57\n",
      "Sum of two Numbers 5\n"
     ]
    }
   ],
   "source": [
    "# Argument Function:\n",
    "# def function_name(para1,para2....):\n",
    "#     logic\n",
    "# function_name(arg1,arg2)\n",
    "\n",
    "\n",
    "def addition(a,b):\n",
    "    c = a + b\n",
    "    print(\"Sum of two Numbers\" ,c)\n",
    "addition(23,34)\n",
    "x = int(input())\n",
    "y = int(input())\n",
    "\n",
    "addition(x,y)"
   ]
  },
  {
   "cell_type": "code",
   "execution_count": 49,
   "metadata": {},
   "outputs": [
    {
     "name": "stdout",
     "output_type": "stream",
     "text": [
      "Even Number\n"
     ]
    }
   ],
   "source": [
    "def odd_even(n):\n",
    "    if(n %2==0):\n",
    "        print(\"Even Number\")\n",
    "    else:\n",
    "        print(\"Odd Number\")\n",
    "odd_even(34)"
   ]
  },
  {
   "cell_type": "code",
   "execution_count": 1,
   "metadata": {},
   "outputs": [
    {
     "name": "stdout",
     "output_type": "stream",
     "text": [
      "10\n"
     ]
    }
   ],
   "source": [
    "# Find the sum of the Number using the function\n",
    "def sum_of_a_Number(n,sum):\n",
    "    while(n>0):\n",
    "        rem = n % 10\n",
    "        sum +=rem\n",
    "        n = n // 10\n",
    "    print(sum)\n",
    "sum_of_a_Number(1234,0)"
   ]
  },
  {
   "cell_type": "code",
   "execution_count": 11,
   "metadata": {},
   "outputs": [
    {
     "name": "stdout",
     "output_type": "stream",
     "text": [
      "palidrome Number\n"
     ]
    }
   ],
   "source": [
    "# Find the Palidrome using the function\n",
    "def palidrome(n,rev):\n",
    "    n1 = n\n",
    "    while(n>0):\n",
    "        rem = n % 10\n",
    "        rev = rev*10 + rem\n",
    "        n = n // 10\n",
    "    if n1 == rev:\n",
    "        print(\"palidrome Number\")\n",
    "    else:\n",
    "        print(\"Not a Palidrome Number\")\n",
    "palidrome(11122111,0)"
   ]
  },
  {
   "cell_type": "code",
   "execution_count": 29,
   "metadata": {},
   "outputs": [
    {
     "name": "stdout",
     "output_type": "stream",
     "text": [
      "Armstrong Number\n"
     ]
    }
   ],
   "source": [
    "# Find Armstrong Number using function \n",
    "def armstrong(n,sum,counter):\n",
    "    n1 = n\n",
    "    while(n>0):\n",
    "        rem = n % 10\n",
    "        counter = counter + 1\n",
    "        n = n // 10\n",
    "    while(n>0):\n",
    "        rem = n % 10\n",
    "        sum = sum + rem ** counter\n",
    "        n = n // 10\n",
    "    if(sum == n1):\n",
    "        print(\"Armstrong Number\")\n",
    "    else:\n",
    "        print(\"Not a Armstrong Number\")\n",
    "armstrong(8208,0,0)"
   ]
  },
  {
   "cell_type": "code",
   "execution_count": 15,
   "metadata": {},
   "outputs": [
    {
     "name": "stdout",
     "output_type": "stream",
     "text": [
      "4\n"
     ]
    }
   ],
   "source": [
    "# Find the samllest element in the list using the function'def'\n",
    "def smallest_number(n):\n",
    "    temp = n[0]\n",
    "    for i in n:\n",
    "        if(temp > i):\n",
    "            temp = i\n",
    "        else:\n",
    "            continue\n",
    "    print(temp)\n",
    "smallest_number([11,33,44,4,5,666,77])\n"
   ]
  },
  {
   "cell_type": "code",
   "execution_count": 1,
   "metadata": {},
   "outputs": [
    {
     "name": "stdout",
     "output_type": "stream",
     "text": [
      "666\n"
     ]
    }
   ],
   "source": [
    "# Find the largest element in the list using the function'def'\n",
    "def largest_number(n):\n",
    "    temp = n[0]\n",
    "    for i in n:\n",
    "        if(temp < i):\n",
    "            temp = i\n",
    "        else:\n",
    "            continue\n",
    "    print(temp)\n",
    "largest_number([11,33,44,4,5,666,77])\n"
   ]
  },
  {
   "cell_type": "code",
   "execution_count": 11,
   "metadata": {},
   "outputs": [
    {
     "name": "stdout",
     "output_type": "stream",
     "text": [
      "1 repeated  1 number of times\n",
      "2 repeated  2 number of times\n",
      "3 repeated  1 number of times\n",
      "4 repeated  2 number of times\n",
      "5 repeated  3 number of times\n"
     ]
    }
   ],
   "source": [
    "def repeated_Numbers(n,m):\n",
    "    for i in n:\n",
    "        if i not in m:\n",
    "            m.append(i)\n",
    "    for i in m:\n",
    "        print(i,\"repeated\",n.count(i),\"number of times\")\n",
    "repeated_Numbers([1,2,2,3,4,4,5,5,5],[])"
   ]
  },
  {
   "cell_type": "code",
   "execution_count": 25,
   "metadata": {},
   "outputs": [
    {
     "name": "stdout",
     "output_type": "stream",
     "text": [
      "Given Number is a Prime Number\n"
     ]
    }
   ],
   "source": [
    "def Is_prime_number(n,counter):\n",
    "    for i in range(1,n+1):\n",
    "        if(n%i == 0):\n",
    "            counter += 1 \n",
    "    if counter == 2:\n",
    "        print(\"Given Number is a Prime Number\")\n",
    "    else:\n",
    "        print(\"Given Number is Not a Prime Number\")\n",
    "Is_prime_number(7,0)"
   ]
  },
  {
   "cell_type": "code",
   "execution_count": 5,
   "metadata": {},
   "outputs": [
    {
     "name": "stdout",
     "output_type": "stream",
     "text": [
      "[1, 3]\n"
     ]
    }
   ],
   "source": [
    "def repeated_index(n,m):\n",
    "    for i in range(len(n)):\n",
    "        if(n.count(n[i]) > 1):\n",
    "            m.append(i)\n",
    "    print(m)\n",
    "repeated_index([1,2,3,2,4,5],[])"
   ]
  },
  {
   "cell_type": "markdown",
   "metadata": {},
   "source": [
    "# Class 11(Return,enumerate,zip,lambda functions)"
   ]
  },
  {
   "cell_type": "code",
   "execution_count": null,
   "metadata": {},
   "outputs": [],
   "source": [
    "# Return Type Function\n",
    "# def function_Name(arg1,arg2,....)\n",
    "#     logic/statement\n",
    "#     return value/values\n",
    "\n",
    "# var = function_Name(arg1,arg2)\n",
    "# print(var)\n",
    "\n",
    "# print(function_Name(arg1,arg2))"
   ]
  },
  {
   "cell_type": "code",
   "execution_count": 3,
   "metadata": {},
   "outputs": [
    {
     "name": "stdout",
     "output_type": "stream",
     "text": [
      "5\n",
      "5\n"
     ]
    }
   ],
   "source": [
    "def addition(a,b):\n",
    "    return a+b\n",
    "c = addition(2,3)\n",
    "print(c)\n",
    "print(addition(2,3))"
   ]
  },
  {
   "cell_type": "code",
   "execution_count": 6,
   "metadata": {},
   "outputs": [
    {
     "name": "stdout",
     "output_type": "stream",
     "text": [
      "(36, 12, 288, 2)\n",
      "Sum 36\n",
      "Sub 12\n",
      "Mul 288\n",
      "Div 2\n"
     ]
    }
   ],
   "source": [
    "def mathop(a,b):\n",
    "    return a+b,a-b,a*b,a//b\n",
    "x = mathop(24,12)\n",
    "print(x)\n",
    "\n",
    "s,a,m,d = mathop(24,12)\n",
    "print(\"Sum\",s)\n",
    "print(\"Sub\",a)\n",
    "print(\"Mul\",m)\n",
    "print(\"Div\",d)"
   ]
  },
  {
   "cell_type": "code",
   "execution_count": 20,
   "metadata": {},
   "outputs": [
    {
     "name": "stdout",
     "output_type": "stream",
     "text": [
      "1300\n",
      "1200\n",
      "1500\n",
      "1700\n"
     ]
    }
   ],
   "source": [
    "# Placeholder Argument\n",
    "\n",
    "\n",
    "def addition(a,b=400,c=700):\n",
    "    return a+b+c\n",
    "\n",
    "print(addition(200))\n",
    "print(addition(a=500,c=300))\n",
    "print(addition(500,300))\n",
    "print(addition(300,500,900))"
   ]
  },
  {
   "cell_type": "code",
   "execution_count": 14,
   "metadata": {},
   "outputs": [
    {
     "data": {
      "text/plain": [
       "(3, 1)"
      ]
     },
     "execution_count": 14,
     "metadata": {},
     "output_type": "execute_result"
    }
   ],
   "source": [
    "def data_Science(a,b,c,d):\n",
    "    return a+b,a-b\n",
    "data_Science(2,1,4,5)"
   ]
  },
  {
   "cell_type": "code",
   "execution_count": 16,
   "metadata": {},
   "outputs": [
    {
     "data": {
      "text/plain": [
       "'My name is Nirmit Malik and gender is Male'"
      ]
     },
     "execution_count": 16,
     "metadata": {},
     "output_type": "execute_result"
    }
   ],
   "source": [
    "def hello(a,b):\n",
    "    return \"My name is {} and gender is {}\".format(a,b)\n",
    "hello(\"Nirmit Malik\",\"Male\")"
   ]
  },
  {
   "cell_type": "code",
   "execution_count": 24,
   "metadata": {},
   "outputs": [
    {
     "data": {
      "text/plain": [
       "'My name is Nirmit Malik. My age is 22 and My gender is Male'"
      ]
     },
     "execution_count": 24,
     "metadata": {},
     "output_type": "execute_result"
    }
   ],
   "source": [
    "def hello(name,age=22,gender=\"Male\"):\n",
    "    return \"My name is {}. My age is {} and My gender is {}\".format(name,age,gender)\n",
    "hello(\"Nirmit Malik\")\n"
   ]
  },
  {
   "cell_type": "code",
   "execution_count": null,
   "metadata": {},
   "outputs": [],
   "source": [
    "# Unpacking operators are operators that unpack the values from iterable objects in Python\n",
    "# The Single asterisk operator * can be used on anyt iterable that python provides\n",
    "# While the doule asterisk operator ** can only be used on dictionaries.\n"
   ]
  },
  {
   "cell_type": "code",
   "execution_count": 31,
   "metadata": {},
   "outputs": [
    {
     "name": "stdout",
     "output_type": "stream",
     "text": [
      "[1, 2, 3]\n",
      "1 2 3\n"
     ]
    }
   ],
   "source": [
    "u = [1,2,3]\n",
    "print(u)\n",
    "\n",
    "print(*u)"
   ]
  },
  {
   "cell_type": "code",
   "execution_count": 43,
   "metadata": {},
   "outputs": [
    {
     "name": "stdout",
     "output_type": "stream",
     "text": [
      "1\n",
      "2\n",
      "[3, 4, 5, 6, 7, 8, 9, 10]\n"
     ]
    }
   ],
   "source": [
    "a,b,*c = [1,2,3,4,5,6,7,8,9,10]\n",
    "print(a)\n",
    "print(b)\n",
    "print(c)"
   ]
  },
  {
   "cell_type": "code",
   "execution_count": 1,
   "metadata": {},
   "outputs": [
    {
     "name": "stdout",
     "output_type": "stream",
     "text": [
      "[[1, 2, 3], [4, 5, 6]]\n",
      "[1, 2, 3, 4, 5, 6]\n"
     ]
    }
   ],
   "source": [
    "A = [1,2,3]\n",
    "B = [4,5,6]\n",
    "C = [A,B]\n",
    "print(C)\n",
    "D = [*A,*B]\n",
    "print(D)"
   ]
  },
  {
   "cell_type": "code",
   "execution_count": 52,
   "metadata": {},
   "outputs": [
    {
     "name": "stdout",
     "output_type": "stream",
     "text": [
      "['r', 'e', 'a', 'l', 'p', 'y', 't', 'h', 'o', 'n']\n"
     ]
    },
    {
     "data": {
      "text/plain": [
       "['r', 'e', 'a', 'l', 'p', 'y', 't', 'h', 'o', 'n']"
      ]
     },
     "execution_count": 52,
     "metadata": {},
     "output_type": "execute_result"
    }
   ],
   "source": [
    "a = [*\"realpython\"]\n",
    "b = list(\"realpython\")\n",
    "print(b)\n",
    "a"
   ]
  },
  {
   "cell_type": "code",
   "execution_count": 55,
   "metadata": {},
   "outputs": [
    {
     "data": {
      "text/plain": [
       "{'A': 1, 'B': 2, 'C': 3, 'D': 4, 'E': 5}"
      ]
     },
     "execution_count": 55,
     "metadata": {},
     "output_type": "execute_result"
    }
   ],
   "source": [
    "d1 = {\"A\":1,\"B\":2,\"C\":3}\n",
    "d2 = {\"D\":4,\"E\":5}\n",
    "d1.update(d2)\n",
    "d1"
   ]
  },
  {
   "cell_type": "code",
   "execution_count": 56,
   "metadata": {},
   "outputs": [
    {
     "data": {
      "text/plain": [
       "{'A': 1, 'B': 2, 'C': 3, 'D': 4, 'E': 5}"
      ]
     },
     "execution_count": 56,
     "metadata": {},
     "output_type": "execute_result"
    }
   ],
   "source": [
    "d3 = {**d1,**d2}\n",
    "d3"
   ]
  },
  {
   "cell_type": "code",
   "execution_count": 60,
   "metadata": {},
   "outputs": [],
   "source": [
    "def my_sum(*a):\n",
    "    result = 0\n",
    "    for i in a:\n",
    "        result +=i\n",
    "    return result"
   ]
  },
  {
   "cell_type": "code",
   "execution_count": 62,
   "metadata": {},
   "outputs": [
    {
     "data": {
      "text/plain": [
       "45"
      ]
     },
     "execution_count": 62,
     "metadata": {},
     "output_type": "execute_result"
    }
   ],
   "source": [
    "list1 = [1,2,3]\n",
    "list2 = [4,5,6]\n",
    "list3 = [7,8,9]\n",
    "my_sum(*list1,*list2,*list3)"
   ]
  },
  {
   "cell_type": "code",
   "execution_count": 64,
   "metadata": {},
   "outputs": [
    {
     "data": {
      "text/plain": [
       "[('a', 'l'),\n",
       " ('g', 'k'),\n",
       " ('n', 's'),\n",
       " ('a', 'l'),\n",
       " ('s', 's'),\n",
       " ('l', 'a'),\n",
       " ('g', 'n')]"
      ]
     },
     "execution_count": 64,
     "metadata": {},
     "output_type": "execute_result"
    }
   ],
   "source": [
    "# Zip Functoin-- zip() function return a zip object.which is an iterot of tuples where the first item in each passed iterato is paired togther,and then the second item in each oassed iterator are paired together etc.\n",
    "# if the passed iterators have different lengths,the iterator with the least items decides the length of the new iterator.\n",
    "\n",
    "\n",
    "a =[\"John\",\"peter\",\"nishant\"]\n",
    "b = [\"Jenny\",\"ashwin\"]\n",
    "\n",
    "list(zip(a,b))\n",
    "\n",
    "c = 'agnaslg'\n",
    "d ='lkslsangsalkg'\n",
    "list(zip(c,d))\n"
   ]
  },
  {
   "cell_type": "code",
   "execution_count": 75,
   "metadata": {},
   "outputs": [
    {
     "data": {
      "text/plain": [
       "{'One': 1, 'Two': 2, 'Three': 3, 'THree': 3}"
      ]
     },
     "execution_count": 75,
     "metadata": {},
     "output_type": "execute_result"
    }
   ],
   "source": [
    "num_list  = [1,2,3,3]\n",
    "str_list = [\"One\",\"Two\",\"Three\",\"THree\"]\n",
    "dict(zip(str_list,num_list))"
   ]
  },
  {
   "cell_type": "code",
   "execution_count": 74,
   "metadata": {},
   "outputs": [
    {
     "name": "stdout",
     "output_type": "stream",
     "text": [
      "{1, 2, 3}\n"
     ]
    }
   ],
   "source": [
    "my_result = set(num_list)\n",
    "print(my_result)"
   ]
  },
  {
   "cell_type": "code",
   "execution_count": 78,
   "metadata": {},
   "outputs": [
    {
     "name": "stdout",
     "output_type": "stream",
     "text": [
      "[(1, 'One'), (2, 'Two')]\n",
      "[(1, 'ONE', 'One'), (2, 'TWO', 'Two')]\n"
     ]
    }
   ],
   "source": [
    "numb_list = [1,2,3]\n",
    "str_list = ['One','Two']\n",
    "num_tupple = ('ONE','TWO','THREE')\n",
    "\n",
    "result  = list(zip(num_list,str_list))\n",
    "print(result)\n",
    "\n",
    "final_result = list(zip(num_list,num_tupple,str_list))\n",
    "print(final_result)"
   ]
  },
  {
   "cell_type": "code",
   "execution_count": 2,
   "metadata": {},
   "outputs": [
    {
     "data": {
      "text/plain": [
       "{0: 'P', 1: 'Y', 2: 'T', 3: 'H', 4: 'O', 5: 'N'}"
      ]
     },
     "execution_count": 2,
     "metadata": {},
     "output_type": "execute_result"
    }
   ],
   "source": [
    "# Enumerate\n",
    "s1 = 'PYTHON'\n",
    "dict(enumerate(s1))"
   ]
  },
  {
   "cell_type": "code",
   "execution_count": 81,
   "metadata": {},
   "outputs": [
    {
     "data": {
      "text/plain": [
       "[(-1, 'P'), (0, 'Y'), (1, 'T'), (2, 'H'), (3, 'O'), (4, 'N')]"
      ]
     },
     "execution_count": 81,
     "metadata": {},
     "output_type": "execute_result"
    }
   ],
   "source": [
    "list(enumerate(s1,-1))"
   ]
  },
  {
   "cell_type": "code",
   "execution_count": 83,
   "metadata": {},
   "outputs": [
    {
     "data": {
      "text/plain": [
       "[(5, 'DL'), (6, 'ML'), (7, 'NLP')]"
      ]
     },
     "execution_count": 83,
     "metadata": {},
     "output_type": "execute_result"
    }
   ],
   "source": [
    "l1 = [\"DL\",\"ML\",\"NLP\"]\n",
    "ls = list(enumerate(l1,5))\n",
    "ls"
   ]
  },
  {
   "cell_type": "code",
   "execution_count": 84,
   "metadata": {},
   "outputs": [
    {
     "data": {
      "text/plain": [
       "[(100, 'DL'), (101, 'ML'), (102, 'NLP')]"
      ]
     },
     "execution_count": 84,
     "metadata": {},
     "output_type": "execute_result"
    }
   ],
   "source": [
    "b = enumerate(s1)\n",
    "list(a)\n",
    "list(b)\n",
    "list(enumerate(l1,100))"
   ]
  },
  {
   "cell_type": "code",
   "execution_count": 87,
   "metadata": {},
   "outputs": [
    {
     "name": "stdout",
     "output_type": "stream",
     "text": [
      "DL 0\n",
      "ML 1\n"
     ]
    }
   ],
   "source": [
    "l1 = [\"DL\",\"ML\",\"NLP\"]\n",
    "for i,j in enumerate(l1):\n",
    "    if i<2:\n",
    "        print(j,i)\n"
   ]
  },
  {
   "cell_type": "code",
   "execution_count": 88,
   "metadata": {},
   "outputs": [
    {
     "data": {
      "text/plain": [
       "1010"
      ]
     },
     "execution_count": 88,
     "metadata": {},
     "output_type": "execute_result"
    }
   ],
   "source": [
    "# lambda Functions\n",
    "x = lambda a : a + 10 # lambda var : expression(annonymous)\n",
    "x(1000)"
   ]
  },
  {
   "cell_type": "code",
   "execution_count": 91,
   "metadata": {},
   "outputs": [
    {
     "data": {
      "text/plain": [
       "6"
      ]
     },
     "execution_count": 91,
     "metadata": {},
     "output_type": "execute_result"
    }
   ],
   "source": [
    "z = lambda a,b,c : a + b + c\n",
    "z(1,2,3)"
   ]
  },
  {
   "cell_type": "code",
   "execution_count": 94,
   "metadata": {},
   "outputs": [
    {
     "data": {
      "text/plain": [
       "3"
      ]
     },
     "execution_count": 94,
     "metadata": {},
     "output_type": "execute_result"
    }
   ],
   "source": [
    "ismail = lambda a,b,c : (a*b) // c\n",
    "ismail(2,3,2)"
   ]
  },
  {
   "cell_type": "markdown",
   "metadata": {},
   "source": [
    "# Class 12 ---- Functions (If and else Lambda)"
   ]
  },
  {
   "cell_type": "code",
   "execution_count": 4,
   "metadata": {},
   "outputs": [
    {
     "data": {
      "text/plain": [
       "36"
      ]
     },
     "execution_count": 4,
     "metadata": {},
     "output_type": "execute_result"
    }
   ],
   "source": [
    "a = lambda x: x**2 if x%2 == 0 else x\n",
    "a(6)"
   ]
  },
  {
   "cell_type": "code",
   "execution_count": 7,
   "metadata": {},
   "outputs": [
    {
     "data": {
      "text/plain": [
       "[2, 4, 6, 8]"
      ]
     },
     "execution_count": 7,
     "metadata": {},
     "output_type": "execute_result"
    }
   ],
   "source": [
    "# Map Function\n",
    "\n",
    "# syntax:-\n",
    "\n",
    "# map(fun,iter)\n",
    "\n",
    "# fun:- It is function to which map passes each element of given iterable\n",
    "# iter:- It is a iterable which is to be mapped.\n",
    "\n",
    "number = [1,2,3,4] \n",
    "list(map(lambda x : x+x,number))\n"
   ]
  },
  {
   "cell_type": "code",
   "execution_count": 8,
   "metadata": {},
   "outputs": [
    {
     "data": {
      "text/plain": [
       "[2, 4, 6, 8, 10]"
      ]
     },
     "execution_count": 8,
     "metadata": {},
     "output_type": "execute_result"
    }
   ],
   "source": [
    "def addition(n):\n",
    "    return (n+n)\n",
    "\n",
    "number = [1,2,3,4,5]\n",
    "list(map(addition,number))"
   ]
  },
  {
   "cell_type": "code",
   "execution_count": 8,
   "metadata": {},
   "outputs": [
    {
     "data": {
      "text/plain": [
       "[8, 13, 17, 25]"
      ]
     },
     "execution_count": 8,
     "metadata": {},
     "output_type": "execute_result"
    }
   ],
   "source": [
    "n1 =  [1,2,3,7]\n",
    "n2 = [4,5,6,8]\n",
    "n3 = [1,3,4,5]\n",
    "n4 = [2,3,4,5]\n",
    "\n",
    "result = map(lambda x,y,z,w : x + y + z +w , n1,n2,n3,n4)\n",
    "list(result)"
   ]
  },
  {
   "cell_type": "code",
   "execution_count": 5,
   "metadata": {},
   "outputs": [
    {
     "data": {
      "text/plain": [
       "['ALFRED', 'TABITHA', 'WILLIAM', 'ARLA']"
      ]
     },
     "execution_count": 5,
     "metadata": {},
     "output_type": "execute_result"
    }
   ],
   "source": [
    "my_pets = ['alfred','tabitha','william','arla']\n",
    "list(map(lambda x:x.upper(),my_pets))"
   ]
  },
  {
   "cell_type": "code",
   "execution_count": 11,
   "metadata": {},
   "outputs": [
    {
     "data": {
      "text/plain": [
       "[(1, 'axx'), (2, 'byy'), (3, 'czz'), (4, 'dww'), (5, 'edd')]"
      ]
     },
     "execution_count": 11,
     "metadata": {},
     "output_type": "execute_result"
    }
   ],
   "source": [
    "my_strings = ['a','b','c','d','e']\n",
    "my_numbers = [1,2,3,4,5]\n",
    "my_name = ['xx','yy','zz','ww','dd']\n",
    "\n",
    "result = map(lambda x,y,z:(y,x+z),my_strings,my_numbers,my_name)\n",
    "list(result)"
   ]
  },
  {
   "cell_type": "code",
   "execution_count": 14,
   "metadata": {},
   "outputs": [
    {
     "data": {
      "text/plain": [
       "{'anutforajaroftuna', 'madam'}"
      ]
     },
     "execution_count": 14,
     "metadata": {},
     "output_type": "execute_result"
    }
   ],
   "source": [
    "# Filter -- To extract something from the list or etc\n",
    "\n",
    "# Syntax: -\n",
    "    # filter(function,iterable)\n",
    "# filter() -- method returns an iterator that passed the fucntion check for each element in the iterable.\n",
    "\n",
    "dromes = ['demigod','rewire','madam','freer','anutforajaroftuna','kisosk']\n",
    "palidromes = set(filter(lambda x : x == x[::-1],dromes))\n",
    "palidromes"
   ]
  },
  {
   "cell_type": "code",
   "execution_count": 17,
   "metadata": {},
   "outputs": [
    {
     "name": "stdout",
     "output_type": "stream",
     "text": [
      "[4, 6]\n",
      "[1, 5, 7, 9]\n"
     ]
    }
   ],
   "source": [
    "my_list = [1,5,4,7,6,9]\n",
    "new_list_even = list(filter(lambda x : x % 2 == 0 , my_list))\n",
    "print(new_list_even)\n",
    "\n",
    "new_list_odd = list(filter(lambda x : x % 2 != 0 , my_list))\n",
    "print(new_list_odd)"
   ]
  },
  {
   "cell_type": "code",
   "execution_count": 7,
   "metadata": {},
   "outputs": [
    {
     "name": "stdout",
     "output_type": "stream",
     "text": [
      "['two', 'four']\n",
      "['ONE', 'THREE']\n",
      "['88', '99', '102']\n",
      "['one']\n",
      "['one', 'two2', 'three2', '88', '99', '102']\n"
     ]
    }
   ],
   "source": [
    "list1 = ['ONE','two','THREE','four']\n",
    "upper = list(filter(lambda x : x.isupper(),list1))\n",
    "lower = list(filter(lambda x : x.islower(),list1))\n",
    "\n",
    "print(lower)\n",
    "print(upper)\n",
    "\n",
    "list3 = ['one','two2','three2','88','99','102','###']\n",
    "numeric = list(filter(lambda x : x.isnumeric(),list3))\n",
    "alpha = list(filter(lambda x : x.isalpha(),list3))\n",
    "al_num = list(filter(lambda x : x.isalnum(),list3))\n",
    "\n",
    "print(numeric)\n",
    "print(alpha)\n",
    "print(al_num)"
   ]
  },
  {
   "cell_type": "code",
   "execution_count": 10,
   "metadata": {},
   "outputs": [
    {
     "name": "stdout",
     "output_type": "stream",
     "text": [
      "50\n"
     ]
    }
   ],
   "source": [
    "# Reduce Operator\n",
    "dobles = [2,6,10,14,18]\n",
    "\n",
    "from functools import reduce\n",
    "\n",
    "def add(a,b):\n",
    "    return a+b\n",
    "\n",
    "sum_all = reduce(add,dobles)\n",
    "print(sum_all)"
   ]
  },
  {
   "cell_type": "code",
   "execution_count": 12,
   "metadata": {},
   "outputs": [
    {
     "data": {
      "text/plain": [
       "50"
      ]
     },
     "execution_count": 12,
     "metadata": {},
     "output_type": "execute_result"
    }
   ],
   "source": [
    "sum_all = reduce(lambda a,b : a+b, dobles)\n",
    "sum_all\n"
   ]
  },
  {
   "cell_type": "code",
   "execution_count": 20,
   "metadata": {},
   "outputs": [
    {
     "name": "stdout",
     "output_type": "stream",
     "text": [
      "24\n",
      "10\n",
      "Python Rocks\n",
      "Hello!! Hello!! Hello!! \n",
      "1\n",
      "4\n"
     ]
    }
   ],
   "source": [
    "import operator\n",
    "d = [1,2,3,4]\n",
    "product  = reduce(operator.mul,d)\n",
    "print(product)\n",
    "\n",
    "add = reduce(operator.add,d)\n",
    "print(add)\n",
    "\n",
    "concat_str = reduce(operator.add,['Python',' ', 'Rocks'])\n",
    "print(concat_str)\n",
    "\n",
    "prod = reduce(operator.mul,['Hello!! ',3])\n",
    "print(prod)\n",
    "\n",
    "min_num = reduce(lambda a,b: a if a < b else b,d)\n",
    "print(min_num)\n",
    "\n",
    "max_num = reduce(lambda a,b: a if a > b else b,d)\n",
    "print(max_num)"
   ]
  },
  {
   "cell_type": "code",
   "execution_count": 30,
   "metadata": {},
   "outputs": [
    {
     "name": "stdout",
     "output_type": "stream",
     "text": [
      "False\n",
      "True\n",
      "False\n",
      "True\n"
     ]
    }
   ],
   "source": [
    "a = reduce(lambda a,b : bool(a and b), [0,0,1,0,1])\n",
    "print(a)\n",
    "\n",
    "b = reduce(lambda a,b : bool(a or b),[1,5,2,0,22,3])\n",
    "print(b)\n",
    "\n",
    "c = reduce(lambda a,b : bool(a and b),[1,5,2,0,22,3])\n",
    "print(c)\n",
    "\n",
    "d = reduce(lambda a,b : bool(a or b),[1,0,0,0,0,0])\n",
    "print(d)"
   ]
  },
  {
   "cell_type": "code",
   "execution_count": 33,
   "metadata": {},
   "outputs": [
    {
     "name": "stdout",
     "output_type": "stream",
     "text": [
      "9\n",
      "1\n"
     ]
    }
   ],
   "source": [
    "import pandas as pd\n",
    "\n",
    "pd.to_datetime(\"09-01-2024\")\n",
    "print(pd.to_datetime(\"09-01-2024\").month)\n",
    "print(pd.to_datetime(\"09-01-2024\").day)"
   ]
  },
  {
   "cell_type": "code",
   "execution_count": null,
   "metadata": {},
   "outputs": [],
   "source": []
  },
  {
   "cell_type": "code",
   "execution_count": null,
   "metadata": {},
   "outputs": [],
   "source": []
  },
  {
   "cell_type": "code",
   "execution_count": null,
   "metadata": {},
   "outputs": [],
   "source": []
  },
  {
   "cell_type": "code",
   "execution_count": null,
   "metadata": {},
   "outputs": [],
   "source": []
  },
  {
   "cell_type": "code",
   "execution_count": null,
   "metadata": {},
   "outputs": [],
   "source": []
  },
  {
   "cell_type": "code",
   "execution_count": null,
   "metadata": {},
   "outputs": [],
   "source": []
  },
  {
   "cell_type": "code",
   "execution_count": null,
   "metadata": {},
   "outputs": [],
   "source": []
  },
  {
   "cell_type": "code",
   "execution_count": null,
   "metadata": {},
   "outputs": [],
   "source": []
  },
  {
   "cell_type": "code",
   "execution_count": null,
   "metadata": {},
   "outputs": [],
   "source": []
  },
  {
   "cell_type": "code",
   "execution_count": null,
   "metadata": {},
   "outputs": [],
   "source": []
  },
  {
   "cell_type": "code",
   "execution_count": null,
   "metadata": {},
   "outputs": [],
   "source": []
  },
  {
   "cell_type": "code",
   "execution_count": null,
   "metadata": {},
   "outputs": [],
   "source": []
  },
  {
   "cell_type": "code",
   "execution_count": null,
   "metadata": {},
   "outputs": [],
   "source": []
  },
  {
   "cell_type": "code",
   "execution_count": null,
   "metadata": {},
   "outputs": [],
   "source": []
  },
  {
   "cell_type": "code",
   "execution_count": null,
   "metadata": {},
   "outputs": [],
   "source": []
  },
  {
   "cell_type": "code",
   "execution_count": null,
   "metadata": {},
   "outputs": [],
   "source": []
  },
  {
   "cell_type": "code",
   "execution_count": null,
   "metadata": {},
   "outputs": [],
   "source": []
  },
  {
   "cell_type": "code",
   "execution_count": null,
   "metadata": {},
   "outputs": [],
   "source": []
  },
  {
   "cell_type": "code",
   "execution_count": null,
   "metadata": {},
   "outputs": [],
   "source": []
  },
  {
   "cell_type": "code",
   "execution_count": null,
   "metadata": {},
   "outputs": [],
   "source": []
  },
  {
   "cell_type": "code",
   "execution_count": null,
   "metadata": {},
   "outputs": [],
   "source": []
  },
  {
   "cell_type": "code",
   "execution_count": null,
   "metadata": {},
   "outputs": [],
   "source": []
  },
  {
   "cell_type": "code",
   "execution_count": null,
   "metadata": {},
   "outputs": [],
   "source": []
  },
  {
   "cell_type": "code",
   "execution_count": null,
   "metadata": {},
   "outputs": [],
   "source": []
  },
  {
   "cell_type": "code",
   "execution_count": null,
   "metadata": {},
   "outputs": [],
   "source": []
  },
  {
   "cell_type": "code",
   "execution_count": null,
   "metadata": {},
   "outputs": [],
   "source": []
  },
  {
   "cell_type": "code",
   "execution_count": null,
   "metadata": {},
   "outputs": [],
   "source": []
  },
  {
   "cell_type": "code",
   "execution_count": null,
   "metadata": {},
   "outputs": [],
   "source": []
  },
  {
   "cell_type": "code",
   "execution_count": null,
   "metadata": {},
   "outputs": [],
   "source": []
  },
  {
   "cell_type": "code",
   "execution_count": null,
   "metadata": {},
   "outputs": [],
   "source": []
  },
  {
   "cell_type": "code",
   "execution_count": null,
   "metadata": {},
   "outputs": [],
   "source": []
  },
  {
   "cell_type": "code",
   "execution_count": null,
   "metadata": {},
   "outputs": [],
   "source": []
  },
  {
   "cell_type": "code",
   "execution_count": null,
   "metadata": {},
   "outputs": [],
   "source": []
  },
  {
   "cell_type": "code",
   "execution_count": null,
   "metadata": {},
   "outputs": [],
   "source": []
  }
 ],
 "metadata": {
  "kernelspec": {
   "display_name": "Python 3",
   "language": "python",
   "name": "python3"
  },
  "language_info": {
   "codemirror_mode": {
    "name": "ipython",
    "version": 3
   },
   "file_extension": ".py",
   "mimetype": "text/x-python",
   "name": "python",
   "nbconvert_exporter": "python",
   "pygments_lexer": "ipython3",
   "version": "3.12.3"
  }
 },
 "nbformat": 4,
 "nbformat_minor": 2
}
